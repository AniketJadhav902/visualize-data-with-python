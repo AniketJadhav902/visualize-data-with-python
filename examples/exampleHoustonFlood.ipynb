{
 "cells": [
  {
   "attachments": {},
   "cell_type": "markdown",
   "metadata": {
    "collapsed": true
   },
   "source": [
    "# STSA Data Visualization With Python\n",
    "\n",
    "<img width=\"700\" src=\"https://ibm.box.com/shared/static/gk8bni28qatazqhn6wpwyp8c06ogepcx.png\">\n",
    "\n",
    "NASA TERRA MODIS INFRARED IMAGE OF HARVEY AT 0419 UTC 26 AUGUST 2017 JUST AFTER LANDFALL AS A\n",
    "CATEGORY 4 HURRICANE IN TEXAS. IMAGE COURTESY OF UW/CIMSS.\n",
    "\n",
    "## A Jupyter Notebook used to visualize data from the Houston Flood of 2017 running on IBM Watson Studio\n",
    "\n",
    "### [Jupyter Notebook]( www.jupyter.org)\n",
    "An open-source web application that allows you to create and share documents that contain live code, equations, visualizations and narrative text. Uses include: data cleaning and transformation, numerical simulation, statistical modeling, data visualization, machine learning, and much more.\n",
    "\n",
    "### [IBM Watson Studio](https://www.ibm.com/cloud/watson-studio)\n",
    "Build and train AI & machine learning models, prepare and analyze data – all in a flexible, hybrid cloud environment\u000b",
    "IBM Watson Studio provides tools for data scientists, application developers and subject matter experts to collaboratively and easily work with data to build and train models at scale. It gives you the flexibility to build models where your data resides and deploy anywhere in a hybrid environment so you can operationalize data science faster.\n"
   ]
  },
  {
   "cell_type": "markdown",
   "metadata": {},
   "source": [
    "## Contents\n",
    "[1.0 Install dependencies and import packages](#install)  \n",
    "[2.0 Obtain and curate data](#obtain)  \n",
    "[3.0 Create Pixie App](#create)  \n",
    "[4.0 Use Folium for mapping](#folium)"
   ]
  },
  {
   "cell_type": "markdown",
   "metadata": {},
   "source": [
    "<a id=\"install\"></a>\n",
    "## 1.0 Install dependencies and import packages"
   ]
  },
  {
   "cell_type": "markdown",
   "metadata": {},
   "source": [
    "### 1.1 Install pixiedust\n",
    "\n",
    "We install the prerequisites using the `!pip install` syntax here.\n",
    "In some cases, running pip install from a notebook may require a one-time kernel restart. Check the output for messages.\n",
    "If instructed to restart the kernel, from the notebook toolbar menu: • Go to > Kernel > Restart • Click Restart in the confirmation dialog\n",
    "> Note: The status of the kernel briefly flashes near the upper right corner, alerting when it is Not Connected, Restarting, Ready, etc. "
   ]
  },
  {
   "cell_type": "code",
   "execution_count": 1,
   "metadata": {},
   "outputs": [
    {
     "name": "stdout",
     "output_type": "stream",
     "text": [
      "Waiting for a Spark session to start...\n",
      "Spark Initialization Done! ApplicationId = app-20190325183649-0000\n",
      "KERNEL_ID = 56ba09e4-0d7f-49ba-9b39-235400716caf\n",
      "Collecting pixiedust\n",
      "\u001b[?25l  Downloading https://files.pythonhosted.org/packages/7c/01/d2084c07fdc05aafeaecff74f5888280c55193cd16c3572bbcee12bbc008/pixiedust-1.1.15.tar.gz (197kB)\n",
      "\u001b[K    100% |################################| 204kB 3.8MB/s eta 0:00:01\n",
      "\u001b[?25hCollecting mpld3 (from pixiedust)\n",
      "\u001b[?25l  Downloading https://files.pythonhosted.org/packages/91/95/a52d3a83d0a29ba0d6898f6727e9858fe7a43f6c2ce81a5fe7e05f0f4912/mpld3-0.3.tar.gz (788kB)\n",
      "\u001b[K    100% |################################| 798kB 3.6MB/s eta 0:00:01\n",
      "\u001b[?25hCollecting lxml (from pixiedust)\n",
      "\u001b[?25l  Downloading https://files.pythonhosted.org/packages/a5/7d/b8a6d59c563a7b10ab97e0621af91badf892d0a3c5f3a68f5e3fa892c347/lxml-4.3.2-cp35-cp35m-manylinux1_x86_64.whl (5.6MB)\n",
      "\u001b[K    100% |################################| 5.6MB 2.3MB/s eta 0:00:01\n",
      "\u001b[?25hCollecting geojson (from pixiedust)\n",
      "  Downloading https://files.pythonhosted.org/packages/f1/34/bc3a65faabce27a7faa755ab08d811207a4fc438f77ef09c229fc022d778/geojson-2.4.1-py2.py3-none-any.whl\n",
      "Collecting astunparse (from pixiedust)\n",
      "  Downloading https://files.pythonhosted.org/packages/2e/37/5dd0dd89b87bb5f0f32a7e775458412c52d78f230ab8d0c65df6aabc4479/astunparse-1.6.2-py2.py3-none-any.whl\n",
      "Collecting markdown (from pixiedust)\n",
      "\u001b[?25l  Downloading https://files.pythonhosted.org/packages/7a/6b/5600647404ba15545ec37d2f7f58844d690baf2f81f3a60b862e48f29287/Markdown-3.0.1-py2.py3-none-any.whl (89kB)\n",
      "\u001b[K    100% |################################| 92kB 4.4MB/s eta 0:00:01\n",
      "\u001b[?25hCollecting colour (from pixiedust)\n",
      "  Downloading https://files.pythonhosted.org/packages/74/46/e81907704ab203206769dee1385dc77e1407576ff8f50a0681d0a6b541be/colour-0.1.5-py2.py3-none-any.whl\n",
      "Collecting requests (from pixiedust)\n",
      "\u001b[?25l  Downloading https://files.pythonhosted.org/packages/7d/e3/20f3d364d6c8e5d2353c72a67778eb189176f08e873c9900e10c0287b84b/requests-2.21.0-py2.py3-none-any.whl (57kB)\n",
      "\u001b[K    100% |################################| 61kB 2.7MB/s eta 0:00:01\n",
      "\u001b[?25hCollecting wheel<1.0,>=0.23.0 (from astunparse->pixiedust)\n",
      "  Downloading https://files.pythonhosted.org/packages/96/ba/a4702cbb6a3a485239fbe9525443446203f00771af9ac000fa3ef2788201/wheel-0.33.1-py2.py3-none-any.whl\n",
      "Collecting six<2.0,>=1.6.1 (from astunparse->pixiedust)\n",
      "  Downloading https://files.pythonhosted.org/packages/73/fb/00a976f728d0d1fecfe898238ce23f502a721c0ac0ecfedb80e0d88c64e9/six-1.12.0-py2.py3-none-any.whl\n",
      "Collecting idna<2.9,>=2.5 (from requests->pixiedust)\n",
      "\u001b[?25l  Downloading https://files.pythonhosted.org/packages/14/2c/cd551d81dbe15200be1cf41cd03869a46fe7226e7450af7a6545bfc474c9/idna-2.8-py2.py3-none-any.whl (58kB)\n",
      "\u001b[K    100% |################################| 61kB 2.5MB/s eta 0:00:01\n",
      "\u001b[?25hCollecting urllib3<1.25,>=1.21.1 (from requests->pixiedust)\n",
      "\u001b[?25l  Downloading https://files.pythonhosted.org/packages/62/00/ee1d7de624db8ba7090d1226aebefab96a2c71cd5cfa7629d6ad3f61b79e/urllib3-1.24.1-py2.py3-none-any.whl (118kB)\n",
      "\u001b[K    100% |################################| 122kB 4.4MB/s eta 0:00:01\n",
      "\u001b[?25hCollecting certifi>=2017.4.17 (from requests->pixiedust)\n",
      "\u001b[?25l  Downloading https://files.pythonhosted.org/packages/60/75/f692a584e85b7eaba0e03827b3d51f45f571c2e793dd731e598828d380aa/certifi-2019.3.9-py2.py3-none-any.whl (158kB)\n",
      "\u001b[K    100% |################################| 163kB 4.0MB/s eta 0:00:01\n",
      "\u001b[?25hCollecting chardet<3.1.0,>=3.0.2 (from requests->pixiedust)\n",
      "\u001b[?25l  Downloading https://files.pythonhosted.org/packages/bc/a9/01ffebfb562e4274b6487b4bb1ddec7ca55ec7510b22e4c51f14098443b8/chardet-3.0.4-py2.py3-none-any.whl (133kB)\n",
      "\u001b[K    100% |################################| 143kB 4.8MB/s eta 0:00:01\n",
      "\u001b[?25hBuilding wheels for collected packages: pixiedust, mpld3\n",
      "  Running setup.py bdist_wheel for pixiedust ... \u001b[?25ldone\n",
      "\u001b[?25h  Stored in directory: /home/spark/shared/.cache/pip/wheels/ee/53/a8/7a2ed392a416ec3eaa4eef4f49c2e9c6c9587c8e3cec9ec3a6\n",
      "  Running setup.py bdist_wheel for mpld3 ... \u001b[?25ldone\n",
      "\u001b[?25h  Stored in directory: /home/spark/shared/.cache/pip/wheels/c0/47/fb/8a64f89aecfe0059830479308ad42d62e898a3e3cefdf6ba28\n",
      "Successfully built pixiedust mpld3\n",
      "\u001b[31mpyspark 2.3.0 requires py4j==0.10.6, which is not installed.\u001b[0m\n",
      "\u001b[31mtensorflow 1.3.0 requires tensorflow-tensorboard<0.2.0,>=0.1.0, which is not installed.\u001b[0m\n",
      "Installing collected packages: mpld3, lxml, geojson, wheel, six, astunparse, markdown, colour, idna, urllib3, certifi, chardet, requests, pixiedust\n",
      "Successfully installed astunparse-1.6.2 certifi-2019.3.9 chardet-3.0.4 colour-0.1.5 geojson-2.4.1 idna-2.8 lxml-4.3.2 markdown-3.0.1 mpld3-0.3 pixiedust-1.1.15 requests-2.21.0 six-1.12.0 urllib3-1.24.1 wheel-0.33.1\n"
     ]
    }
   ],
   "source": [
    "!pip install --upgrade pixiedust"
   ]
  },
  {
   "cell_type": "markdown",
   "metadata": {},
   "source": [
    "### 1.2 Import the packages\n",
    "Numpy is a package for scientific computing in Python.  \n",
    "Pandas helps with data structures.  \n",
    "[Pixiedust](https://pixiedust.github.io/pixiedust/) is a Python helper library for Jupyter notebooks."
   ]
  },
  {
   "cell_type": "code",
   "execution_count": 2,
   "metadata": {},
   "outputs": [
    {
     "name": "stdout",
     "output_type": "stream",
     "text": [
      "Pixiedust database opened successfully\n",
      "Table VERSION_TRACKER created successfully\n",
      "Table METRICS_TRACKER created successfully\n",
      "\n",
      "Share anonymous install statistics? (opt-out instructions)\n",
      "\n",
      "PixieDust will record metadata on its environment the next time the package is installed or updated. The data is anonymized and aggregated to help plan for future releases, and records only the following values:\n",
      "\n",
      "{\n",
      "   \"data_sent\": currentDate,\n",
      "   \"runtime\": \"python\",\n",
      "   \"application_version\": currentPixiedustVersion,\n",
      "   \"space_id\": nonIdentifyingUniqueId,\n",
      "   \"config\": {\n",
      "       \"repository_id\": \"https://github.com/ibm-watson-data-lab/pixiedust\",\n",
      "       \"target_runtimes\": [\"Data Science Experience\"],\n",
      "       \"event_id\": \"web\",\n",
      "       \"event_organizer\": \"dev-journeys\"\n",
      "   }\n",
      "}\n",
      "You can opt out by calling pixiedust.optOut() in a new cell.\n"
     ]
    },
    {
     "data": {
      "text/html": [
       "\n",
       "        <div style=\"margin:10px\">\n",
       "            <a href=\"https://github.com/ibm-watson-data-lab/pixiedust\" target=\"_new\">\n",
       "                <img src=\"https://github.com/ibm-watson-data-lab/pixiedust/raw/master/docs/_static/pd_icon32.png\" style=\"float:left;margin-right:10px\"/>\n",
       "            </a>\n",
       "            <span>Pixiedust version 1.1.14</span>\n",
       "        </div>\n",
       "        "
      ],
      "text/plain": [
       "<IPython.core.display.HTML object>"
      ]
     },
     "metadata": {},
     "output_type": "display_data"
    },
    {
     "name": "stdout",
     "output_type": "stream",
     "text": [
      "\u001b[31mPixiedust runtime updated. Please restart kernel\u001b[0m\n",
      "Table SPARK_PACKAGES created successfully\n",
      "Table USER_PREFERENCES created successfully\n",
      "Table service_connections created successfully\n"
     ]
    },
    {
     "data": {
      "text/html": [
       "<div>Warning: You are not running the latest version of PixieDust. Current is 1.1.14, Latest is 1.1.15</div>"
      ],
      "text/plain": [
       "<IPython.core.display.HTML object>"
      ]
     },
     "metadata": {},
     "output_type": "display_data"
    },
    {
     "data": {
      "text/html": [
       "\n",
       "                <div>Please copy and run the following command in a new cell to upgrade: <span style=\"background-color:#ececec;font-family:monospace;padding:0 5px\">!pip install --user --upgrade pixiedust</span></div>\n",
       "            "
      ],
      "text/plain": [
       "<IPython.core.display.HTML object>"
      ]
     },
     "metadata": {},
     "output_type": "display_data"
    },
    {
     "data": {
      "text/html": [
       "<div>Please restart kernel after upgrading.</div>"
      ],
      "text/plain": [
       "<IPython.core.display.HTML object>"
      ]
     },
     "metadata": {},
     "output_type": "display_data"
    }
   ],
   "source": [
    "import pandas as pd\n",
    "\n",
    "import pixiedust"
   ]
  },
  {
   "cell_type": "markdown",
   "metadata": {},
   "source": [
    "<a id=\"obtain\"></a>\n",
    "## 2.0 Obtain and curate data"
   ]
  },
  {
   "cell_type": "markdown",
   "metadata": {},
   "source": [
    "In order to do data science, or data engineering, we'll need some data.\n",
    "So, what problem are we trying to solve?\n",
    "\n",
    "### Where in Houston does flooding occur, and which specific adresses are vulnerable?"
   ]
  },
  {
   "cell_type": "markdown",
   "metadata": {},
   "source": [
    "### 2.1 Search for data\n",
    "We are interested in the flooding in Houston on August, 2017, as a result of Hurricane Harvey.\n",
    "Using a search engine, we can try `houston flood 2017 data`.  \n",
    "That gave many results, mostly news stories. But there are some promising sites, many from US government agencies:  \n",
    "* https://www.weather.gov\n",
    "* https://txpub.usgs.gov/floodwatch/#page-top\n",
    "* https://water.weather.gov/ahps2/index.php?wfo=hgx\n",
    "* https://www.nhc.noaa.gov/data/tcr/AL092017_Harvey.pdf\n",
    "* https://stn.wim.usgs.gov/STNDataPortal/#\n",
    "* https://streamstats.usgs.gov/ss/\n",
    "\n",
    "That's just the beginning, but hopefully it can lead to some data we can use."
   ]
  },
  {
   "cell_type": "markdown",
   "metadata": {},
   "source": [
    "### 2.2 Download and examine data\n",
    "We'll look at some data from stream gauges in Houston, gathering historical data from the dates 8/23/2017 - 8/31/2017.  \n",
    "I've grabbed the data for one stream gauge in the Houston Beltway area, Hunting Bayou, from the [waterdata.usgs.gov](https://waterdata.usgs.gov/nwis/nwismap/?site_no=08075763&agency_cd=USGS) site."
   ]
  },
  {
   "cell_type": "code",
   "execution_count": 3,
   "metadata": {},
   "outputs": [
    {
     "name": "stdout",
     "output_type": "stream",
     "text": [
      "--2019-03-25 18:37:28--  https://ibm.box.com/shared/static/vtw86pvek6zeqtt64hfubc4cb03aj83y.csv\n",
      "Resolving ibm.box.com (ibm.box.com)... 107.152.27.197\n",
      "Connecting to ibm.box.com (ibm.box.com)|107.152.27.197|:443... connected.\n",
      "HTTP request sent, awaiting response... 301 Moved Permanently\n",
      "Location: /public/static/vtw86pvek6zeqtt64hfubc4cb03aj83y.csv [following]\n",
      "--2019-03-25 18:37:28--  https://ibm.box.com/public/static/vtw86pvek6zeqtt64hfubc4cb03aj83y.csv\n",
      "Reusing existing connection to ibm.box.com:443.\n",
      "HTTP request sent, awaiting response... 301 Moved Permanently\n",
      "Location: https://ibm.ent.box.com/public/static/vtw86pvek6zeqtt64hfubc4cb03aj83y.csv [following]\n",
      "--2019-03-25 18:37:28--  https://ibm.ent.box.com/public/static/vtw86pvek6zeqtt64hfubc4cb03aj83y.csv\n",
      "Resolving ibm.ent.box.com (ibm.ent.box.com)... 107.152.24.211, 107.152.25.211\n",
      "Connecting to ibm.ent.box.com (ibm.ent.box.com)|107.152.24.211|:443... connected.\n",
      "HTTP request sent, awaiting response... 302 Found\n",
      "Location: https://public.boxcloud.com/d/1/b1!SWa7L11NYW28L0E745jF3XhnLXb5C67OePG9nyivyHmMs5KYZV5AvGKIrzmrdUEsLJIX55KNEqHOgjoto4RcnnWHRr2V7PN0gffn0y4sUiYbPnSmsRDE4igw1H35zW4mJCe8u9ow4Qnqp70VALWs2Ceul9jijUcDIemYmKFqevemr1bpanA6fkHMj6NVnRNCl3tWIp1_OMAAEO7TN_yLUou3dihboiO35axDYduYc1h0I1Hwy4X8BD5ruZZOl9a6n-kcQXEewkqAL4h5NHV1cF4FfmRv03ku1_C5xXevuG91XIQyUIVU4HRfLdcOifTqe15NXobZghCsCnf3YtW9OaUPTQPkP9IbctvQ60ElRpSM67WHdSn9Ue3sUwOFBz237AS4qFU6YpBtu5Ur_jVNm9DpDuYFf7DFpDx-uwMQtxz07ILIwHF30nV1elQez22W1Iu7CizZpGnSYxSQVA4GzsALkjw6SQgX75432uZdQ8CDydMn2hG41B8geXqzyyvxhvcymEDhJBKkoOtyAboQ_V-zU69Miw9aBEwuY88QDh8PVFXJq6x9ZkLmJ8TjHCLm5_JdsJG5ajyOKSD4g4w9-PIlsR_v3W1pxDe_6oV2bcUbv26xixgvp0sRvMauQCVqhEgtWMfYkg0nqfa5m-vJQuFaZeZmydVFulliwSRxSXq9otI-yAbaCWZlJ7SLtbvZ7oMXSeD7nUGAWLmfLVFOzIz0TFjZmhZFd_ED2qdpPe_au5lFj1CZk7cz74xDaBgTyiGZt7N3FDnycuVID2ErfXVdikZr1tSNK6ferW6-oBHl9GhS2kR5rY-6sybxrRGtY_ug1wB8kSh9NtE8G5n0DAU6uEZwX3W8-i8M6evpaC4bf76jtaxz2meq4lmQ_mQHsMfjCpQmixkRMPqgHuBgt14e4ux_nXJTexOxQrm0qGcw5wbVtLwrL3mQB4HJYgGfipxB9X3ew_BHPQKFlCgLIkqxvvOHNCJK9djLghqZ-zEsZiQp8VbHzRsHEyYARI6TJ_74S-mA3pdjgB8fRFKQC6xnBa4WkhHtzcna-Xmal2B9cUruWB0b2DQzCtPLsk_jIuKZDVfxxXH1KP1AxJt1h7tswrar_3W96dYVGGGEi0fDza3b-JLUNAuAzrR9FweTT-VkDa3EAqVXjNbSKEpHRx2P9lLHhEoFnVx_1bmr454GiiYweR43X7SpG7MTktG17GcnGQbLVvKlTBHLkPjmFgYl8FYwo50vKBcEX62gXjxi36_F3dud0_mNgYVAOYVi84euZLnO69s_v8VobRPtlDMBA836hch8IuV4sfcfLwZT9wA1fiXuHsTqKadSb6xoPMb5wgZsDWJqQDB4Kd3BgGFySYcN0LnEodIczXh9F9Alow44bBlpqXBofD-SuhXFuwQPsxZgOjcNbZUcBetdHd4./download [following]\n",
      "--2019-03-25 18:37:29--  https://public.boxcloud.com/d/1/b1!SWa7L11NYW28L0E745jF3XhnLXb5C67OePG9nyivyHmMs5KYZV5AvGKIrzmrdUEsLJIX55KNEqHOgjoto4RcnnWHRr2V7PN0gffn0y4sUiYbPnSmsRDE4igw1H35zW4mJCe8u9ow4Qnqp70VALWs2Ceul9jijUcDIemYmKFqevemr1bpanA6fkHMj6NVnRNCl3tWIp1_OMAAEO7TN_yLUou3dihboiO35axDYduYc1h0I1Hwy4X8BD5ruZZOl9a6n-kcQXEewkqAL4h5NHV1cF4FfmRv03ku1_C5xXevuG91XIQyUIVU4HRfLdcOifTqe15NXobZghCsCnf3YtW9OaUPTQPkP9IbctvQ60ElRpSM67WHdSn9Ue3sUwOFBz237AS4qFU6YpBtu5Ur_jVNm9DpDuYFf7DFpDx-uwMQtxz07ILIwHF30nV1elQez22W1Iu7CizZpGnSYxSQVA4GzsALkjw6SQgX75432uZdQ8CDydMn2hG41B8geXqzyyvxhvcymEDhJBKkoOtyAboQ_V-zU69Miw9aBEwuY88QDh8PVFXJq6x9ZkLmJ8TjHCLm5_JdsJG5ajyOKSD4g4w9-PIlsR_v3W1pxDe_6oV2bcUbv26xixgvp0sRvMauQCVqhEgtWMfYkg0nqfa5m-vJQuFaZeZmydVFulliwSRxSXq9otI-yAbaCWZlJ7SLtbvZ7oMXSeD7nUGAWLmfLVFOzIz0TFjZmhZFd_ED2qdpPe_au5lFj1CZk7cz74xDaBgTyiGZt7N3FDnycuVID2ErfXVdikZr1tSNK6ferW6-oBHl9GhS2kR5rY-6sybxrRGtY_ug1wB8kSh9NtE8G5n0DAU6uEZwX3W8-i8M6evpaC4bf76jtaxz2meq4lmQ_mQHsMfjCpQmixkRMPqgHuBgt14e4ux_nXJTexOxQrm0qGcw5wbVtLwrL3mQB4HJYgGfipxB9X3ew_BHPQKFlCgLIkqxvvOHNCJK9djLghqZ-zEsZiQp8VbHzRsHEyYARI6TJ_74S-mA3pdjgB8fRFKQC6xnBa4WkhHtzcna-Xmal2B9cUruWB0b2DQzCtPLsk_jIuKZDVfxxXH1KP1AxJt1h7tswrar_3W96dYVGGGEi0fDza3b-JLUNAuAzrR9FweTT-VkDa3EAqVXjNbSKEpHRx2P9lLHhEoFnVx_1bmr454GiiYweR43X7SpG7MTktG17GcnGQbLVvKlTBHLkPjmFgYl8FYwo50vKBcEX62gXjxi36_F3dud0_mNgYVAOYVi84euZLnO69s_v8VobRPtlDMBA836hch8IuV4sfcfLwZT9wA1fiXuHsTqKadSb6xoPMb5wgZsDWJqQDB4Kd3BgGFySYcN0LnEodIczXh9F9Alow44bBlpqXBofD-SuhXFuwQPsxZgOjcNbZUcBetdHd4./download\n",
      "Resolving public.boxcloud.com (public.boxcloud.com)... 107.152.24.200, 107.152.25.200\n",
      "Connecting to public.boxcloud.com (public.boxcloud.com)|107.152.24.200|:443... connected.\n",
      "HTTP request sent, awaiting response... 200 OK\n",
      "Length: 43511 (42K) [text/csv]\n",
      "Saving to: 'vtw86pvek6zeqtt64hfubc4cb03aj83y.csv'\n",
      "\n",
      "vtw86pvek6zeqtt64hf 100%[===================>]  42.49K  --.-KB/s    in 0.08s   \n",
      "\n",
      "2019-03-25 18:37:29 (533 KB/s) - 'vtw86pvek6zeqtt64hfubc4cb03aj83y.csv' saved [43511/43511]\n",
      "\n",
      "HuntingBayou  logs  pixiedust.db  spark-events\tuser-libs\n"
     ]
    }
   ],
   "source": [
    "!wget \"https://ibm.box.com/shared/static/vtw86pvek6zeqtt64hfubc4cb03aj83y.csv\"\n",
    "!mv vtw86pvek6zeqtt64hfubc4cb03aj83y.csv HuntingBayou\n",
    "!ls"
   ]
  },
  {
   "cell_type": "markdown",
   "metadata": {},
   "source": [
    "#### 2.3 First, let's look at the header to the file (which I've peeked at in an editor). This gives us some info on the contents:"
   ]
  },
  {
   "cell_type": "code",
   "execution_count": 4,
   "metadata": {},
   "outputs": [
    {
     "name": "stdout",
     "output_type": "stream",
     "text": [
      "# ---------------------------------- WARNING ----------------------------------------\r\n",
      "# Some of the data that you have obtained from this U.S. Geological Survey database\r\n",
      "# may not have received Director's approval. Any such data values are qualified\r\n",
      "# as provisional and are subject to revision. Provisional data are released on the\r\n",
      "# condition that neither the USGS nor the United States Government may be held liable\r\n",
      "# for any damages resulting from its use.\r\n",
      "#\r\n",
      "# Additional info: https://help.waterdata.usgs.gov/policies/provisional-data-statement\r\n",
      "#\r\n",
      "# File-format description:  https://help.waterdata.usgs.gov/faq/about-tab-delimited-output\r\n",
      "# Automated-retrieval info: https://help.waterdata.usgs.gov/faq/automated-retrievals\r\n",
      "#\r\n",
      "# Contact:   gs-w_support_nwisweb@usgs.gov\r\n",
      "# retrieved: 2019-02-27 16:27:28 EST       (nadww01)\r\n",
      "#\r\n",
      "# Data for the following 1 site(s) are contained in this file\r\n",
      "#    USGS 08075770 Hunting Bayou at IH 610, Houston, TX\r\n",
      "# -----------------------------------------------------------------------------------\r\n",
      "#\r\n",
      "# Data provided for site 08075770\r\n",
      "#            TS   parameter     Description\r\n",
      "#        140488       00060     Discharge, cubic feet per second\r\n",
      "#        140489       00065     Gage height, feet\r\n",
      "#\r\n",
      "# Data-value qualification codes included in this output:\r\n",
      "#\r\n",
      "#     A  Approved for publication -- Processing and review completed.\r\n",
      "#     e  Value has been estimated.\r\n",
      "#\r\n",
      "agency_cd\tsite_no\tdatetime\ttz_cd\t140488_00060\t140488_00060_cd\t140489_00065\t140489_00065_cd\r\n",
      "5s\t15s\t20d\t6s\t14n\t10s\t14n\t10s\r\n",
      "USGS\t08075770\t2017-08-23 00:00\tCDT\t7.92\tA\t17.23\tA\r\n",
      "USGS\t08075770\t2017-08-23 00:15\tCDT\t7.92\tA\t17.23\tA\r\n",
      "USGS\t08075770\t2017-08-23 00:30\tCDT\t7.92\tA\t17.23\tA\r\n",
      "USGS\t08075770\t2017-08-23 00:45\tCDT\t7.92\tA\t17.23\tA\r\n"
     ]
    }
   ],
   "source": [
    "! head -n 35 HuntingBayou"
   ]
  },
  {
   "cell_type": "markdown",
   "metadata": {},
   "source": [
    "#### 2.4 Look at the pandas dataframe \n",
    "I see from the header that I need to skip the first 29 rows (rows 0-28), that the data is tab separated, and the header begins on the 30th line (line 29)."
   ]
  },
  {
   "cell_type": "code",
   "execution_count": 5,
   "metadata": {},
   "outputs": [],
   "source": [
    "df = pd.read_csv('HuntingBayou',sep='\\t',skiprows=(0-28),header=(29))"
   ]
  },
  {
   "cell_type": "code",
   "execution_count": 6,
   "metadata": {
    "scrolled": true
   },
   "outputs": [
    {
     "data": {
      "text/html": [
       "<div>\n",
       "<style scoped>\n",
       "    .dataframe tbody tr th:only-of-type {\n",
       "        vertical-align: middle;\n",
       "    }\n",
       "\n",
       "    .dataframe tbody tr th {\n",
       "        vertical-align: top;\n",
       "    }\n",
       "\n",
       "    .dataframe thead th {\n",
       "        text-align: right;\n",
       "    }\n",
       "</style>\n",
       "<table border=\"1\" class=\"dataframe\">\n",
       "  <thead>\n",
       "    <tr style=\"text-align: right;\">\n",
       "      <th></th>\n",
       "      <th>agency_cd</th>\n",
       "      <th>site_no</th>\n",
       "      <th>datetime</th>\n",
       "      <th>tz_cd</th>\n",
       "      <th>140488_00060</th>\n",
       "      <th>140488_00060_cd</th>\n",
       "      <th>140489_00065</th>\n",
       "      <th>140489_00065_cd</th>\n",
       "    </tr>\n",
       "  </thead>\n",
       "  <tbody>\n",
       "    <tr>\n",
       "      <th>0</th>\n",
       "      <td>5s</td>\n",
       "      <td>15s</td>\n",
       "      <td>20d</td>\n",
       "      <td>6s</td>\n",
       "      <td>14n</td>\n",
       "      <td>10s</td>\n",
       "      <td>14n</td>\n",
       "      <td>10s</td>\n",
       "    </tr>\n",
       "    <tr>\n",
       "      <th>1</th>\n",
       "      <td>USGS</td>\n",
       "      <td>08075770</td>\n",
       "      <td>2017-08-23 00:00</td>\n",
       "      <td>CDT</td>\n",
       "      <td>7.92</td>\n",
       "      <td>A</td>\n",
       "      <td>17.23</td>\n",
       "      <td>A</td>\n",
       "    </tr>\n",
       "    <tr>\n",
       "      <th>2</th>\n",
       "      <td>USGS</td>\n",
       "      <td>08075770</td>\n",
       "      <td>2017-08-23 00:15</td>\n",
       "      <td>CDT</td>\n",
       "      <td>7.92</td>\n",
       "      <td>A</td>\n",
       "      <td>17.23</td>\n",
       "      <td>A</td>\n",
       "    </tr>\n",
       "    <tr>\n",
       "      <th>3</th>\n",
       "      <td>USGS</td>\n",
       "      <td>08075770</td>\n",
       "      <td>2017-08-23 00:30</td>\n",
       "      <td>CDT</td>\n",
       "      <td>7.92</td>\n",
       "      <td>A</td>\n",
       "      <td>17.23</td>\n",
       "      <td>A</td>\n",
       "    </tr>\n",
       "    <tr>\n",
       "      <th>4</th>\n",
       "      <td>USGS</td>\n",
       "      <td>08075770</td>\n",
       "      <td>2017-08-23 00:45</td>\n",
       "      <td>CDT</td>\n",
       "      <td>7.92</td>\n",
       "      <td>A</td>\n",
       "      <td>17.23</td>\n",
       "      <td>A</td>\n",
       "    </tr>\n",
       "  </tbody>\n",
       "</table>\n",
       "</div>"
      ],
      "text/plain": [
       "  agency_cd   site_no          datetime tz_cd 140488_00060 140488_00060_cd  \\\n",
       "0        5s       15s               20d    6s          14n             10s   \n",
       "1      USGS  08075770  2017-08-23 00:00   CDT         7.92               A   \n",
       "2      USGS  08075770  2017-08-23 00:15   CDT         7.92               A   \n",
       "3      USGS  08075770  2017-08-23 00:30   CDT         7.92               A   \n",
       "4      USGS  08075770  2017-08-23 00:45   CDT         7.92               A   \n",
       "\n",
       "  140489_00065 140489_00065_cd  \n",
       "0          14n             10s  \n",
       "1        17.23               A  \n",
       "2        17.23               A  \n",
       "3        17.23               A  \n",
       "4        17.23               A  "
      ]
     },
     "execution_count": 6,
     "metadata": {},
     "output_type": "execute_result"
    }
   ],
   "source": [
    "df.head()"
   ]
  },
  {
   "cell_type": "markdown",
   "metadata": {},
   "source": [
    "##### 2.5 Do some data frame cleanup\n",
    "What's with the extra fields on line 0? Let's delete that line."
   ]
  },
  {
   "cell_type": "code",
   "execution_count": 7,
   "metadata": {},
   "outputs": [],
   "source": [
    "df = df.drop(0)"
   ]
  },
  {
   "cell_type": "markdown",
   "metadata": {},
   "source": [
    "We can rename those obscure column names, to give them a name that represents the data:"
   ]
  },
  {
   "cell_type": "code",
   "execution_count": 8,
   "metadata": {},
   "outputs": [],
   "source": [
    "df.rename(columns={'140488_00060': 'Discharge(cfs)', '140489_00065': 'GuageHeight(feet)'}, inplace=True)"
   ]
  },
  {
   "cell_type": "markdown",
   "metadata": {},
   "source": [
    "Let's replace the `site_no` with a `site_name` for `HuntingBayou`:"
   ]
  },
  {
   "cell_type": "code",
   "execution_count": 9,
   "metadata": {},
   "outputs": [],
   "source": [
    "df.rename(columns={'site_no': 'site_name'}, inplace=True)\n",
    "df['site_name'].replace(\"08075770\", \"HuntingBayou\", inplace=True)"
   ]
  },
  {
   "cell_type": "markdown",
   "metadata": {},
   "source": [
    "We don't care about the first `agency_cd` column, which is `USGS`, so let's drop it. The same goes for the `140488_00060_cd`, `140489_00065_cd`, and `tz_cd` columns. The `axis=1` denotes that this is a column."
   ]
  },
  {
   "cell_type": "code",
   "execution_count": 10,
   "metadata": {},
   "outputs": [],
   "source": [
    "df.drop(['agency_cd', '140488_00060_cd', '140489_00065_cd', 'tz_cd'], axis=1, inplace=True)"
   ]
  },
  {
   "cell_type": "markdown",
   "metadata": {},
   "source": [
    "Our `Discharge` and `GuageHeight` data are strings, but we need them to be floats. We'll convert them"
   ]
  },
  {
   "cell_type": "code",
   "execution_count": 11,
   "metadata": {},
   "outputs": [
    {
     "name": "stderr",
     "output_type": "stream",
     "text": [
      "/opt/ibm/conda/miniconda3/lib/python3.5/site-packages/ipykernel/__main__.py:1: FutureWarning: convert_objects is deprecated.  To re-infer data dtypes for object columns, use Series.infer_objects()\n",
      "For all other conversions use the data-type specific converters pd.to_datetime, pd.to_timedelta and pd.to_numeric.\n",
      "  if __name__ == '__main__':\n",
      "/opt/ibm/conda/miniconda3/lib/python3.5/site-packages/ipykernel/__main__.py:2: FutureWarning: convert_objects is deprecated.  To re-infer data dtypes for object columns, use Series.infer_objects()\n",
      "For all other conversions use the data-type specific converters pd.to_datetime, pd.to_timedelta and pd.to_numeric.\n",
      "  from ipykernel import kernelapp as app\n"
     ]
    }
   ],
   "source": [
    "df['GuageHeight(feet)'] = df['GuageHeight(feet)'].convert_objects(convert_numeric=True)\n",
    "df['Discharge(cfs)'] = df['Discharge(cfs)'].convert_objects(convert_numeric=True)"
   ]
  },
  {
   "cell_type": "markdown",
   "metadata": {},
   "source": [
    "Our datetime has the year 2017 for all fields, but our graphs will be cleaner if we skip it"
   ]
  },
  {
   "cell_type": "code",
   "execution_count": 12,
   "metadata": {},
   "outputs": [],
   "source": [
    "df['datetime'] = df['datetime'].map(lambda x: x.lstrip('2017-'))"
   ]
  },
  {
   "cell_type": "markdown",
   "metadata": {},
   "source": [
    "And finally, we can get the latitude and longitude for this stream gauge at Hunting Bayou, so let's add a couple columnns with that data, to allow this to show up on a map."
   ]
  },
  {
   "cell_type": "code",
   "execution_count": 13,
   "metadata": {},
   "outputs": [],
   "source": [
    "df['latitude']='29.808611'\n",
    "df['longitude']='-95.313056'"
   ]
  },
  {
   "cell_type": "markdown",
   "metadata": {},
   "source": [
    "Now we can see our results."
   ]
  },
  {
   "cell_type": "code",
   "execution_count": 14,
   "metadata": {
    "scrolled": true
   },
   "outputs": [
    {
     "data": {
      "text/html": [
       "<div>\n",
       "<style scoped>\n",
       "    .dataframe tbody tr th:only-of-type {\n",
       "        vertical-align: middle;\n",
       "    }\n",
       "\n",
       "    .dataframe tbody tr th {\n",
       "        vertical-align: top;\n",
       "    }\n",
       "\n",
       "    .dataframe thead th {\n",
       "        text-align: right;\n",
       "    }\n",
       "</style>\n",
       "<table border=\"1\" class=\"dataframe\">\n",
       "  <thead>\n",
       "    <tr style=\"text-align: right;\">\n",
       "      <th></th>\n",
       "      <th>site_name</th>\n",
       "      <th>datetime</th>\n",
       "      <th>Discharge(cfs)</th>\n",
       "      <th>GuageHeight(feet)</th>\n",
       "      <th>latitude</th>\n",
       "      <th>longitude</th>\n",
       "    </tr>\n",
       "  </thead>\n",
       "  <tbody>\n",
       "    <tr>\n",
       "      <th>1</th>\n",
       "      <td>HuntingBayou</td>\n",
       "      <td>8-23 00:00</td>\n",
       "      <td>7.92</td>\n",
       "      <td>17.23</td>\n",
       "      <td>29.808611</td>\n",
       "      <td>-95.313056</td>\n",
       "    </tr>\n",
       "    <tr>\n",
       "      <th>2</th>\n",
       "      <td>HuntingBayou</td>\n",
       "      <td>8-23 00:15</td>\n",
       "      <td>7.92</td>\n",
       "      <td>17.23</td>\n",
       "      <td>29.808611</td>\n",
       "      <td>-95.313056</td>\n",
       "    </tr>\n",
       "    <tr>\n",
       "      <th>3</th>\n",
       "      <td>HuntingBayou</td>\n",
       "      <td>8-23 00:30</td>\n",
       "      <td>7.92</td>\n",
       "      <td>17.23</td>\n",
       "      <td>29.808611</td>\n",
       "      <td>-95.313056</td>\n",
       "    </tr>\n",
       "    <tr>\n",
       "      <th>4</th>\n",
       "      <td>HuntingBayou</td>\n",
       "      <td>8-23 00:45</td>\n",
       "      <td>7.92</td>\n",
       "      <td>17.23</td>\n",
       "      <td>29.808611</td>\n",
       "      <td>-95.313056</td>\n",
       "    </tr>\n",
       "    <tr>\n",
       "      <th>5</th>\n",
       "      <td>HuntingBayou</td>\n",
       "      <td>8-23 01:00</td>\n",
       "      <td>7.92</td>\n",
       "      <td>17.23</td>\n",
       "      <td>29.808611</td>\n",
       "      <td>-95.313056</td>\n",
       "    </tr>\n",
       "  </tbody>\n",
       "</table>\n",
       "</div>"
      ],
      "text/plain": [
       "      site_name    datetime  Discharge(cfs)  GuageHeight(feet)   latitude  \\\n",
       "1  HuntingBayou  8-23 00:00            7.92              17.23  29.808611   \n",
       "2  HuntingBayou  8-23 00:15            7.92              17.23  29.808611   \n",
       "3  HuntingBayou  8-23 00:30            7.92              17.23  29.808611   \n",
       "4  HuntingBayou  8-23 00:45            7.92              17.23  29.808611   \n",
       "5  HuntingBayou  8-23 01:00            7.92              17.23  29.808611   \n",
       "\n",
       "    longitude  \n",
       "1  -95.313056  \n",
       "2  -95.313056  \n",
       "3  -95.313056  \n",
       "4  -95.313056  \n",
       "5  -95.313056  "
      ]
     },
     "execution_count": 14,
     "metadata": {},
     "output_type": "execute_result"
    }
   ],
   "source": [
    "df.head()"
   ]
  },
  {
   "cell_type": "markdown",
   "metadata": {},
   "source": [
    "### 2.6 Use Matplotlib to visualize data\n",
    "[Matplotlib](https://matplotlib.org/) is a Python 2D plotting library which produces publication quality figures in a variety of hardcopy formats and interactive environments across platforms. Matplotlib can be used in Python scripts, the Python and IPython shells, the Jupyter notebook, web application servers, and four graphical user interface toolkits.\n",
    "\n",
    "We'll use [the `inline` backend](https://ipython.readthedocs.io/en/stable/interactive/plotting.html) to plot the graph in the notebook."
   ]
  },
  {
   "cell_type": "code",
   "execution_count": 15,
   "metadata": {},
   "outputs": [],
   "source": [
    "%matplotlib inline\n",
    "\n",
    "import matplotlib as mpl\n",
    "import matplotlib.pyplot as plt"
   ]
  },
  {
   "cell_type": "markdown",
   "metadata": {},
   "source": [
    "#### Plot the Discharge against time"
   ]
  },
  {
   "cell_type": "code",
   "execution_count": 16,
   "metadata": {},
   "outputs": [
    {
     "data": {
      "image/png": "[encoded data removed]",
      "text/plain": [
       "<matplotlib.figure.Figure at 0x2ba2e7434ef0>"
      ]
     },
     "metadata": {},
     "output_type": "display_data"
    }
   ],
   "source": [
    "# setup line graph\n",
    "plt.plot(df['datetime'],df['Discharge(cfs)'])\n",
    "plt.title('Houston Flood discharge at Hunting Bayou stream gauge')\n",
    "plt.ylabel('Discharge(cfs)')\n",
    "plt.xlabel('datetime')\n",
    "ax = plt.gca()\n",
    "df.set_index('datetime')\n",
    "\n",
    "# Only label every 20th value\n",
    "ticks_to_use = df.index[::100]\n",
    "# label ticks per day\n",
    "dr = pd.date_range('2017-08-23', periods=9, freq='D')\n",
    "\n",
    "## Now set the ticks and labels\n",
    "ax.set_xticks(ticks_to_use)\n",
    "ax.set_xticklabels(dr)\n",
    "plt.xticks(rotation='vertical')\n",
    "\n",
    "plt.show()\n",
    "\n"
   ]
  },
  {
   "cell_type": "markdown",
   "metadata": {},
   "source": [
    "#### Plot the Gauge Height against time"
   ]
  },
  {
   "cell_type": "code",
   "execution_count": 17,
   "metadata": {},
   "outputs": [
    {
     "data": {
      "image/png": "[encoded data removed]",
      "text/plain": [
       "<matplotlib.figure.Figure at 0x2ba2e7b81ac8>"
      ]
     },
     "metadata": {},
     "output_type": "display_data"
    }
   ],
   "source": [
    "# setup line graph\n",
    "plt.plot(df['datetime'],df['GuageHeight(feet)'])\n",
    "plt.title('Houston Flood Gauge Height at Hunting Bayou stream gauge')\n",
    "plt.ylabel('GuageHeight(feet)')\n",
    "plt.xlabel('datetime')\n",
    "ax = plt.gca()\n",
    "df.set_index('datetime')\n",
    "\n",
    "# Only label every 20th value\n",
    "ticks_to_use = df.index[::100]\n",
    "# label ticks per day\n",
    "dr = pd.date_range('2017-08-23', periods=9, freq='D')\n",
    "\n",
    "## Now set the ticks and labels\n",
    "ax.set_xticks(ticks_to_use)\n",
    "ax.set_xticklabels(dr)\n",
    "plt.xticks(rotation='vertical')\n",
    "\n",
    "plt.show()"
   ]
  },
  {
   "cell_type": "markdown",
   "metadata": {},
   "source": [
    "Plot the stream Gauge Height against time"
   ]
  },
  {
   "cell_type": "markdown",
   "metadata": {},
   "source": [
    "### 2.7 Use pixiedust `display()` to  explore the schema and browse the data                      \n",
    "\n",
    "With ther pixiedust helper library, we can display charts and graphs more easily, with the one-line `display()` method.\n",
    "  \n",
    "#### 2.7.1 Select _DataFrame Table_ icon in the display widget to see the data in tabular form\n",
    "\n",
    "<img width=\"500\" src=\"https://ibm.box.com/shared/static/v2m8x90x4h27lsjzvny2mjmavx04cuem.png\">\n",
    "\n",
    "#### 2.7.2 Select the chart icon to pull down and choose `line chart`. Click the `Options` button, and then for `Keys` drag and drop `datetime` and for `Values` drag and drop `Discharge`. This will display the water discharge at this stream gauge in cubic feet per second.\n",
    "\n",
    "<img width=\"500\" src=\"https://ibm.box.com/shared/static/jqh9t25jv39q5vplx4ecccl10zpoiudr.png\">\n",
    "\n",
    "<img width=\"500\" src=\"https://ibm.box.com/shared/static/pyot4jkd1j2kxgbtlhvqk35i5w9r91f2.png\">\n",
    "\n",
    "\n",
    "#### 2.7.4  Click the `Options` button, and then for `Keys` drag and drop `datetime` and for `Values` drag and drop `Gauge_Height`. This will display the height of the water at this stream gauge, in feet.\n"
   ]
  },
  {
   "cell_type": "code",
   "execution_count": 18,
   "metadata": {
    "pixiedust": {
     "displayParams": {
      "aggregation": "MAX",
      "chartsize": "91",
      "filter": "{}",
      "handlerId": "lineChart",
      "keyFields": "datetime",
      "mapboxtoken": "pk.eyJ1IjoibWFwYm94IiwiYSI6ImNpejY4M29iazA2Z2gycXA4N2pmbDZmangifQ.-g_vE53SD2WrJ6tFX7QHmA",
      "no_margin": "true",
      "rendererId": "matplotlib",
      "rowCount": "843",
      "timeseries": "true",
      "valueFields": "GuageHeight(feet)"
     }
    },
    "scrolled": true
   },
   "outputs": [
    {
     "data": {
      "text/html": [
       "<style type=\"text/css\">.pd_warning{display:none;}</style><div class=\"pd_warning\"><em>Hey, there's something awesome here! To see it, open this notebook outside GitHub, in a viewer like Jupyter</em></div>\n",
       "        <div class=\"pd_save is-viewer-good\" style=\"padding-right:10px;text-align: center;line-height:initial !important;font-size: xx-large;font-weight: 500;color: coral;\">\n",
       "            \n",
       "        </div>\n",
       "    <div id=\"chartFigure00429206\" class=\"pd_save is-viewer-good\" style=\"overflow-x:auto\">\n",
       "            \n",
       "                    \n",
       "                            <center><img style=\"max-width:initial !important\" src=\"data:image/png;base64,iVBORw0KGgoAAAANSUhEUgAAA/sAAAHOCAYAAADHUBkNAAAABHNCSVQICAgIfAhkiAAAAAlwSFlzAAAOwwAADsMBx2+oZAAAADl0RVh0U29mdHdhcmUAbWF0cGxvdGxpYiB2ZXJzaW9uIDIuMS4wLCBodHRwOi8vbWF0cGxvdGxpYi5vcmcvpW3flQAAIABJREFUeJzs3XlYlXX+//HXYd9kXwRxBQX3pdxlcsnMTDO/WZZm25jt25hmy1SWaVM22l5jZc2UmZqOqajlvqXmiiiKK6ggi4oiRzjA+f3Bj1OMoJjgfTg8H9d1X9M553Pf9/t2LHidz2ayWq1WAQAAAAAAh+FkdAEAAAAAAKBqEfYBAAAAAHAwLkYXAABAdSsuLlZBQYGYuQZ7ZDKZ5ObmJicn+mAAAFWHsA8AcFhWq1XHjh1TRkaG0aUAlxUaGqrIyEiZTCajSwEAOADCPgDAYZUG/fr168vHx4cQBbtktVqVm5ur1NRUSVL9+vUNrggA4AgI+wAAh1RcXGwL+qGhoUaXA1ySl5eXJCk1NVXe3t4KDAw0uCIAQE3H5DAAgEMqKCiQJPn4+BhcCVA5pX9Xly5dquzsbIOrAQDUdIR9AIBDKl2Mj6H7qClK/65mZWVpyZIlLCgJALgqhH0AAAA74ufnp1OnTunChQtGlwIAqMEI+wAAwFA9e/bUyy+/XOn2r732mnr06PGn7vXbb78pJiZGRUVFkqT8/Hzdeeed8vX1rdZRIOvXr1erVq1UXFx82bbOzs4qLi621QgAwJ9B2AcAwM6kpKRo1KhRatCggdzd3dWgQQMNHDhQS5YsMbq0Mkwmk3755ZeL3m/UqJGmT59e6ev8+OOPeuGFF6qsrsLCQplMJq1ateqiz15++WWNHTtWzs7OkqRZs2Zp1apV2rBhg9LS0qrk/i+//LJ69uxZ5r3u3bsrMDBQ3333XZXcAwCAyyHsAwBgR/bt26cOHTpo//79+vTTT7Vnzx7NnTtXt956q5577jmjy6sWgYGB12QhxYMHD2rNmjUaOnSo7b1Dhw6pefPmatWqlerWrVut9x8xYoQ++eSTar0HAAClCPsAANiRxx57TE2bNtWqVat0yy23KCoqSh07dtTo0aOVmJgoqfxh7Pfff79GjBhhez1p0iQ1b95cXl5eatq0qd5///0y7U+dOqXBgwfL09NTzZo106JFiy7qDd+2bZt69uwpT09PNWrUSK+++qoKCwuv+JkyMzM1fPhw+fv7Kzg4WMOHDy+z2vz/DuPfvn27OnToIA8PD/Xo0UP/+te/yh1i/+GHHyo8PFzBwcEaO3asbUG76OhoSVKvXr1kMpl0//33S5LmzJmj7t27y9fX1/Zn9vrrr2vNmjUymUy23vjL1VtUVKRXXnlFkZGRqlOnjnr27Kldu3ZJkmbMmKGJEydq9erVMplMMplMOnLkiCRpwIAB2rBhg44fP37Ff4YAAFwpF6MLAAAAJbKysrRy5Up9//335YbbK5lT7u7urn/961+qV6+etmzZogcffFDR0dG65ZZbJElPPfWUDhw4oJUrV8pkMumpp54qc352drb69u2rcePGafr06Tp27JhGjRolLy8vjRs37oqe64477lBkZKTWrl0rk8mkcePGacSIEYqPj7+obWFhoYYMGaJOnTrpP//5j/bu3XtRbZK0a9cuRUVFacWKFdq3b5/uvPNOxcXFaeDAgfr1118VHh6uuXPnqlu3bvL09JRUMm++Q4cOtmtMmzZNAQEB2rRpk3788Ue5ublVqt7XX39dixcv1syZMxUeHq6vvvpKffv2VXJysu666y7t3LnTdk1JCgkJkSTVq1dPdevW1YYNG8qMLgAAoDoQ9gEAtYrJ9Po1vZ/V+mql2x48eFBWq1XNmjWzvZeQkKCuXbvaXpcXkMvzxyH/jRs31ooVKzRnzhzdcsstysnJ0axZsxQfH68uXbpIkt544w3169fPds5HH32kXr16aezYsZJKestff/11/f3vfy8T9gcOHGib/14qLy/P9s9r1qzRvn37tHz5crm4lPzaUfolxLFjxxQZGVnm3KVLlyojI0P/+te/5OvrqxYtWmjr1q2aNGlSmXYuLi767LPP5OHhoebNm6tXr15avXq1Bg4cqODgYEkl0wP+ODT/6NGj6t27t+21n5+fvL295ebmZmt3uXqDg4P17rvvavPmzWrVqpUkaeLEiZo9e7YWLFigESNGXHTNPwoPD9fRo0fL+X8MAICqRdgHAMBOlLevekxMjHbs2KGioiLFxsZWeoX2RYsWadKkSUpOTtb58+dVUFCgG264QZJ0+PBhFRYW6rrrrrO1v/7668ucn5CQoAULFpSZS19UVCSLxaLi4mI5OZXMBPzss8/UrVu3Muf+cXG6hIQEZWZmyt/f/6IaDx06dFHYT05OVnR0tG2ofXm1SVLTpk3l4eFhe123bl1lZGRU+OchSRcuXJC7u/sl21yu3pycHJnNZtuXJKXMZrMOHTp0yWtLkqenp8xm82XbAQBwtQj7AIBa5Up62q+16OhomUwm7du3T+3atZMkubm5KTo6usxceScnp4u+GLBYLLZh/ocOHdKQIUM0btw4TZ06VX5+fnr77bd14MABSb9/qXCpaQG5ubkaNmyY/v73v1/0WWnQl6SIiAjbHPlSpT3ipdeJjo7WokWLLrpOvXr1LnrParVWarqCq6trmdcmk+myX4QEBQXpzJkzl2xzuXpL5+avWrXqoi8EAgMDL1v3qVOnbCMPAACoToR9AADsRHBwsHr27KkpU6Zo6NChZUL1H4WEhCg9Pb3MewkJCWrTpo2kkoX1PD09NWHCBNvnhw8ftv1zkyZN5OzsrK1bt6pPnz6SpK1bt5a5Xtu2bfXLL79cFOSvVNu2bZWSkiJfX1+FhoZetn2zZs2UnJyss2fP2nr3/7e2y3F2dpaTk9NF4b9t27ZKSkq6qnqbN28uNzc3paWllTviQCr5IqK8Lx7y8/N16NAhtW3b9gqeBgCAP4fV+AEAsCMfffSRDhw4oBtuuEGLFy/WwYMHlZCQoHfffVdSSZCNi4vToUOH9Mknnyg5OVkvvviibcV3SYqKitLZs2c1Y8YMHThwQG+++aa2bNli+9zPz0/Dhg3Ts88+q82bN2vTpk22HvzSXvXHH39cBw8e1KhRo7Rz507t27dPP/zwg958880rep6bbrpJrVu31pAhQ7R27VodOnRIP//8sx5++OFy2/fr10+hoaEaPXq09u7dqx9//FFff/31Fd3TZDKpfv36WrFihTIyMpSbmytJ6tu3r9avX39V9fr6+uqJJ57Qo48+qrlz5+rw4cPauHGjXnzxRdtuCQ0bNtS+ffuUlJSkrKwsFRcXS5K2bNkiLy+vCr8kAACgKhH2AQCwI82bN9e2bdvUrFkzPfzww4qNjVXPnj21evVq/fjjj4qLi1OrVq30z3/+U2+88YY6duyo4uJi3X777bZrtG/fXhMnTtTYsWPVoUMHHTlyRKNHjy5zn2nTpqlx48b6y1/+ohEjRmjMmDGSZJvTXr9+fa1Zs0apqanq3r27OnbsqHfffVcNGjS4oudxcnLSkiVLFBMToyFDhqhly5Z68skny50TL5VMAZg7d66SkpLUrl07vffeexo3btxl59r/r3/84x/69ttvFR4erieeeEKSdOuttyonJ0fbt2+/qnrfeecdPfbYYxozZoxiYmJ05513KjU1VUFBQZJKVvPv1KmTOnbsqJCQEKWkpEiSZs+erXvuuce26j8AANXJZC1vNSAAAGo4s9msPXv2qEWLFrat11CxdevWKS4uTidPnqzUcPtr6c0339TMmTNtPedXo3TRwi+//LIKKqu8c+fOKTo6Whs3blSTJk3KbVP6d7Z0RMBDDz1UZoFEAACuBHP2AQCohbZs2aKUlBS1b99eqampeuKJJ3TTTTfZRdCfM2eOgoOD1bBhQ23atElTpkyxbQF4tZ5++mlNnTpVRUVFF20ZWJ2OHj2q9957r8KgDwBAVSPsAwBQCxUXF2vChAlKTk6Wn5+f+vbtq6lTpxpdliTp9OnTev7555WWlqbIyEg999xzVRb2vby89OKLL1bJta5Eq1at1KpVq2t+XwBA7UXYBwCgFurcubN27txpdBnlGjVqlEaNGmV0GQAA1Ggs0AcAAAAAgIMh7AMAHFLpFnKsQ4uaovTvKn9nAQBVgbAPAHBIpduble6xDti70r+rBQUFBlcCAHAEzNkHADgkJycnhYaGKjU1VZLk4+Nj6+0H7InValVubq5SU1N16tQpevYBAFWCsA8AcFiRkZGSZAv8gD07deqUMjMzVVhYKGdnZ7m6uhpdEgCgBiPsAwAclslkUv369XXy5Elt2LBBAQEB8vT0NLos4CIWi0VWq1WFhYU6deqUoqOjbVNRAAD4Mwj7AACH1759e507d05bt25VUVGR0eUA5bJarTKZTGrcuLH69+/PtBMAwFUxWZkYBgCoBYqKipSWlqbz588zJxp2y8PDQ6GhofLy8jK6FABADUfYBwAAAADAwbD1HgAAAAAADoawDwAAAACAgyHsAwAAAADgYAj7AAAAAAA4GMI+AAAAAAAOhrAPAAAAAICDIewDAAAAAOBgCPsAAAAAADgYwj4AAAAAAA6GsA8AAAAAgIMh7AMAAAAA4GAI+wAAAAAAOBjCPgAAAAAADoawDwAAAACAgyHsAwAAAADgYAj7AAAAAAA4GMI+AAAAAAAOxsXoAq5EcXGxzpw5Iw8PD5lMJqPLAQAAAADgmrNarbpw4YL8/f3l5FR+H36NCvtnzpxRUFCQ0WUAAAAAAGC47OxsBQYGlvtZjQr7Hh4ekkoeyNPT0+BqAAAAAAC49sxms4KCgmwZuTw1KuyXDt339PQk7AMAAAAAarVLTW9ngT4AAAAAABwMYR8AAAAAAAdD2AcAAAAAwMFUGPYnT56s2NhYeXl5KSgoSIMGDdL+/fslSTNmzJDJZLroaNGiRYU3WrVq1UXt/f39q/6JAAAAAACo5SoM+1FRUfrwww+VmJioFStWyNnZWQMGDJAk3XXXXUpLSytzNGjQQEOGDLnsDY8dO2Y7p/TLAwAAAAAAUHUqXI1/6NChZV5PmDBBbdq00cmTJxUWFlZmNfz169crJSVF991332VvGBYWJheXGrUJAAAAAAAANUql5uybzWbNmDFDMTExCgkJuejzGTNmqFu3bmratOllr9W0aVNFRkZq8ODBSkpKumRbi8Uis9lc5gAAAAAAAJd2ybC/cOFC+fj4yNvbW4sWLVJ8fLycnMqeYjabNXv2bN1///2XvFF4eLimT5+uefPmaebMmZKk7t27KyMjo8JzJk6cKC8vL9sRFBRUyccCAAAAAKD2MlmtVmtFH54/f15paWlKT0/XlClTlJaWprVr18rV1dXW5rvvvtNf//pXpaWlyc/Pr9I3tlgsio2N1aOPPqoxY8ZU2KawsND22mw2KygoSHl5eWWmEQAAAAAAUFuYzWZ5eXldMhtfcvK8t7e3oqOjFR0drU6dOikgIEDx8fEaNGiQrc2MGTM0ePDgKwr6kuTq6qo2bdro8OHDl2zzxy8WAAAAAADA5VVqzn4pq9VaZnG948ePa/ny5Zcdwl+eoqIiJSYmqlGjRld8LgAAAAAAqFiFPfvjxo3T4MGDFRERoZMnT2ry5MkKDg5W9+7dbW2++eYbhYeH68Ybb7zo/PHjx+v48eP65ptvJEnTpk1TVFSUmjdvrnPnzumdd95RZmamhg8fXg2PBQAAAABA7VVh2E9JSdHQoUOVmZmpkJAQxcXFafny5WWG63/99de69957L1q0T5LS0tKUkpJie52fn6+nn35ax48fl5+fnzp27KjVq1crIiKiih8JAABUFavVqoKCIrm7G7NtrtVq1erVR3XmzAV161ZfQUGeOneuwPa5p6eLYbUBAGDPLrlAn72pzCIEAADg6mVn5+mDDzbr66936siRM4qM9FXLliHq3z9aAwY0U3Cwl/z83GUymaqthsOHT+uxxxZryZIDkiQ3N2d5e7vq9OkLtjbu7s668cYmGjw4VoMGxSg01Lva6gEAwF5UJhsT9gEAgKSSgL9r10ktWLBPn3++TXl5lku2Dwjw0LBhrdStW3399NN+ubk5KzY2SLGxwYqNDVZ0dGCFve5Wq1UzZ+7WJ5/8ppSUHDVs6KfY2GA1aRKgtLRzSkjI0Lp1KbJYiuXj46bWrUP166/HZLVKdeq4ycmp5EuGs2fzVfqbjMkkxcU11Guv3aC2besqIMCjWr6MOHcuXwUFRQoM9KzWLzsAAKgIYR8AAFTKmjVHNXDgTJ09m297r3//aD3/fDd1795Aqak5+vXXY5o/f5/Wrj2q8+ctys0tuMQVJScnkwICPOTv76H27cM1aFAzNWjgpw0bUvXf/+7Tpk3HL3v+sGGtNGXKTapb10cpKTmyWIoUFRVoa5Oenqufftqn+fP36ZdfDqmgoMj2mb+/h4YPb62HHmqvdu3qXlUwj49P1gcfbNbJk+e1fXuarFapXbu6euSR63THHS0UFOT1p68NAMCVIuwDAIAKJSSc1KOPLlJ6eq4OHTotq1Vq0MBPvXo10jPPdFG7dnUrPNdqtSoxMVNffLFNycmn1LVrpOrW9VFSUpaSkrK1d2+mDh8+o+Liin/NCA720sSJvdWrVyMdPZqjpKQsHTp0WnXr+ig2NljdutVXcHDlQ/TZs/l6772Nmj59m86ezS8zt79Dh3A9/HAH3XZbrOrW9an0NSXpnXfWa+zYX2yv3dyc5eLiZBv54OXlqqee6qRXXrlBXl5sGQwAqH6EfQAAcJFlyw7q3Xc3aMWKwyoqKvk1wM3NWU891UmTJ98oZ+cr2pm3QhcuFOrcuXxlZJzXypVHNH9+ktLTc9WrVyNdf32E7rijhby93arkXv/LarVq9+4MffzxFs2Zs1dZWXmSSob6x8QEq0uXSPXu3UjFxVadOmVWeHgd9e3bRD4+bsrMzJOfn7vq1HHX4sXJuvXW72S1Sm+91Vs9ejRQ+/bhcnFx0vff79bMmbu1bNlBSVJ4uI8eeeR69esXpebNQ+Tr614tzwYAAGEfAACUMXt2ou68c44kycXFScOHt9ajj16vJk0CFBLimIvbmc0Wff/9bv34Y5J+/vmg8vOLKmxrMklWa8nCf7fe2kzx8QeUl2fRa6/doFdf7VnuOZs2HdNjjy3Wtm1pZd6PiKijtm3D1K9flFq1ClVsbLAiIuowzx8AcNUI+wAAwObUKbOaN/9IGRnn9fzz3fTCCz0UGFi7fp6azRbt3ZulpUsPaPv2dDk5mVS3ro927TqpTZuO68KFQvn7e+jUKbPtnPvua6uvvrrtkiHdarVq2bKD+uGHRP32W5r278/WhQuFF7Vzd3eWj4+bevRooNBQb91xRwu1a1dXv/xySK1ahapNm7BqeW4AgGMh7AMAAJtHHlmozz7bqri4Blq16n7bivYoUVxsVWFhsdzcnDVnzh7NmbNH/fpF6d5728rF5cqmNhQXW3X06BmtXn1U69alKCkpS3v3ZpX5EqE8t9zSVOPH91CPHg2u5lEAAA6OsA8AACRJmzcfV5cu0+Xs7KSdOx9RixYhRpdUK50/X6CTJ89rw4ZUHTp0Wt98s1NHjpzR9ddHaNeukzKbS0YD9O3bRB980F8xMcEGVwwAsEeEfQAAoKKiYnXqNF3btqVp7NhuevvtvkaXhD+wWq0ymUzKysrTBx9s0vvvb9aZMxfk5GTS0KEt9MwzXdSpUz1GYgAAbAj7AADUclarVWPGLNN77/2qyEhf7d37uHx8qmcFfFSNrKw8vfjics2YsUMWS7EkqV69Oho6tIWeeqqzGjcOMLhCAIDRCPsAANRyb765Rq+8slIuLk5asGCY+vdvanRJqKTU1BxNm7ZJs2Yl6tixs7b3u3aN1B13tFBBQZFiYoLUp08TtvkDgFqGsA8AQC22efNxdev2hYqKrJo//y7ddlus0SXhT7Bardqy5YQ++GCz5s7dY5vXX8rV1Ul9+jTR7bfHatCgGNWt62NQpQCAa4WwDwBALWW1WtW16xfatOm4nnuui6ZM6Wd0SagCeXkWff31Dm3dmiZfX3f99tsJrV+fquLikl/nTCapa9f6GjWqg4YNayUPDxeDKwYAVAfCPgAAtdSPP+7V//3fDwoN9dbBg08xT9+BZWSc18KF+zVvXpJ+/vmg8vOLJEk+Pm7q3z9a3bvXV0CAp2JigtS6dZg8PFxY7A8AajjCPgAAtVBycra6dv1C2dlmffBBfz3xRCejS8I1kptboLlz9+j99zdr27a0ctt4erqoQ4dw3XZbjFq0CFFmZp78/T3Uo0cD+fq6y83N+RpXDQC4UoR9AABqkcLCYr366kq9884GWSzF6t8/Wj/9dLecnZ2MLg0GOHr0jBYu3K/duzOUk5OvjRuPKS3tnK3nvzzu7s4aObKtnn++m5o2DbqG1QIArgRhHwCAWiIvz6KhQ2dr8eJkOTmZdNddLfXxxwPk7+9hdGmwM6dPm7VixWHNn79PaWnnFBFRR4cPn9GOHenKzS2QVDL3v0uXSA0eHKvrr49QTEyQfHzc5OvrLpOJKQAAYDTCPgAAtcDx42d1xx2z9euvxxQc7KU5c4bqhhsaGV0WaqD9+7P1j3+s13/+s6vcEQA+Pm6Ki2uguLgGuummKF13XYQBVQIACPsAADi4EyfOqVu3L3T0aI7q1/fV0qUj1Lx5iNFloYbLzS3Q0qUHtGTJAe3Zk6Xk5GyZzYW2nv9Sffo01jPPdFGfPo3l6elqULUAUPsQ9gEAcGDFxVZ17jxdv/12Qp0719NPP92tkBBvo8uCA0tPz9WSJQe0efNx/ec/u3TuXEn4d3IyqXFjf9Wr56vgYC8NGNBUffo0lp+fB1NJAKAaEPYBAHBg8+bt1ZAhPygioo527XpEQUFeRpeEWuT0abM++2yrfvghUTt3nlRxcfm/UoaFeat378YKCPBQw4b+8vZ2Vdeu9dW2bRiLRwLAn0TYBwDAQVmtVnXs+C9t3ZrG9nowXH5+oQ4cOKXMzDwlJWVp/vwk24J/589byj3H3d1ZzZoFKTY2WD16NNANNzRUs2ZBTAcAgEog7AMA4KC2bj2h66//l4KDvZSS8gwBCXbJarVqz55MbdiQqvPnLUpJydGpU2atXHlEKSk5F7U3mSRvbzcFBnoqNjZYsbFBat48RG3bhqlTp3qMBACA/68y2djlGtcEAACqwIwZOyRJw4e3JujDbplMJrVsGaqWLUMv+uzcuXzt25ethISTWrr0oHbuPKkDB04pN7dAubkFSknJ0bJlB23t/fzc1aFDuP761w7q0aOBGjTwu5aPAgA1Dj37AADUMBZLkerWnaJTp8zavn202rWra3RJQJWwWIqUl2dRRsZ5JSVlae/ekmPt2qM6ePB0mbaxscHq0CFcffs2UceOEYqODpS7O/1YAGoHhvEDAOCA1qw5qhtumKGYmCAlJT1hdDlAtbNarUpPz9W8eUmaM2ePtm1LU05Ofpk2zs4mdetWX9261VePHg30l780lK+vu0EVA0D1IuwDAOCAXnjhF7399no991wXTZnSz+hygGvOYinS1q1p+u23E1q27KD27s3SoUOnL9oRoEWLELVuHSqTySR//5JpAAMHxqhuXR+DKgeAqkHYBwDAAbVu/Yl2787QL7/cqz59mhhdDmAXzp7N1y+/HNL27WlasuSgEhJOKj+/6KJ2JpPUvn242revq379otSmTZiaNAmQq6uzAVUDwJ9D2AcAwMGkpOSoYcOp8vFxU1bW88xRBipgsRRp3boUpafnymqVTp7M1cqVR7Rs2cGLvgRwdXVSs2ZB6t27sYKCPNW4cYB6926syEhfg6oHgEtjNX4AABxMfHyyJOnGG5sQ9IFLcHV1Vq9ejcu89+yzXZWbW6Dt29O0bl2KVq8+qn37snX06BklJmYqMTGzTPvISF/bFoAl/xus4GAv1a/vp8BAOp4A2LcKe/YnT56sGTNmKCUlRZ6enurevbveffddNWvWrOREk+mic7Zv36527dpVeLNFixbp+eef16FDh9SyZUt99NFH6tKlS6WLpWcfAFDb3Xbb91qwYJ8+//xWjRp1ndHlAA4hL8+ibdvStGbNUZ0/X6DduzP1yy+HlJdnKbe9k5NJHTqE67rrwnXTTVFq2NBP3t5uatDAT25uznJxcbrGTwCgtrmqYfyzZ89WQECAoqKidPbsWb322mvavXu3kpNLehRMJpN++OEHxcXF2c4JDg6Wi0v5vQxJSUlq27atXnnlFQ0ZMkSffvqp/vOf/yg5OVlBQUFV9kAAADiq/PxCBQb+Q3l5FqWmPssQY6AaFRUV68iRM0pKyvrDka0zZy4oKSlLhYXF5Z7n5GRSvXp15OXlqqioQDVvHmwbFXD99RHy8GBEDoCrV6Vz9hMSEtSmTRulp6crLCxMJpNJP//8s2688cZKFfPcc89p06ZNWr9+vaSSLVQaNWqkZ599Vs8880yVPRAAAI7q11+PqWvXL9S8ebD27Hnc6HKAWisn54J27Tqp5csPa9Om40pPz1VOzgUdP35OFkuRKvrt2sfHTe3b11VsbLD8/T0kSSEhXgoO9lJsbLC6dIksd/QsAPyvKpuzbzabNWPGDMXExCgkJMT2/v3336+CggLFxMTohRde0IABAyq8xubNm9W7d2/ba5PJpN69e2vTpk2VfR4AAGq1LVuOS5I6d440uBKgdvPz81BcXEPFxTW86LP8/EIdP35OeXkWJSdna+/eklEBO3akKyEhQ2vXpmjt2pRyr9u1a6T+9reu6t+/qTw9XWSxFMvNjV0CAPw5lwz7Cxcu1LBhw5SXl6dmzZopPj5eTk4lc5AmTpyoPn36yMXFRfPmzdPAgQO1bNmyCnv6MzIyFBoaWua9kJAQbd26tcL7WywWFRYW2l6bzeZKPxgAAI5my5YTkqSOHSMMrgRARdzdXdSkSYAkqVWrUN1++++fnThxTomJGdq3L1t5eRZZrVadOHFO2dlmxccf0MaNx3THHbPl5GSSh4eL8vIsCgvzlq+vu26+OVpjx3Zn+g6ASrtk2O/Vq5d27Nih9PR0TZkyRXfffbfWrl2RbdQaAAAgAElEQVQrV1dXvfjii7Z21113nVJSUjR16tQKw/6f2eFv4sSJev3116/4PAAAHNFvvxH2gZosIqKOIiLqqG/fqIs+y80t0PTp2/TddwnaujVNeXkWOTmZdPLkeZ08eV7JyZv11Vc79O23QzRoUIwB1QOoaS65VKi3t7eio6PVo0cPzZo1SwkJCYqPjy+37XXXXafDhw9XeK2wsDBlZGSUeS8zM/Oi3v4/eumll5SXl2c7srOzL1UuAAAO69y5fCUlZcnV1Ult2oQZXQ6AKubj46ZnnumizZtHKS/vRZ06NVYXLrykY8ee1aZNf9Vtt8UoN7dAQ4bM0pgxy3T2bL7RJQOwc1e0L4jVaq1wtf2dO3eqUaNGFZ7bqVMnrVy5ssx7K1euVOfOnSs8x9XVVZ6enmUOAABqo507T8pqlVq3DpO7O6t5A47M3d1FAQGecnV1Vr16vurUqZ7mzbtLL70Up6Iiq6ZM2ah77pn7p0bOAqg9Kgz748aN08aNG3X06FFt3rxZw4YNU3BwsLp3766FCxfqq6++0p49e7R//35NnjxZX3/9tZ544gnb+ePHj9fIkSNtrx9++GFt2bJFkyZN0t69e/XMM8/o7Nmzuvfee6v3CQEAcAC7dp2UJHr1gVrKZDLpzTd7a8uWUfL399CiRcn6+uudRpcFwI5VGPZTUlI0dOhQNWvWTEOGDJG7u7uWL18uPz8/ubi4aOrUqerUqZOuv/56zZs3T3PnzlX//v1t56elpSkl5feVRmNjYzV37lx98803ateundasWaPFixcrKCioep8QAAAHkJBQEvZbt654+hsAx3f99RF6//2bJUlPP71Ex46dNbgiAPbKZK1B438qs5cgAACOqEePL7V+fap+/vle3XhjE6PLAWAgq9WqwYNnacGCfRo6tIV++GGo0SUBuMYqk42vaM4+AAC49qxWq3bvLlnklp59ACaTSR99dIvc3Jw1Z84e7dmTaXRJAOwQYR8AADuXmnpWOTn5CgnxUliYj9HlALADkZG+euih9rJapfHjl7NYH4CLEPYBALBzycklW882bx5icCUA7MmLL8apTh03LViwT199tcPocgDYGcI+AAB27sSJc5JKevIAoFRkpK8+/niAJGnMmGXKzs4zuCIA9oSwDwCAnTt+vCTsR0QwhB9AWcOHt1bfvk10+vQF/f3vK40uB4AdIewDAGDnSnv2IyLqGFwJAHtjMpn0z3/2k7OzSZ9+utW2TScAEPYBALBzpT379eoxjB/AxVq2DNVjj3VUcbFVTz+9hMX6AEgi7AMAYPfo2QdwOa+91lOBgZ5aufKI5s9PMrocAHaAsA8AgJ0j7AO4nMBAT73xRi9J0t/+tkwXLhQaXBEAoxH2AQCwY8XFVsI+gEp5+OHr1Lp1qA4fPqP33ttodDkADEbYBwDAjmVl5amwsFiBgZ7y8HAxuhwAdszFxUlTp94sSZowYbVWrz5ibEEADEXYBwDAjtGrD+BK9O7dWE880VH5+UW6/fZZysm5YHRJAAxC2AcAwI6Vhv3wcB+DKwFQU0yderO6d6+v06cvaPr0bUaXA8AghH0AAOxYRsZ5SVJYGGEfQOU4Oztp/PgekqR//vNXnT9fYHBFAIxA2AcAwI5lZpaE/dBQL4MrAVCT9O/fVG3bhun48XMaM2aZ0eUAMABhHwAAO1basx8a6m1wJQBqEicnk77+erDc3Jz16adbtWXLcaNLAnCNEfYBALBjGRl5kgj7AK5c27Z19cwznSVJb7651uBqAFxrhH0AAOxY6TD+kBDCPoAr97e/dZOnp4sWLNin9etTjC4HwDVE2AcAwI4xjB/A1QgN9daYMd0kSaNG/aT8/EKDKwJwrRD2AQCwY4R9AFfrxRfj1KxZkPbuzWIrPqAWIewDAGCnrFarMjNL5uyHhLAaP4A/x8PDRZMm9ZEkvfXWOpnNFoMrAnAtEPYBALBTubkFunChUF5ervL2djO6HAA12ODBsWrXrq5OnDinzz7banQ5AK4Bwj4AAHaKIfwAqoqTk0kTJvSUJE2atE7nzxcYWg+A6kfYBwDAThH2AVSlW29tpo4dI5SRcV4zZ+42uhwA1YywDwCAnWK+PoCqZDKZNHr0dZKk2bP3GFwNgOpG2AcAwE5lZ5eE/eBgwj6AqjF4cKxcXJy0fPkhZWXlGV0OgGpE2AcAwE6dOmWWJAUGehpcCQBHERTkpRtvbKKiIqv++c+NRpcDoBoR9gEAsFOEfQDVYfz4HjKZpMmT12vjxlSjywFQTQj7AADYKcI+gOrwl7801Jgx3VRcbNWYMT/LarUaXRKAakDYBwDATp06dUESYR9A1Xv55b8oONhLGzakatGiZKPLAVANCPsAANgpevYBVBdfX3eNH99DkjRp0jqDqwFQHSoM+5MnT1ZsbKy8vLwUFBSkQYMGaf/+/ZKkHTt26M4771RERIS8vb3Vvn17zZkz55I3WrVqlUwmU5nD39+/ap8GAAAHQtgHUJ0efvg6+ft7aMOGVG3YwNx9wNFUGPajoqL04YcfKjExUStWrJCzs7MGDBggSdq+fbsiIyM1a9YsJSQk6IEHHtCwYcO0atWqy97w2LFjSktLU1pamu3LAwAAcDHCPoDq5OPjpkcfvV6S9NZbaw2uBkBVM1kruSJHQkKC2rRpo/T0dIWFhV30eb9+/dSyZUu999575Z6/atUq9erVSxaLRS4uLn+qWLPZLC8vL+Xl5cnTk198AACOzc9vss6ezdfp0+Pk7+9hdDkAHFBm5nk1bjxN589btHHjQ+rSJdLokgBUQmWycaXm7JvNZs2YMUMxMTEKCQkpt01WVpYCAwMve62mTZsqMjJSgwcPVlJS0iXbWiwWmc3mMgcAALWBxVKks2fz5eRkkq+vu9HlAHBQISHeeuqpzpKkV19dZWwxAKrUJcP+woUL5ePjI29vby1atEjx8fFycrr4lLlz52rv3r0aPnx4hdcKDw/X9OnTNW/ePM2cOVOS1L17d2VkZFR4zsSJE+Xl5WU7goKCKvtcAADUaGfOlKzEHxDgIScnk8HVAHBkY8Z0U506blq27KDWrUsxuhwAVeSSYb9Xr17asWOH1qxZo+bNm+vuu++WxWIp02bDhg164IEHNH36dDVu3LjCa8XExOihhx5Su3btFBcXp9mzZ8vf31/ffPNNhee89NJLysvLsx3Z2dlX+HgAANRMzNcHcK0EBnrq2We7SKJ3H3Aklwz73t7eio6OVo8ePWyL8cXHx9s+37Jli2655Ra98847uueee67oxq6urmrTpo0OHz58yTaenp5lDgAAagPCPoBr6dlnu8rX110rVhxmZX7AQVRqzn4pq9VqW1xv+/bt6tevn15++WWNHj36im9cVFSkxMRENWrU6IrPBQDA0RH2AVxL/v4eevLJTpKkN95YY3A1AKpChWF/3Lhx2rhxo44eParNmzdr2LBhCg4OVvfu3bV792717dtXd999t0aMGKH09HSlp6crJyfHdv748eM1cuRI2+tp06Zp4cKFOnjwoHbs2KGRI0cqMzPzkvP8AQCorQj7AK61Z5/tIm9vVy1ZckBbthw3uhwAV6nCsJ+SkqKhQ4eqWbNmGjJkiNzd3bV8+XL5+flpzpw5ys7O1scff6zw8HDb8fTTT9vOT0tLU0rK7wt85Ofn6+mnn1bLli3Vr18/5eTkaPXq1YqIiKjeJwQAoAYi7AO41oKCvPT44x0l0bsPOAKT1Wq1Gl1EZVVmL0EAABzBq6+u1IQJa/Tqqzfotdd6Gl0OgFoiI+O8GjWaKrO5UNu2Paz27cONLglAOSqTja9ozj4AALg26NkHYITQUG898sj1kqQ331xrcDUArgZhHwAAO3Tq1AVJhH0A197zz3eTu7uzfvxxr3bvzjC6HAB/EmEfAAA7lJ2dJ4mwD+DaCw+vo1GjOkiSJk6kdx+oqQj7AADYIYbxAzDS2LHd5erqpFmzdispKcvocgD8CYR9AADsEGEfgJHq1/fTAw+0k9UqvfUWvftATUTYBwDADhH2ARht/Pg4OTubNHPmbh0/ftbocgBcIcI+AAB2pqioWGfOlCzQ5+/vYXA1AGqrRo38dfvtzVVYWKzPPttqdDkArhBhHwAAO5OTky+rVfLzc5eLCz+qARjnySc7SZI++2yr8vMLDa4GwJXgNwgAAOwMQ/gB2Iu4uAZq3TpUGRnnNXv2HqPLAXAFCPsAANgZwj4Ae2EymWy9+x9+uNngagBcCcI+AAB2hrAPwJ4MH95GAQEe2rTpuLZsOW50OQAqibAPAICdIewDsCdeXq566KH2kqQPPqB3H6gpCPsAANiZ0rAfEMBK/ADsw6OPdpTJJM2alagTJ84ZXQ6ASiDsAwBgZ3JySrbdCwigZx+AfWjSJEBDhjRXQUGR3nlnvdHlAKgEwj4AAHYmJydfkuTr625wJQDwu5df/oukkm34srPzDK4GwOUQ9gEAsDNnz5aEfT8/wj4A+9GuXV3ddFOUzOZCffttgtHlALgMwj4AAHaGnn0A9uqvfy1ZqO+LL7bLarUaXA2ASyHsAwBgZ37v2WeBPgD2ZdCgGAUFeWrXrpPaujXN6HIAXAJhHwAAO1O6QB89+wDsjbu7i+69t40k6YsvthlcDYBLIewDAGBnSofxM2cfgD168MGSofzffbdbeXkWg6sBUBHCPgAAdoZh/ADsWevWYerUqZ7Ons3Xv/+90+hyAFSAsA8AgJ1hGD8Ae/fMM50lSVOmbFRxMQv1AfaIsA8AgB2xWq22nn3CPgB7NXRoSzVs6Kfk5FP6+eeDRpcDoByEfQAA7EhuboGsVsnLy1UuLvyYBmCfXFyc9MAD7SRJP/yQaHA1AMrDbxEAANgRFucDUFMMHdpSkjRvXpIKCooMrgbA/yLsAwBgRxjCD6CmaNEiRC1bhuj06QtasuSA0eUA+B+EfQAA7Ejp4nysxA+gJrjvvraSpI8/3mJwJQD+F2EfAAA7Qs8+gJrkwQfby8PDRUuXHtT+/dlGlwPgDwj7AADYEebsA6hJgoK8dM89rSRJX3yxzeBqAPwRYR8AADvy+zB+wj6AmuGhhzpIkv79710qLCw2uBoApSoM+5MnT1ZsbKy8vLwUFBSkQYMGaf/+/bbP9+/fr169esnT01ONGjXSl19+edmbffXVV2rSpIk8PT11ww03lLkeAABgGD+Amqdr10g1bRqotLRc/fzzQaPLAfD/VRj2o6Ki9OGHHyoxMVErVqyQs7OzBgwYIEmyWCwaMGCAgoODtWXLFr3yyisaPXq0li9fXuGNVqxYoYcffljjx4/Xli1bVLduXQ0YMEAFBQVV/1QAANRQ586V/FysU4ewD6BmMJlMGjGijSRp7ty9BlcDoJTJarVaK9MwISFBbdq0UXp6ujZt2qQ777xTmZmZqlOnjiRp5MiROnv2rObPn1/u+UOGDJGnp6e+/fZbSdL58+cVEhKi7777ToMHD65UsWazWV5eXsrLy5Onp2elzgEAoCYZO/ZnvfPOBk2a1EcvvNDD6HIAoFJ27Tqptm0/VWiot06ceE7OzswWBqpTZbJxpf4tNJvNmjFjhmJiYhQSEqLNmzerY8eOtqAvSX369NGmTZsqvMbmzZvVu3dv22tvb2917tz5kudYLBaZzeYyBwAAjsxstkiSvLxcDa4EACqvdetQNWrkr4yM89q06bjR5QDQZcL+woUL5ePjI29vby1atEjx8fFycnJSRkaGQkNDy7QNCQlRZmZmhdeq6JyMjIwKz5k4caK8vLxsR1BQUGWeCQCAGisvj7APoOYxmUy67bYYSdJ//5tkcDUApMuE/V69emnHjh1as2aNmjdvrrvvvlsWi0WVHPl/1V566SXl5eXZjuxs9u4EADi2vLxCSYR9ADXP72F/n8GVAJAkl0t96O3trejoaEVHR6tTp04KCAhQfHy8wsLClJRU9hu7zMxMhYSEVHit0NDQi3rxMzMzFRUVVeE5rq6ucnXllx0AQO1R2rPv6XnJH9EAYHfi4hoqIMBD+/Zla9++LMXEBBtdElCrXdHKGVarVS4uLurUqZN+++035ebm2j5bsWKFOnfuXOG5nTp10sqVK22v8/LytGnTpkueAwBAbcOcfQA1lYuLkwYMaCaJ3n3AHlQY9seNG6eNGzfq6NGj2rx5s4YNG6bg4GB1795dN998s+rVq6cHH3xQiYmJ+vLLLzVz5kw9+eSTtvNHjhyp8ePH214//vjjmjVrlr744gslJibqwQcfVEREhG655ZbqfUIAAGoQ5uwDqMkYyg/YjwrHCKakpGjo0KG24flxcXFavny5/Pz8JEmLFi3S6NGjdd111yksLEyffPKJ+vTpU+Z8J6ffv0vo06ePPvvsM02YMEHp6enq3LmzFi1aJDc3t2p8PAAAahbCPoCarF+/KLm5OWvjxlRlZJxXaKi30SUBtZbJeq1W26sCldlLEACAmqx584+UlJSlxMTH1KJFxWvhAIC96t//Wy1ZckBffDFIDz7Y3uhyAIdUmWx8RXP2AQBA9aJnH0BNN3hwyVD++fPZgg8wEmEfAAA7QtgHUNMNGhQjk0latuygzp3LN7ocoNYi7AMAYEcI+wBquvDwOuratb7y84u0ZMkBo8sBai3CPgAAdsJqtdq23vP0rHANXQCwe0OGxEqSfvyRofyAUQj7AADYifz8Ilmtkpubs5yd+RENoOa6/fbmkqRFi/YrP7/Q4GqA2onfJAAAsBMM4QfgKJo0CVDbtmE6d65Ay5cfNrocoFYi7AMAYCdKh/AT9gE4gttvLxnKP2/eXoMrAWonwj4AAHaitGef+foAHMGgQSVb8MXHH5DVajW4GqD2IewDAGAnGMYPwJG0bVtXoaHeOn78nPbsyTS6HKDWIewDAGAnCPsAHImTk0k33RQlSVq69KDB1QC1D2EfAAA7YTaXrFhN2AfgKPr1Kwn78fEHDK4EqH0I+wAA2Inf5+wT9gE4hptvjpaTk0mrVh3RmTMXjC4HqFUI+wAA2AmG8QNwNMHBXoqLa6DCwmLFxycbXQ5QqxD2AQCwE4R9AI5o8ODSLfiSDK4EqF0I+wAA2AmzuTTss/UeAMdRGvbj4w/owoVCg6sBag/CPgAAdoI5+wAcUaNG/mrXrq5ycwu0YsVho8sBag3CPgCgxps5M0HNmn2gxo2nadq0X2WxFEmStm1L0/jxv+j111fp11+PyWq1GlzppTGMH4CjGjw4RpI0fz5D+YFrhbAPAKjRdu5M1z33/Kjk5FM6cuSMnnlmqdq3/0xPPRWvLl2ma/Lk9XrttdXq2vUL3Xbb98rIOG90yRVi6z0Ajqp0KP9//7tPRUXFBlcD1A6EfQBAjWWxFGns2F8kSaNHX6f//neYGjf2V2Jipj74YLMslmLddVdLPfVUJ/n6uuunn/YrLu4rHTt21uDKy0fPPgBH1aZNmBo18ldGxnlt2nTc6HKAWoGwDwCokTZuTFWHDp9r2bKD8vFx0xtv9NKgQTHas+dxTZ8+UOPH99C6dQ/o++/v0LRp/bVnz2Nq2zZM+/dn66ab/q1Tp8xGP8JFfp+zzwJ9AByLyWRiKD9wjRH2AQA1zurVRxQX95V2785QVFSAFi++RyEh3pIkDw8XPfRQB731Vh91797Adk69er5aseI+tWwZor17s3T33XNVXGxfc/jp2QfgyG6/vbmkki347H0NFcAREPYBADVKRsZ53X33XBUVWTVqVAclJDyquLiGlTo3MNBT8fHDFRTkqWXLDurtt9dVc7VXhjn7ABxZt271FRzspQMHTmnPnkyjywEcHmEfAFBjFBdbde+985SWlqsePRro448HXPE2dfXr++nf/75dkvTyyyu1du3R6ij1T2HrPQCOzMXFSQMHNpPEUH7gWiDsAwBqjO++S9CyZQcVHOylmTP/Ty4uf+7HWP/+TTVuXHcVF1s1cuR8nTuXX8WV/jkM4wfg6EpX5Z8/f5/BlQCOj7APAKgRioqK9eabayRJb799oyIjfa/qem+80Uvt29fVkSNnNHbsz1VR4lUj7ANwdH37NpGXl6t+++2EUlNzjC4HcGiEfQBAjbB4cbL27ctWo0b+uvfeNld9PVdXZ3399WC5ujrp00+36pdfDlVBlVfHbCbsA3Bsnp6uuvnmaEnSggX07gPVibAPAKgR5s0rmd85alQHubo6V8k1W7cO06uv3iBJevjhn2xh2yhsvQegNijdgq/0v+sAqgdhHwBg94qKirVw4X5J0qBBMVV67XHjeqh161AdPnxGkycbuzo/w/gB1AYDBjSTs7NJq1Yd0enTZqPLARwWYR8AYPc2bz6uzMw8NWrkr5YtQ6r02i4uTvr44wGSpLffXq8DB05V6fWvBFvvAagNAgM9dcMNjVRUZNWiRclGlwM4LMI+AMDurVuXIkm6+eYomUymKr9+jx4NdN99bZWfX6Qnn4yX1Wqt8ntUBj37AGqL0qH8bMEHVJ8Kw/5bb72lDh06yMfHR+Hh4XrggQeUmZlp+3zGjBkymUwXHS1atKjwZqtWrbqovb+/f9U+EQDA4SQkZEiS2rWrW233+Mc/+srPz11LlhzQ4sXXvqfJYilSYWGxnJ1NVbYmAQDYq9It+OLjD+jChUKDqwEcU4Vhf926dXruuef022+/6b///a/27Nmju+66y/b5XXfdpbS0tDJHgwYNNGTIkMve9NixY7Zz9u/fXzVPAgBwWLt2nZQktWkTVm33CA311muv9ZQkPfvsUhUUFFXbvcpDrz6A2qR+fT916BCuvDyLVqw4bHQ5gEOqcLnfxYsXl3k9depUdevWTTk5OfLz85Onp6c8PT1tn69fv14pKSm67777LnvTsLAwubiw0jAA4PIsliLt3ZslSWrVKrRa7/X44x312WdblZSUpfff36QxY7pV6/3+iPn6AGqbgQObadu2NC1YsE+33NLU6HIAh1PpOftZWVny8PCQt7d3uZ/PmDFD3bp1U9Oml/8XtWnTpoqMjNTgwYOVlFTxPB2LxSKz2VzmAADULsnJp1RQUKTGjf1Vp457td7L1dVZU6f2kyRNmLBaJ0/mVuv9/oiefQC1TenuKj/9tN+wtVIAR1apsJ+fn68JEybovvvuK7dH3mw2a/bs2br//vsveZ3w8HBNnz5d8+bN08yZMyVJ3bt3V0ZGRrntJ06cKC8vL9sRFBRUmXIBAA6kdAh/69bVN4T/j/r1i9attzbTuXMFevHF5dfkntLvYd/Tk7APoHZo376u6tWroxMnzmnbtjSjywEczmXDflFRkUaMGCFJevfdd8ttM2/ePBUUFOjOO++85LViYmL00EMPqV27doqLi9Ps2bPl7++vb775ptz2L730kvLy8mxHdnb25coFADiY0q3wYmOv3Re+7713k1xdnfTllzuu2WJ9ZjM9+wBqF5PJpIEDm0mSFizYZ3A1gOO5ZNgvLi7W/fffr6SkJC1dulQ+Pj7ltpsxY4YGDx4sPz+/K7q5q6ur2rRpo8OHy1+Uw9XV1bY2wP+uEQAAqB1SU3MkSQ0aXNnPmKvRtGmQ3nijlyTpvvvm68SJc9V+T4bxA6iNSofyL1jAot1AVasw7FutVv31r3/Vr7/+qp9//lmBgYHltjt+/LiWL19+2SH85SkqKlJiYqIaNWp0xecCAGqH1NSzkkpWbr6Wnn++u/r2baKsrDyNGPGjioqKq/V+hH0AtVGvXo3l7e2qHTvSdfToGaPLARxKhWH/kUce0U8//aRvv/1WkpSenq709HQVFZXdiuibb75ReHi4brzxxouuMX78eI0cOdL2etq0aVq4cKEOHjyoHTt2aOTIkcrMzNTw4cOr6nkAAA7m2LGSsB8Z6XtN7+vkZNK//327wsK8tXLlEb311tpqvd/vc/bZrQZA7eHh4WJbiX/27D0GVwM4lgrD/ueff66srCx17txZ4eHhtiM1NbVMu6+//lr33nuvnJwuvlRaWppSUlJsr/Pz8/X000+rZcuW6tevn3JycrR69WpFRERU4SMBABzJ7z371zbsS1JYmI/+/e/bJUmvvbZay5cfqrZ7sfUegNpq2LBWkqTvv99tcCWAYzFZa9A+F2azWV5eXsrLy2P+PgDUArm5BapTZ5Lc3Z1lNr8kk8lkSB0vv7xCEyeuVVCQp3btelQREXWq/B6ff75Vo0cv1KhRHfT55wOr/PoAYK/MZotCQ99Vbm6BkpOfVHR0+dOHAfyuMtm4UlvvAQBghD8O4Tcq6EvS66/31E03RSk726wnnlhcLfdgzj6A2srT01WDB8dKkmbNoncfqCqEfQCA3SoN+9d6cb7/5ezspOnTB8rHx03z5iVp3ry9VX4P5uwDqM2GDWspSfr++0SDKwEcB2EfAGC3Srfdu9aL85Wnfn0/TZrUR5L0xBPxysm5UKXXN5vp2QdQe/XtG6WAAI//x96dx0VV7/8Df80M67DKJosLIgriLiipaSoqLmlqpbnrdb0tUubvVla3rNS6aWm2Xfc07aqZu2ZumBu4AZqsKoqyCAMCwz7MnN8ffJlEGRgVODPD6/l4nMfjMufM57zHy6fDaz6f8zn4669MXLuWKXY5RCaBYZ+IiAzW39P46/4e+Sfxz38G4ZlnmiEtTYn33jtWp21zGj8RNWYWFjKMGdMOALBtG0f3ieoCwz4RERmstDQlAMDLS/yRfaBiOv+aNSNgbi7FDz9cxJkzKbW/SU9/T+Nn2CeixunBVfmNaA1xIoPFsE9ERAYrPb0AAODhYStyJX/r0MEN77zTGwAwa9Y+lJaW10m7BQUVYd/OzqJO2iMiMjb9+nnDzc0GSUk5iI7OELscIqPHsE9ERAarcmS/Ph519zTef78v/PycERenwMqVkXXSZkFBGQDA1pZhn4gaJzMzKV56qWIq///+x1X5iZ4Wwz4RERmsv0f2DSvsW1mZ4ZtvhgIAli49jfv3i5+6TaWyFADDPhE1bpVT+YX5yvMAACAASURBVLdtu8ap/ERPiWGfiIgMkkYjICOjIuy7uxvONP5Kgwb5YMCAVsjNLcHHH4c/dXsc2SciAnr3bgEvLzvcvp2HyMhUscshMmoM+0REZJAUiiKUl2vg5GQNKyvDe/a8RCLB8uWDIZNJsGrVeZw//3R/lFaGfTs7y7ooj4jIKEmlEowd2x4Ap/ITPS2GfSIiMkiV9+sb0uJ8D+vSxR3z5/eEIAAzZ+6FSqV+4rY4sk9EVKFyKv/27degVmtErobIeDHsExGRQUpPN8zF+R728cf94OPTBFevZmLZsrNP3I5SybBPRAQA3bt7olUrR6SnF+DUqbp7xClRY8OwT0REBunvkX3DDvtyuTn++9/nAQCLFp1EUlL2E7XDkX0iogoSiQQTJnQEAKxefUnkaoiMF8M+EREZpMqV+D09DXcaf6WBA30wdWpnlJaqMWfO/sdeQbqsTI2yMjXMzKSwtJTVU5VERMZj9uxASKUS7NgRq53pRUSPh2GfiIgMUmZmIQDAzc1G5Er0s3z5YLi6ynHixC1s2BD9WO99cFRfIpHUR3lEREalRQsHjBrlj/JyDdatixK7HCKjxLBPREQGKTe3BADQpIm1yJXox9lZjhUrhgAAFiz4A/fuFej9Xk7hJyJ61OzZ3QAAGzdGP/aMKSJi2CciIgN1/35l2LcSuRL9jR/fAUOG+OL+/RLMmbMfGo1+f5wy7BMRPWrgQB94etrhxo37OHPmjtjlEBkdhn0iIjJIlSP7jo7GE/YlEgl+/HE4HBwssWdPAv7znzN6va8y7NvZMewTEVWSyaSYMqUTAOCbbyJFrobI+DDsExGRQbp/vxiA8Uzjr9SypSO2bBkDAPjkk5PapwrURKksBcCRfSKih73+eg9YWMjw66+xiI3NErscIqPCsE9ERAapchq/MY3sVxo+vC1efLEdiovLsWhReK3Hcxo/EVH1vLzsMWNGVwgC9J4tRUQVGPaJiMgg/b1An/GFfQD47LMBkMkkWLPmMiIj79Z4LMM+EZFuCxb0gkQC/PLLX8jI0H/xU6LGjmGfiIgMTlmZGkVFKshkEqMNwP7+LliwoBcEAZg9ez/Uao3OY5VK3rNPRKSLj08TjBrlj7IyNX744YLY5RAZDYZ9IiIyOA8uzmfMz53/6KPn0KKFA65cuYdffvlL53Ec2Sciqtmbbz4DAPjhh4soKSkXuRoi48CwT0REBsdYF+d7mLW1ORYt6gcA+OCD4ygsLKv2OIZ9IqKa9enTAl27uiMrqwhbt14Vuxwio8CwT0REBqdycT5jvV//QZMnd0Lnzk1x+3YePv44vNpjGPaJiGomkUjw1lsVo/tffXUOgiCIXBGR4WPYJyIig/PgNH5jJ5NJsWbNCEilEnz9dQSSkrIfOaby0Xt2dpYNXR4RkdEYN64DPD3tcO1aFn7//brY5RAZPIZ9IiIyOKYyjb9S9+5emD69C9RqAR9+eOKR/Tk5FV9u2Nsz7BMR6WJhIUNYWDAA4LPPTnF0n6gWDPtERGRwjP2xe9X56KPnYGkpw7Zt13DoUFKVfXFxWQCAtm2dxSiNiMhozJ0bBBcXOc6evYO9exPELofIoDHsExGRwam8Z98UpvFXat7cAZ980h8AMH36HmRmFgKoeMxgQkI2JBIgIMBVzBKJiAyevb0lPvywLwDgvfeOobxc92NNiRo7hn0iIjI4f0/jN52wDwBvv90T/fp54969QsycuReCICAxMRvl5Rq0bu0Eudxc7BKJiAze3LlB8PFpgrg4BTZujBa7HCKDxbBPREQGJy+vYsE6UxrZByoW69u0aRQcHa2wb18ifv01Fn/9lQkA6NDBTeTqiIiMg4WFDIsXDwAAfPRROIqKVCJXRGSYdIb9JUuWoFu3brC1tYWHhwemT5+OrKysKsdIJJJHtujomr9dO3DgAAICAmBlZYXAwEBERETUzSchIiKTkZ9fEfZNccG65s0d8PnnIQCABQuO4OjRmwCADh04hZ+ISF9jx7ZHYKAH0tKUWLGCeYKoOjrD/unTpzF//nxcvHgRe/bsQWxsLMaNG/fIcdu3b0d6erp269Chg86TxcfHY8yYMZgwYQIuX76M3r17Y9iwYcjOfvQxRERE1HiZctgHgJkzu6FLF3ekpORh3booAEDHjk1FroqIyHhIpRJ88cVAAMAXX5yBQlEkckVEhkdn2D948CAmTZoEf39/9OjRAytWrMCJEyeQl5dX5bgmTZrA3d1du5mZmek82erVqxEUFIQPPvgAAQEBWLlyJezs7LB58+a6+0RERGT0lMoyAKb73HmZTIqDByegT58WMDOT4h//6ILnn28rdllEREYlJMQHoaGtkZ9fisWL/xS7HCKDo/c9+wqFAlZWVrCxsany+rRp0+Dm5oY+ffrgwIEDNbZx/vx5DBgwQPuzRCLBgAEDEBkZWe3xKpUKxcXFVTYiIjJ9pj6yDwAeHnY4eXIa8vLexbp1L3BxPiKiJ/DFFwMhkQDffnsB8fEKscshMih6hf3S0lJ88sknmDp1apWR+8WLF2Pnzp04dOgQnnvuOYwYMQJHjx7V2U5mZibc3KouQOTq6orMzMxqj1+8eDHkcrl2c3bm84eJiBoDpbIi7NvZWYhcSf2SSCQM+URET6FzZ3fMmNEV5eUavPHGIQiCIHZJRAaj1rCvVqsxadIkAMCyZcuq7Fu4cCGCg4MRGBiIzz77DJMmTcKKFSt0tvW4ne/9999HUVGRduO9/UREjUNjGNknIqK6sXTpQDRpYoWjR29i5844scshMhg1hn2NRoNp06YhPj4ehw8fhq2tbY2NBQYGIjk5Wef+pk2bPjKKn5WV9chofyVzc3NYW1tX2YiIyPQx7BMRkb5cXOTaR/HNn38YhYVlIldEZBh0hn1BEDBz5kxERETgyJEjcHJyqrWxmJgYeHt769zfo0cPnDhxosprJ06cQHBwsP4VExGRSSstLYdKpYG5uRSWlroXfSUiIqo0e3YgunXzwJ07+Vi8+JTY5RAZBJ1hf+7cudi3bx+2bNkCAMjIyEBGRgbUajUAYP/+/diwYQNiY2ORmJiIzz//HD/99BNef/11bRvvvfcepkyZov159uzZuHDhApYuXYq4uDi8+eabyM/Px+TJk+vr8xERkZHhqD4RET0umUyKb78dCgBYtuws/vqr+jXBiBoTnWF/9erVUCgUCA4OhoeHh3a7c+cOAMDMzAwrVqxAjx49EBQUhF27dmHnzp0YOnSoto309HSkpKRof/b398fOnTuxadMmdOnSBX/++ScOHjzIhfeIiEirMuyb6mP3iIiofvTs2RyzZ3eDSqXBtGm7oVKpxS6JSFQSwYiWrCwuLoZcLkdRURHv3yciMlHR0Rno2vW/6NSpKWJi5opdDhERGRGlshQdO/6A27fz8Nln/fH++33FLomoXuiTjfV69B4REVFD4TR+IiJ6UnZ2lli3biQAYNGik5zOT40awz4RERkUpbJyGr+FyJUQEZExCgnxwdy5gVCpNJg1ax/Uao3YJRGJgmGfiIgMCkf2iYjoaX3++UB4etohIuIuPv44XOxyiETBsE9ERAaFYZ+IiJ6Wg4MVNm0aBalUgs8+O4Vdu+LELomowTHsExGRQVEqywBwGj8RET2dkBAffPHFQADAlCm7kZSULXJFRA2LYZ+IiAwKR/aJiKiuvP12T4wd2x4FBWWYNWsfNBqjeRAZ0VNj2CciIoNSGfbt7Bj2iYjo6UgkEnz//TC4uspx8uRtfPvtebFLImowDPtERGRQKlfj58g+ERHVBWdnOX74YTgAYMGCPxAZeVfkiogaBsM+EREZlJycEgCAo6OVyJUQEZGpePHFAMyb1wMqlQYvv7wD2dlFYpdEVO8Y9omIyKBkZRUCAFxd5SJXQkREpuTLLwcjONgLd+7kY/LkXbx/n0wewz4RERmUrKyK0RY3NxuRKyEiIlNiYSHD9u0vw8nJGocOXUdIyCbExWWJXRZRvWHYJyIig5KZWTmyz7BPRER1q0ULB2zb9hLs7S0RHn4LAwZsQnLyfbHLIqoXDPtERGQwysrUyM0tgVQqgZOTtdjlEBGRCRo40Ae3b7+Jfv28kZFRgNDQn7VfNBOZEoZ9IiIyGApFxRR+Fxc5pFKJyNUQEZGpcnS0wp49r6BLF3ckJeUgJGQTMjIKxC6LqE4x7BMRkcGoXJyP9+sTEVF9s7e3xO+/T0S7di74669MDBjwE3JyisUui6jOMOwTEZHBqFycjyvxExFRQ2ja1BYnT05D+/auiItTIDT0Zz6Wj0wGwz4RERmMynsmObJPREQNxdXVBocPT4KPTxNcvJiGXr3WIzaWq/ST8WPYJyIig1E5jZ8j+0RE1JC8vOxx6tR0dOrUFImJ2ejTZwMfy0dGj2GfiIgMBkf2iYhILJ6edjh79h8YPrwNcnKKERy8FmFhhxAVlS52aURPhGGfiIgMxt/37DPsExFRw7OxscD27S9j5Eg/KJVl+Oab8+jefQ2+++68dvYZkbFg2CciIoNRObLPafxERCQWudwce/a8ggsXZmHGjK5QqwW8/vohtGy5AuHht8Quj0hvDPtERGQw7tzJBwA0b+4gciVERNTYBQV5Yu3akVi7dgSCg71QXFyOoUO3YMqUXcjNLRG7PKJaMewTEZHBSEnJAwC0aMGwT0REhmHGjG44c+YfmDatC0pKyrF58xWMHPkLCgrKxC6NqEYM+0REZBCKilRQKIpgYSHjAn1ERGRQZDIpNmx4AXFxr8HLyw6nTqUgOHgtDh++DkEQxC6PqFoM+0REZBDu3KkY1W/e3B5SqUTkaoiIiB7l7++C48enol07F8TGZmHIkC0IC/sdGg0DPxkehn0iIjIIt29zCj8RERm+tm2dcf78LCxdGgILCxlWrTqPDh2+x4EDiWKXRlQFwz4RERkE3q9PRETGwtbWAu+++ywOHpyA5s3tERenwPPP/4I33+QoPxkOhn0iIjIIDPtERGRsQkJ8cP36PCxfPhgWFjKsXBmJGTP2orxcI3ZpRAz7RERkGCrDfsuWDPtERGQ8LCxkmD+/J/bvHw+53BwbN0bjlVd+RWlpudilUSPHsE9ERAahMuw3b86wT0RExmfQoNY4cmQyHBwssXNnHF5+eQdUKrXYZVEjpjPsL1myBN26dYOtrS08PDwwffp0ZGVlafdHR0dj7Nix8PT0hI2NDbp27Ypff/21xpOFh4dDIpFU2RwdHevu0xARkdFKTVUCAJo1sxe5EiIioifTq1dzhIdPg5OTNfbtS8Srrx7go/lINDrD/unTpzF//nxcvHgRe/bsQWxsLMaNG6fdHxUVhWbNmmHbtm24evUqpk+fjldeeQXh4eG1nvTu3btIT09Heno6EhO5aiUREQFpaRVh39PTTuRKiIiInlyXLu44cGACrK3NsHZtFL777oLYJVEjJRH0/Krp3Llz6NWrF3Jzc+HgUP0Uy9DQULRv3x5fffVVtfvDw8PRv39/qFQqmJmZPXaxxcXFkMvlKCoqgrW19WO/n4iIDJNSWQp7+89hbW2GwsKFkEgkYpdERET0VLZuvYqJE38DAPzww3DMnRskckVkSvTJxnrfs69QKGBlZQUbG5saj3Fycqq1rTZt2qBZs2YYNWoU4uPjdR6nUqlQXFxcZSMiItNTOYXfy8ueQZ+IiEzChAkdsXz5YADAG28cwtWr90SuiBobvcJ+aWkpPvnkE0ydOlXniPzOnTsRFxeHiRMn6mzHw8MDa9euxa5du/DLL78AAHr37o3MzMxqj1+8eDHkcrl2c3Z21qdcIiIyMpzCT0REpmj+/J549dUglJdrMGPGXpSVccE+aji1hn21Wo1JkyYBAJYtW1btMWfPnsX06dOxdu1atGrVSmdbfn5+mDFjBrp06YI+ffpgx44dcHR0xKZNm6o9/v3330dRUZF2y87O1uczERGRkWHYJyIiU7V06UA0b26PCxfS8P/+3x9il0ONSI1hX6PRYNq0aYiPj8fhw4dha2v7yDEXLlzAsGHD8OWXX2LChAmPdXJzc3N06tQJycnJOvdbW1tX2YiIyPSkpuYDALy8GPaJiMi02NtbYseOl2FuLsU335zHtm1/iV0SNRI6w74gCJg5cyYiIiJw5MiRau/Fj4qKQmhoKD744APMmTPnsU+uVqtx7do1eHt7P/Z7iYjIdHBkn4iITFlwcDN8/XUoAGDGjL2Ii8uq5R1ET09n2J87dy727duHLVu2AAAyMjKQkZEBtbriPpO//voLgwYNwvjx4zFp0iTt/ry8PG0b7733HqZMmaL9eeXKldi/fz9u3LiB6OhoTJkyBVlZWTXe509ERKYvLa0AAMM+ERGZrldf7Y4JEzqisFCFF1/cjoKCMrFLIhOnM+yvXr0aCoUCwcHB8PDw0G537twBAPz666/Izs7G999/X2V/WFiYto309HSkpKRofy4tLUVYWBjat2+P0NBQ5OXl4eTJk/D09KzHj0hERIaOI/tERGTqJBIJVq9+Hu3buyIuToFZs/ZBz6egEz0RiWBEv2H6PEuQiIiMj6/vN7hx4z4SEl5H27Z88goREZmuhAQFgoLWoKCgDGvXjsCMGd3ELomMkD7ZWK9H7xEREdWnzMxCAICbm43IlRAREdUvPz8X/PjjcABAWNjvSEriE8eofjDsExGRqIqLVVAqy2BuLoWDg6XY5RAREdW7iRM7Yfz4DigsVGHSpF0oK1OLXRKZIIZ9IiISVVZWEQDA1dUGEolE5GqIiIgaxvffD0eLFg44fz4V06fvgUZjNHdXk5Fg2CciIlFlZXEKPxERNT6Ojlb47bexsLW1wNatV/HVV+fELolMDMM+ERGJivfrExFRYxUY6ImtW8cAABYuPIbIyLsiV0SmhGGfiIhExbBPRESN2YgRfnj99e5QqTQYPnwrEhO5YB/VDYZ9IiIS1d/37MtFroSIiEgcX30ViuHD2yA7uxgjR/6C3NwSsUsiE8CwT0REouLIPhERNXbm5jL8738voVOnpkhIyMb48TuhVmvELouMHMM+ERGJimGfiIgIsLW1wJ49r8DFRY7ff7+Od945KnZJZOQY9omISFSVYZ/T+ImIqLHz9nbEzp1jYWYmxfLl5/DTT9Fil0RGjGGfiIhEVXnPPkf2iYiIgL59W+K774YBAGbP3o+zZ++IXBEZK4Z9IiISjSAIuHnzPgDAy8te5GqIiIgMw+zZgXjtte4oK1NjxIhfEBubJXZJZIQY9omISDR37uQjJ6cYLi5yeHnZiV0OERGRwVixYgief74tcnKK0a/fRly+nC52SWRkGPaJiEg0lX+4dO3qDolEInI1REREhsPMTIpt217C4MGtkZVVhGefXY+ff74idllkRBj2iYhINFFRf4d9IiIiqkouN8feva9g2rQuKC4ux+TJu/DGGwdRVqYWuzQyAgz7REQkmsuXMwAA3bp5iFwJERGRYbK0NMP69SPxww/DYW4uxbffXsCwYVtQUlIudmlk4Bj2iYhIFDdv3seff94GwLBPRERUE4lEgrlzg3Dq1HS4u9vi2LFkjBr1P6SlKcUujQwYwz4RETW4s2fvIDT0Z+Tnl2LEiLbw9XUSuyQiIiKDFxzcDH/8MQlNmljh8OEb6NDhe/z++3WxyyIDxbBPREQN6vr1HISEbML16zno2NENmzaN5uJ8REREeurYsSmio+ciNLQ17t8vwbBhW/DZZ39CoxHELo0MDMM+ERE1GEEQMGfOfpSUlOOllwJw4cIsODpaiV0WERGRUWnRwgEHD07Exx8/BwD48MMTeOGF/yE9ndP66W8M+0RE1GDCw2/h+PFkODtb44cfhsPS0kzskoiIiIySVCrBRx/1w/79E+DoaIX9+xPRtu23ePfdoyguVoldHhkAhn0iImowy5adAwCEhQXDxUUucjVERETGb9iwNoiJmYsRI9qioKAMX3xxBr17r8dff2WKXRqJTCIIgtHc3FFcXAy5XI6ioiJYW1uLXQ4RET2GGzdy4Ou7CtbWZkhJeYthn4iIqI5FRNzFxIm/4ebN+zAzk+Ltt3vitde6o3lzB7FLozqmTzbmyD4RETWIrVuvAgBeeimAQZ+IiKgePPNMM1y+PBv//GcQ1GoNvvjiDFq2XIGFC4+hvFwjdnnUwBj2iYio3gmCgC1bKsL+hAkdRa6GiIjIdDk4WOH774fjzJl/YMyYdpBKJVi69DTatFmFQ4eSxC6PGhDDPhER1bv4eAUSErLh6irHwIE+YpdDRERk8nr2bI6dO8fiyJHJaNvWGbdu5WL48K14++3DKCgoE7s8agAM+0REVO8uXEgDAPTp0xJmZrz0EBERNZT+/VshNvZVfPZZf0gkEnz1VQTat/8eBw4kil0a1TP+xUVERPXu0qWKsB8Y6CFyJURERI2PTCbF++/3RWTkTHTt6o6UlDw8//wv6N17PVavvoSSknKxS6R6wLBPRET17tKldABAt24M+0RERGIJCvLE+fOzsHz5YNjYmOPs2TuYM2c/WrVaiS+/PIP8/FKxS6Q6xEfvERFRvVKrNXBw+ByFhSpkZi6Aq6uN2CURERE1ekplKfbsScCyZWcRE3MPAODmZoP//GcgJk7sxNvuDNxTPXpvyZIl6NatG2xtbeHh4YHp06cjKyuryjGJiYno378/rK2t4e3tjfXr19da1IYNG+Dj4wNra2s899xzSEzkvSJERKYsISEbhYUqNG9uz6BPRERkIOzsLDFpUidERc3BwYMT0LNnM2RmFmLatD1o23YVfvjhAqf3GzmdYf/06dOYP38+Ll68iD179iA2Nhbjxo3T7lepVBg+fDhcXFxw4cIFfPjhh5gzZw6OHTum82THjx/H7Nmz8d577+HChQtwd3fH8OHDUVbG1SCJiEzViRPJAIBevZqLXAkRERE9TCKRYOjQNjh9+h/YuPEF+Po6ITk5F6++ehDe3ivw0UcncPToTRjRhHD6P3pP4z937hx69eqF3NxcODg4YO/evRg7diyysrJgZ2cHAJgyZQry8/Oxe/fuatsYM2YMrK2tsWXLFgBAYWEhXF1dsXXrVowaNarWGjiNn4jI+IwevQ27d8dj7doRmDGjm9jlEBERUQ3Uag127ozD55+fRlRUhvb1AQNaYfHiAXjmmWYiVkeVnmoa/8MUCgWsrKxgY1MxBfP8+fPo3r27NugDQEhICCIjI3W2cf78eQwYMED7s42NDYKDg3W+R6VSobi4uMpGRETGo7xcox3ZHzjQR+RqiIiIqDYymRRjx7bHpUuzcfjwJMyb1wPOztY4fjwZPXuuw5tv/o7iYpXYZZIe9Ar7paWl+OSTTzB16lSYmZkBADIzM+Hm5lblOFdX10fu63+QrvdkZmZWe/zixYshl8u1m7Ozsz7lEhGRgYiIuIu8vFL4+jqhZUtHscshIiIiPUkkEgwe3BorVw5FfPzrePfd3jA3l2Llyki0bLkCS5acQmpqvthlUg1qDftqtRqTJk0CACxbtkz7ekPcs/H++++jqKhIu2VnZ9f7OYmIqO78+ONFAMCYMf4iV0JERERPysVFjqVLB+LkyWkIDPRAVlYR3n//OJo1+xojR/6Cs2fviF0iVaPGsK/RaDBt2jTEx8fj8OHDsLW11e5r2rTpIyPyWVlZcHV11dmem5tbte95eLS/krm5OaytratsRERkHDIyCrB9+zVIpRK8+mp3scshIiKip9SzZ3NcuDALR45MxqhR/rCyMsO+fYno3Xs9OnT4HsuXn0VubonYZdL/0Rn2BUHAzJkzERERgSNHjsDJyanK/h49euDixYsoKCjQvnb8+HEEBwfrPFmPHj1w4sQJ7c9FRUWIjIys8T1ERGSc/vWvI1CpNHjhBT9O4SciIjIREokEAwf6YNeucbh9+0188EEfNGlihWvXsrBgwRG4uX2JIUN+xubNMVCp1GKX26jpXI1/zpw5+O2333DgwAG0aNFC+7qrqytkMhnKysoQEBCAbt264aOPPkJkZCTmzp2LQ4cOISQkBEDF6vxeXl5YunQpAODYsWMYMmQIfvzxRzzzzDP49NNPcfHiRcTGxsLCwqLWYrkaPxGRcTh79g56914PKyszXLkyF23acM0VIiIiU1VWpsbhw9exYkUkwsNvQaOpiJguLnKMHRuAsLBn0LYt/xaoS/pkY51hXyKRVPuG5ORkeHt7AwASEhIwZ84cREREoGnTpvj3v/+NGTNmaI/t168fvL29sXHjRu1r69evxyeffIKMjAwEBwdj9erV8PPzq7MPRERE4nv33aP44oszeOutZ/DVV6Fil0NEREQNRKEowq5dcVixIhKxsX8v3u7r64TgYC+89dYzCAz0FLFC0/BUYd8QMewTERmHnj3XISLiLg4enIChQ9uIXQ4RERE1MEEQcOXKPaxcGYlff42FUlmm3TdpUieEhLTCkCG+cHe3raEV0oVhn4iIGlxhYRkcHb+ARiPg/v13YG9vKXZJREREJKKyMjViY7Pw889X8M03kVCpNAAAiaRi0b9Ro/zw/PNt4epqA2dna52zzOlvDPtERNTgjhy5gcGDf0ZQkCcuXJgldjlERERkQBISFNi5Mw5nz97B0aM3UVpadRE/W1sL9O/vjZ49m6Fv35Z45plmkMlqfWJ8o6NPNjZr4JqIiMjEnTt3FwDQp0+LWo4kIiKixsbPzwULF/YBACiVpTh8+AZ2745HePgtFBSUIS+vFPv2JWLfvkQAgJubDUaObIvRo9thwIBWsLJihNUXR/aJiKhOvfDC/7B3bwK2bBmDCRM6il0OERERGZG0NCV+//06oqLSceBAEpKTc7X7bG0tMGZMO8yc2RVdurjDzq7x3irIafxERNTgmjX7CqmpSsTHvwY/PxexyyEiIiIjJQgCrl7NxK5dcdi9OwHR0RnafebmUgwY0ApDh/qiQwc3dOjghqZNG89ifwz7RETUoO7dK4C7+3LY2logr31D6wAAIABJREFUL+9dSKVcYIeIiIjqxo0bOVi16jxOnryNK1fuQaOpGmWDgjwxapQfRo70Q0CAq0nf68+wT0RkRG7evI8TJ5Jx8uRtXLuWhby8EqSmKmFuLoWvrxPat3dDaGhrjBnTDnK5udjlVuvgwSQMH74Vffq0wJ9/The7HCIiIjJRCkUR9u1LwJkzd5CQkI3Ll9NRVKTS7rewkMHPzxkhIa3Qo4cX2rVzRYcObjAzM40vABj2iYiMQFmZGq+9dgDr10c/8g11dVxd5Rg/vgNmzuyGjh2bNkCF+lu69BQWLjyOsLBgrFgxROxyiIiIqJEoLlbh6NGb2LUrHkeO3MTdu/mPHNOkiRVGjPBD374t4ORkDRcXOfz9XeDqaiNCxU+HYZ+IyMCVlakxZsw2HDiQBHNzKV54wR89eniiT5+WsLe3RMuWDigpKUdiYjYuXEjD5s1XcPFimvb9w4e3waef9kfXrh4ifoq/zZy5F+vWReG774bh1Ve7i10OERERNVJKZSmiojLwxx83EBubhZiYe7h58361x7Zo4YBBg3wQEOCKSZM6wc3N8MM/wz4RkQETBAFTpuzGzz9fgbOzNQ4fnoTAQM9a33P+fCo2b76C9eujUFxcDqlUgpdfDsDUqZ0xZIgvJBLx7pMPCdmE48eTcejQRAwZ4itaHUREREQPi49XYN++BFy5kgmlshRpaUrExyugVJZpj7lxYx58fJqIWKV+GPaJiAzYnj3xGDVqG2xtLRAePrXWoP+wrKxCLFlyCt98c147/b9z56Z4440eGD26HZycGv6/kz4+K5GcnMuV+ImIiMgoaDQCLl5Mw/nzqUhIUGDFiiFGsbAfwz4RkQEqL9fg0qU0jBv3K27fzsOqVUPx+us9nri95OT7+N///sKqVeeRnl4AAHBwsMSnn/bHrFmBsLIyq6vSa1ReroGV1WdQqwUUF7/fYOclIiIiamwY9omIDIggCFi3LgrvvHMUOTnFAIAuXdxx4cKsOlkZtrS0HFu2XMVPP8Xgzz9vA6hYiGbMmHZ4881n0KGD21Ofoya3buWiVauV8PKyw9278+v1XERERESNGcM+EZEBWbkyAm++eRgA0Ly5PcaMaYdFi/rBwcGqTs8jCAJ2747Hp5/+iaioDO3rvr5O6NrVHaGhrdG5szv8/JxhZ2dZZ+c9fjwZISGb8OyzLXDqFB+7R0RERFRf9MnGnGNJRNQALl9Ox9tv/wEAWLNmBGbM6FpvC+lJJBKMHt0Oo0e3Q2xsFr777jy2bv0L16/n4Pr1HOzYEas91svLDv7+LmjXzgX+/hWbn58LHBwsIQjA3bv5UCpLAQCOjlZo3dpJ5yyE5OSKFW5btXKsl89FRERERPpj2CciagCfffYn1GoBr7/eHTNndmuw8wYEuOK774ZjxYohuHYtC2fP3kF4+C3ExSmQmJiN1FQlUlOVOHYsWa/27O0tMWBAK3Tr5o6+fVuiaVNb+PtXLMR37txdAEDr1oa/gi0RERGRqeM0fiKiehYXl4WAgO9haSnDrVtvwt3dVuySAABqtQa3buUiPl6h3Sq/BCguLgcAuLnZwMVFDkEQkJlZiNu38x5p55lnmiEoyAM//ngJGo2Av/76J9q1c23oj0NERETUaHAaPxFRA9FoBFy+nI5Ll9JgZiaFn58LgoO9YG4uwxdfnAEATJ/exWCCPgDIZFK0bu2E1q2dMHx4W73ec+NGDiIi7uLPP2/jypVMxMVlISLiLiIiKkb1Z8zoyqBPREREZAA4sk9E9BhKS8sRF1cxCq5QFOHatUycO3cXCQnZKCkpr3Ksvb0lOnZ0Q2RkKjQaAUlJb8DHx7SmuOfnl+LEiWTExyuQnV2Md999Fk5O/O8zERERUX3iavxERHXo9OkUjBv3K9LSlNXub9HCAf36eUMQBFy6lI7Y2CztvokTO+Lnn8c0VKlEREREZMI4jZ+IqI4kJ9/HoEGbUVJSjlatHNGlizvc3W3RtKkNBg1qjfbtXR95hF5amhLx8QqkpuZj5Eg/kSonIiIiosaIYZ+ISA8ffRSOkpJyjB7tj+3bX9b5+LkHeXrawdPTrgGqIyIiIiKqqva/VomIGrnr13Pw889XYG4uxfLlg/UK+kREREREYuLIPpGJUKs1SE1VQq3WwMvLHhYWMrFLMhlr1lyCIAATJnREq1amtcAeEREREZkmhn0iI3Xz5n2sWBGBy5fTYWVlhjNn7mhXg5fJJPDxaYJ27Vzh7+8Mf38XODvLAQBNmljB398FLi5ySCQSMT+CUSgrU2PDhmgAwJw5gSJXQ0RERESkH4Z9IiN05MgNvPzyDuTllVZ53cPDFjKZFGlpSiQl5SApKQd791bfhpOTNbp0ccfIkW0xapQ/WrZ0bIDKjc+GDVHIyipChw5ueOaZZmKXQ0RERESkFz56j8jInDmTgkGDNqO4uBwvvOCHuXODUFSkQq9ezeHubgsAKCkpR1JSNuLjFf+3ZUOpLIUgAPfuFSA+XgGlsqxKu127umPMmHaYPTsQbm42Ynw0g5OXV4J27b5DenoBtm9/CS+/3F7skoiIiIiI9MrGDPtERuTkyVt4/vlfUFBQhhkzumLNmhFPNBVfEASkpSlx8uRt7NoVj0OHklBYqAIAWFrKEBrqi9de645Bg3wa7VT/GzdyMHbsr7h8OR2BgR44f34WpNLG+W9BRERERIaFYZ/IhCgURWjX7jsoFEWYOLEjNm4cVWerwpeUlOPo0ZtYvfoS9u1L1L4eGOiBadO6YMKEjnByajx9bsOGKLz22kEUF5ejdesmOHp0Cry9eZsDERERERkGhn0iE/KPf+zBhg3R6NfPG8eOTam3Ueb0dCU2bozGihWRyMwsBADY2JjjxRcDMGqUH0JDfSGXm9fLucUUE5OBefN+R0pKHm7dygUAjB/fAStXDoGrK29rICIiIiLDoU821jks+NtvvyEkJAQODg6QSCQoLy/X7tu4cSMkEskjW0BAgM5iwsPDHzne0ZEjZUT6uHs3H5s2xUAmk2D16ufrdTq5h4cd3nuvD27dCsPmzaMxeHBrFBaqsGlTDMaM2Q4Xl/9g1Kj/YefOWKjVmnqro6GtWBGJP/+8jVu3cmFpKcPatSOwdeuLDPpEREREZJR0rsZfVFSEAQMGYODAgVi4cGGVfePGjcOQIUOqvBYcHIwxY8bUesK7d+9CJqt4/rdUWjdTkIlM3Y8/XoRaLWDs2PZo08a5Qc5pbW2OSZM6YdKkTkhIUGDXrnjs3h2PyMhU7NmTgD17EmBra4GgIE+MGuWHwYNbo00b5zq7taChnT6dAgAIDvbCd98NQ2Cgp8gVERERERE9uVqn8YeHh6N///5QqVQwM6v+u4EzZ87g2WefRWJiItq0afPE7dSG0/hNV1GRCoIgwMbGQuxSDI5arYGX11e4d68Qp05Nx7PPthC1nrQ0JX79NRbffBOJGzfuV9lnZ2eBYcPaYPjwNuja1QPt27saxQJ/GRkF8PBYDhsbc+Tmvmu0X1gQERERUeOgTzZ+stT9kI0bN6JXr146g/6D2rRpA5VKhaCgIHz++efw9/evixLICJ05k4L//vcSjh69ifT0AgAVz363tbWAl5cd7O0t4eFhh169mqFfP2/4+DSBTNb4QtjZs3dw714hfHyaoHfv5mKXA09PO8ybF4x584KRlVWII0duakf8U1LysG3bNWzbdg0A4OVlh06dmsLf3wUBAa4YNMgHLVsa3u07laP6PXs2Z9AnIiIiIpPw1GG/uLgYO3bswJdfflnjcR4eHli7di0CAwOhVCqxfPly9O7dG3FxcXBzc6v2PSqVqspaAcXFxU9bLhkAtVqDuXP3Y+3aKO1rFhYySCRATk4xcnKKkZKSp923cWM0AMDFRY4RI9pi3Lj2GDy4tVGMGNeFXbviAQCjR/sb3Gd2dbXBhAkdMWFCRwDAzZv3sXt3PE6fTsG5c3eRmqpEaqoShw5d177H2dka7dq5wt/fGf7+LvD3d0G7dq5o2dJBtC9zKsN+nz7izpogIiIiIqorTz2Nf+vWrZg5cybS09Ph4OCg94lVKhX8/f3xz3/+EwsWLKj2mI8//hiLFi165HVO4zdegiBg5sy9WL8+GtbWZpg/vycmTOgIf38XSCTAvXuFKCpSISUlD0VFKiQn38fhwzdw6VI60tKU2nb8/V3w0kvtMHp0O3Tt6m5wIbiulJWp4ev7De7cycfp09PRu7fxhFGNRkBiYjYSEhSIi1Pg4sU0HDlyE/n5pdUeb2kpQ5Mm1nB2ttZ+CVC5tWjhALncHLa29XObR1DQaly6lI5jx6ZgwIBW9XIOIiIiIqK6UieP3qst7A8ePBguLi7YunXrYxc4evRoeHp64rvvvqt2f3Uj+87Ozgz7RmzVqkjMm/c7rK3N8Mcfk/W+/1wQBMTFKbBzZyx++OGidto/ALi726JrV3eEhrZG587uCAhwhZubaayg/tVX5/D223+gbVtnxMW9Vq+r8DcEQRCQlqZEfHzFFwDx8X9vqanKWt/v6WkHH58msLY2Q+vWTeDv74K2bZ0hl5ujZUtHtGjh8Nj/RkplKRwdv4BUKkFu7jtcN4KIiIiIDF6937OfmpqKY8eO4dChQ4/9XrVajWvXrqFXr146jzE3N4e5uek9z/tharUGCkURav7a5fGZm0vh5GRtEKPepaXlWLcuCmFhvwMA1q0b+VgLzVU82tEVAQHP4Z13nkV4+C3s3l2xOnx6egEOHbpeZap4585NERjoUWWauLe3o1Hdj335cjo++igcAPD116FGH/SBiv8fvbzs4eVlj5AQnyr7lMpSKJVlyMgo0H4BUPmFQHq6EgUFZUhLU2pneBw58mj7VlZmsLExh6enHfz9XeDsbA1nZzn8/V3g7m4LiQSwtbVA8+YOsLExh4ODFSIi7kKjERAU5MmgT0REREQmQ2fYz8nJQUpKCq5frwhQMTExkMlk8PX1ha2tLQBg06ZN8PDwwMCBAx95/3vvvYfU1FRs2rQJALBy5Uq0bt0a7dq1g1KpxJdffomsrCxMnDixPj6X6JKSshEcvFavY4uKVCgtVddLHTY25rCwkNV4jJubDVxc5DUeY2EhQ8uWjjA31z8sC4KAe/cKER+vwM2b96FWV3yb8dln/TF+fEe926mulsGDW2Pw4Nb49tthuHnzPs6evYPw8FuIj1fgypV7iImp2B5kbi6Fra0F3N1t4e/vov3Mjo5W8PS0g0QCyOXmaN7cATLZo8FaKpVop5Prw87OEvb2lo/9+bKyCvHrr7F4//3jKCgow8SJHTFsWO2LXxo7OztL2NlZwtPTDt26eTyyX63WICUlD7dv56GwsAxJSTmIj1fg+vUcFBeXIzn5PtLTC1BSUo7s7GJcvZpZ6znt7S2hUlX0vWefFX/xQyIiIiKiuqIz7O/duxfTp0/X/hwUFAQAOHHiBPr16wcA+OmnnzB58mRIpY8GwPT0dKSkpGh/Li0tRVhYGFJTU+Hg4IDu3bvj5MmT8PQ0zWdZazQC7t8v0ft4Z2frOh91LipSQaksQ2Ghqsbj7t8vQUJCdp2e+2FSqQSdOzfFggW9MHHikwf96tr19XWCr68TpkzpDAAoKSlHRMRdxMVlVRkdvnMnH/fvl+D+/RLExSnqrIaa2NlZPNaIvEYjQKks0/78wgt+WL/+hfoozejIZFK0atUErVo10XmMUlmK4uJypKTkIT5egfz8UqSnKxEfn42cnIoFPnNyipGerkR+fql2/QALCxlefDGgQT4HEREREVFDqPWefUOiz30JhkKt1iAvr/qFyB5maSmrl+nDgiAgL68UGo3u/4sFQUBqqlLnommVCgvLcOdOfo1tVadJEyv4+7ugTRtnWFnVyZMen1hRkQpFRSrcvZuvDYKCICAzsxAKRRGAii8+HlwP4EFlZWrcvp0LlUqj1/lycopRUlJe+4EPkcvN0bNnM8yc2Q3jxrU3iNswTJFGIyAvrwSCAFhbm8Ha2vRvGSIiIiIi01AnC/QZEmMK+0QajVDrlyjVsbe3NIn784mIiIiIqH7U+wJ9RKSbVCqBo6OV2GUQEREREVEjZDxLkxMRERERERGRXhj2iYiIiIiIiEwMwz4RERERERGRiWHYJyIiIiIiIjIxDPtEREREREREJoZhn4iIiIiIiMjEMOwTERERERERmRiGfSIiIiIiIiITw7BPREREREREZGIY9omIiIiIiIhMDMM+ERERERERkYlh2CciIiIiIiIyMQz7RERERERERCbGTOwCHocgCACA4uJikSshIiIiIiIiEkdlJq7MyNUxqrBfUlICAHB2dha5EiIiIiIiIiJxlZSUQC6XV7tPItT0VYCB0Wg0yM3NhZWVFSQSidjl1Kq4uBjOzs7Izs6GtbW12OUQGSX2I6K6wb5E9PTYj4ieHvtR3RAEASUlJXB0dIRUWv3d+UY1si+VSuHk5CR2GY/N2tqav8hET4n9iKhusC8RPT32I6Knx3709HSN6FfiAn1EREREREREJoZhn4iIiIiIiMjEyD7++OOPxS7ClEmlUvTr1w8ymUzsUoiMFvsRUd1gXyJ6euxHRE+P/ahhGNUCfURERERERERUO07jJyIiIiIiIjIxDPtEREREREREJoZhn4iIiIiIiMjEmGTYz83NxYwZM+Du7g5bW1v06tULf/75Z43vWbNmDXr16gUHBwe4urrixRdfxM2bN7X7CwoKMHToUHh6esLS0hLe3t744IMPUF5eXmO7kZGRCAoKgpWVFfz9/bF///4q+wsKCjB9+nTY29vD2dkZb731Vq1tJiYmon///rC2toa3tzfWr19fZX95eTnmz58PFxcX2NnZYerUqSgoKKixTaKH1Uc/AgBvb29IJJIq2+7du2tst6Z+lJOTg9deew2+vr6wtrZG69at8emnn0KtVtfYZkZGBkaNGgW5XA4PDw8sWbLkkWM+//xzeHp6Qi6XY+TIkcjIyKixTaKH1Uc/Cg8Pf6QPSSSSWp+1W9v1qFJ+fj5atmwJiUTC6xEZjPq6JkVGRqJv376ws7ODp6cnFi1ahNqWs6rt9x4Ajh49iuDgYFhZWcHV1RVvvfVWjW3ymkQN4Un60caNG9GpUyfY2dnBwcEBAwYMwIULF6oc88Ybb6Bz584wMzPDpEmT9KqltmvStWvXEBoaCkdHRzg7O2PMmDFISUmpsU1ek6ohmKDp06cLHTt2FM6dOydcv35dCAsLE+zs7IScnByd75k4caLw448/CjExMUJMTIwwbNgwoW3btkJZWZkgCIJQUFAgfPvtt8LFixeFW7duCQcOHBDc3d2FTz/9VGebCoVCaNKkifDaa68J165dE5YsWSJYWFgIcXFx2mOmTJki+Pv7CxEREcKxY8cEDw8P4cMPP9TZZllZmeDr6yu89NJLwtWrV4W1a9cKZmZmwtGjR7XH/Pvf/xaaNm0qHD16VIiMjBQCAgKEyZMnP84/IVG99CNBEISWLVsKy5cvF9LT07VbSUmJzjZr60dXr14VXn75ZeHAgQPC9evXhb179wqurq7CokWLavx8ffv2Ffr06SNERUUJv/32m2BrayusW7dOu3/9+vWCjY2NsHPnTiEqKkp47rnnhL59++r7z0ckCEL99KPS0tIq/Sc9PV3o1auXMHHiRJ1t6nM9qjRlyhQhNDRUACCoVCqdbfJ6RA2pPvrS3bt3BQcHB+Gdd94RkpKShMOHDwvNmjUTli1bprNNfX7vjx8/LtjZ2QkrVqwQEhIShCtXrgj79++v8fPxmkQN4Un60aFDh4T9+/cLSUlJQmxsrDBnzhyhSZMmQl5envaYefPmCT/++KMQGhpa47Wokj7XJB8fH2Hs2LFCXFycEB0dLfTv31/o3bu3zjZ5TaqeSYb9gIAA4euvv9b+nJ+fLwAQzp07p3cbaWlpAgAhJiZG5zHz588XhgwZonP/ypUrBS8vL0Gj0Whf69OnjxAWFiYIgiDk5OQIMplM+OOPP7T7161bJzg7Owvl5eXVtrlnzx7B0tJSyM/P1742efJk4YUXXhAEQRDUarXg4uIirF69Wrv/2LFjgkwmExQKRS2fmuhv9dWPWrZsKaxZs0bvNmrrR9VZsmSJ0LVrV537Y2JiBABCQkKC9rUPP/xQ6Ny5s/bnrl27CgsXLtT+fOPGDQGAEBUVpXftRA1xPUpJSRGkUmmVa8nD9O1Hv/32m9CjRw/h6NGjtYZ9Xo+oIdVHX/rvf/8rtGrVqsoxq1atEjw9Pav0lQfV9nsvCILQrVs34eOPP9a7Ll6TqKHURT+qfE9ERMQj+6ZOnapX2K/tmpSZmfnI7/fevXsFKysrnW3ymlQ9k5zG37NnT+zZswcKhQJqtRrr16+Hp6cnOnTooHcbCoUCAODk5FTt/ps3b+L333/Hs88+q7ON8+fPo3///pBIJNrXQkJCEBkZCQC4dOkSBEFAv379quzPzs7G9evXAVRMnXnw/efPn0f37t1hZ2dXbZs3b96EQqHAgAEDtPufe+45AMDFixf1+uxEQP32ow8//BCurq7o0aMHfvrppxrbqK0f6Trvg+esnPZ869YtbZvNmjVD27Ztq7R59epVFBcXo7S0FDExMVX6kY+PD7y9vWs8L9HDGuJ6tGnTJnh5eSEkJERnG/r0o3v37iEsLAwbN26s9rnHvB6RmOqjL5WWlsLKyqrKMXK5HGlpadrrxcNq+73PyMjA5cuX4ejoiO7du8PDwwOjR4/G7du3tcfzmkRiedp+pFKpsGbNGjg7O8Pf3/+J66jtmuTs7Iw2bdpg8+bNKC0tRUFBAX755RcMGjRIezyvSfoxybC/atUquLi4wNXVFZaWlli6dCkOHDgAW1tbvd4vCAI++OADhIaGolmzZlX2jR8/XntfcJ8+fbBw4UKd7WRmZsLNza3Ka66ursjMzNTud3R0hLm5eZX9lfsAwMHBAX5+frW2mZWVVeV9Dx4jk8ng5OSk3Uekj/rqR2+99RZ27NiBI0eOYOzYsZgzZw7WrVuns53a+tHDbt68ibVr12LmzJna1+RyOfz8/LR9TVebGo0GCoUC2dnZ0Gg0j3VeourU5/Wo0qZNmzB58mRIpbov6fr0o1mzZmHevHlo165dtW3wekRiqo++1K9fPyQmJmLNmjVQq9VITk7G119/DQA674ev7fe+MsAvWbIEb7/9Nvbu3QuVSoWhQ4dq18DgNYnE8qT96OrVq7C1tYWVlRWWLVuGw4cPw8HB4YnrqO2aJJVK8ccff+CPP/6AXC6Hvb09bty4gc2bN2uP5zVJPyYZ9leuXImkpCQcOXIEFy5cwPjx4zFy5EhkZ2cDAGxtbbVbdQugvP3227h69So2bNjwyL6vv/4aUVFR2LZtGw4ePIhvvvlGZx1CLQu8VLf/wW+oAGD06NGIj49/qjaJnkR99aOwsDA8++yz6NKlCxYsWIB//etf2j+uqvM4v9OZmZkYNmwYxo8fj1deeUX7eo8ePRAfHw8vLy+92mQ/orpSn9cjADh79iwSExMxderUGuuo7Xd6w4YNUCgUmD9/vs5jeD0iMdVHX+rYsSPWrFmDd955B5aWlujcuTNGjRoFADq/PKvt91qj0QAAXn31Vbzyyivo3r07fvrpJyQmJuLcuXMAeE0i8TxpP/Lz80N0dDTOnTuH559/HuPGjUNOTs4T16FPP3r11VcREBCAiIgInDp1CnZ2dpgwYYL2GF6T9GMmdgF1rbi4GP/+979x9OhR9O3bFwDQtWtXHDhwAFu3bsUbb7yB6Oho7fEPT4tcuHAhtm/fjlOnTsHDw+OR9t3d3eHu7g5/f3+oVCrMmzcPYWFh1dbStGnTR74pysrK0n6j1LRpU+Tm5kKlUlX5dhfAI99MPdjmg7/YlW1Wzgho2rSptp3KaSxqtRo5OTk62yR6WH33owcFBgZi+fLlOvfX1o8qZWdnY+DAgQgKCsL3339f4zl1tSmVSuHi4gKpVAqpVKrXeYl0aYh+tHHjRvTs2bPK9N/q1NaPTp48icjISFhYWAD4+48iKysrfP/995g9e3a1bfJ6RA2hPvvS9OnTMW3aNKSnp8PZ2RknTpwAUPHkmOro+3v/4Iijs7MzXFxccOfOHZ1t8ppE9e1p+pGFhQV8fX0BVHxZ1bZtW/z888+YN2/eE9VS2zXp+PHjOHHiBHJzc2FpaQng71vWrl69io4dO1bbJq9JjzK5kX2VSgWVSvXI/YZSqVT7bauvr692e/AXedGiRVi7di2OHDmCVq1a1XoujUZT7X2NlXr06IHw8PAq3yQdP34cwcHBAIBu3bpBIpHg5MmTVfY7OztrO1R1bV68eLHKYyIebNPHxwcuLi7aixUA7SM1goKCav1MREDD9qOYmBidf1QBtfcjALh//z4GDRoEHx8fbNy4scbpzJVt3r17F0lJSVXa7NixI6ytrbUjPA/2o+TkZNy6davKeYlqUt/9qKSkBNu3b8e0adNqraW2frR48WLExMQgOjoa0dHRWLt2LYCKtWVefvllnW3yekQNob77kkQi0T5aeceOHejRo4c2GDystt/7Vq1awc3NTbv2ElDxuDOFQoEWLVrobJPXJKpvT9OPHqbRaGBm9uRjxrVdk4qKiiCRSKr8PVf5v/9/e/ce0tQbxgH8O9K12aZT0VlUGlYzU/ujEiqbEUE3lWhZUlmj6AJlJRSRFV3oXlBERUiREnaBiuh+IZWC2hSbYqtIUUNhXemKFtOe3x8/PLTMrNDE+f3AYDvvOe/7nsNenvPs7Jy3ua8/q5Mx6Sf+1ZMA/6UxY8ZIfHy82Gw2qaiokPXr14tarZbHjx+3us3OnTtFq9XK9evXPaYz+vr1q4iI3L17V7Kzs6W8vFyqqqrk/Pnz0rdvX1mxYkWrdTZPK5GRkSGPHz+WXbt2tZhWIj09XaKjo8Vut0t+fr706dPHY+q9CxcuiMlkUj5//fpVIiMjJTU1VR5LDkctAAAIPUlEQVQ9eiTHjx8XX19fj2klNm7cKL1795Y7d+6I3W6XmJgYr59WgtpfR4yj+/fvy8GDB6WsrEwqKyvl6NGj4ufnJ0eOHGm1zrbG0YcPH2TkyJESHx8vz58/V9p89eqVUofdbheTySR1dXXKMrPZLImJiVJaWioXL14UvV7vMc3R8ePHRafTyYULF5QpX8aOHfvXx5O6p44YR81OnTolGo1G3r9/32Y/ficefa+goKDF0/gZj6gzddRYao5J5eXlsnbtWlGr1XLv3r1W6/yd7/327dslODhYrly5Ik+ePBGLxSKxsbHKTEuMSdRZ/mYcbd26VQoLC6W6ulocDocsWbJE/P39pbq6WlmnoqJCHA6HJCcny5QpU8ThcIjT6Wy1zrZi0qtXr8RgMIjVapUnT55IWVmZJCUlSWRkpDJ+GZN+j1cm+3V1dZKWliahoaHSq1cvGTFihFy9evWX24SHhwuAFq+CggIRESkqKpKEhAQJCAgQrVYrUVFRsm3bthYnXz968OCBDB8+XNRqtZhMJrl06ZJH+adPn2T+/Pmi1+slMDBQVq5c6XFydeLECfnxN5mnT59KYmKi9OzZU/r37y/Hjh3zKHe73ZKZmSlBQUGi0+kkPT1dPn361NZhI/LQEeOopKRERo4cKXq9Xvz8/CQuLk6ys7NbneKo2a/GUXNS8uMrPDy8xTrfByaXyyUpKSmi1WrFaDTKtm3bWrS7Y8cOCQsLE41GI0lJSeJyudo+cETf6Yhx1GzixImSlpb2231pKx5972fJPuMRdaaOGkupqaliMBhEo9HI6NGjpbCwsM2+tPW9b2pqkqysLAkNDZWAgABJTk6W58+fK+WMSdRZ/mYcZWZmSkREhKjVajEajTJ16lQpLi72WCcxMfGX52E/01ZMun//vpjNZvH395egoCCZOnWqxw/UjEm/RyXSTZ9WQEREREREROSlvO6efSIiIiIiIqLujsk+ERERERERkZdhsk9ERERERETkZZjsExEREREREXkZJvtEREREREREXobJPhEREREREZGXYbJPRERERERE5GWY7BMRERERERF5GSb7REREXqaxsREqlQqFhYX/tN2cnBz07dv3n7ZJREREP8dkn4iIqBurrKyESqVCTU3NH203d+5cWK1Wj2WzZs2Cw+Fov84RERHRX/Pp7A4QERGRd9BqtdBqtZ3dDSIiIgKv7BMREXV5Hz58gMVigVarxeDBg3Hr1i2l7OXLl5gxYwbCwsKg1+thNptRWlqqlA8aNAgAMGDAAKhUKmzevBkAUF9fj2XLliEkJAQGgwFJSUnK1f/NmzcjLy8Pubm5UKlUUKlUAFr+jd9qtWLOnDlYt24dgoKCYDQaceLECbx//x6pqanQ6XSIi4vz6A8AnDlzBtHR0dBqtYiJicG5c+c64rARERF5NSb7REREXdyqVavgdDqRn5+P3NxcbNq0SSlraGiA2WzG7du3UVJSgujoaKSkpODLly8AgAcPHgAAioqK4HK5sHr1agDA0qVLUVFRgevXr8NutyM0NBTJycloamrC6tWrYbFYMHPmTLhcLrhcrlb7dvnyZQCAzWbDihUrsGTJEsyePRvTpk2Dw+HAwIEDsXDhQmX9/Px8ZGRkYMuWLXA6ncjKysK8efNgs9na/bgRERF5M5WISGd3goiIiP7Ox48fERwcjMuXL2PSpEkAgBs3bmDy5MkoKCjAuHHjPNZvampCQEAArl27BrPZjMrKSgwaNAjV1dWIiIgAANTU1MBkMuHFixcIDAwEALjdbhgMBty8eRMJCQmYO3cufHx8kJOTo9Sdk5ODDRs2oK6uDsD/V/aLi4vhdDo92rZarTh06BCA/38EGDVqFD5+/Ai9Xo/x48dj+vTpWL58uVLv4sWL8e3bNxw7dqwjDiEREZFX4pV9IiKiLqyqqgqNjY2Ij49Xln3/3u12IysrC0OGDIHBYEBAQADq6+tRW1vbap1OpxNutxv9+vWDTqeDTqdDYGAgGhoaUFVV9Uf9i4mJUd736NEDwcHBGDp0qLLMaDQCAF6/fg0AKC8vx5o1a5R2dTodcnJy/rhdIiKi7o4P6CMiIurCmv+g13zf/I92796N3NxcHDx4ECaTCRqNBvHx8XC73a3W+fnzZ2i12hb30gNAaGjoH/XP19fX47NKpfJY1tzvb9++KW3v27cPEydO9NiOD/4jIiL6M0z2iYiIurDIyEj4+PigqKhISZCLi4uVcpvNhtTUVFgsFgBAbW0t3r17p5Q3J95NTU3KsmHDhqG+vh4NDQ2IjY39abu+vr5obGxs9/0ZNmwYqqqqMHDgwHavm4iIqDvh3/iJiIi6MH9/f8yePRuZmZmw2+2w2WzYuHGjUh4ZGYkbN27g4cOHePjwIebPnw+NRqOUh4WFQa1W49atW3j9+jXq6+sRFRWF6dOnIy0tDTdv3kR1dTXu3r2LjIwMvH37FgAQHh4Oh8OBmpoavHnzpt32JysrC4cPH8b+/fvx7NkzlJWV4dChQzh79my7tUFERNQdMNknIiLq4g4cOACTyYTExETMmTPHI9nfsGEDBgwYgISEBFgsFixevBjBwcFKec+ePbF3715s3boVRqMRe/bsAQDk5eVh0qRJWLBgAaKiomC1WuF2u+Hn5wcAWLRoEYKCghAdHY2QkJB225eUlBScPn0aJ0+eRGxsLCZMmIArV64gPDy83dogIiLqDvg0fiIiIiIiIiIvwyv7RERERERERF6GyT4RERERERGRl2GyT0RERERERORlmOwTEREREREReRkm+0RERERERERehsk+ERERERERkZf5Dx5uvJyer0P/AAAAAElFTkSuQmCC\" class=\"pd_save\"></center>\n",
       "                        \n",
       "                    \n",
       "                \n",
       "        </div>"
      ],
      "text/plain": [
       "<IPython.core.display.HTML object>"
      ]
     },
     "metadata": {},
     "output_type": "display_data"
    }
   ],
   "source": [
    "hunting = df\n",
    "display(hunting)"
   ]
  },
  {
   "cell_type": "markdown",
   "metadata": {},
   "source": [
    "### 2.8 Gather data for Max stream flows\n",
    "#### We have already:\n",
    "* Found data we can use\n",
    "* Cleaned the data\n",
    "* Displayed the data\n",
    "\n",
    "Next, let's aggregate stream Gauge Maximums for `Gauge Height` and `Discharge` so that we can put them on a map.\n",
    "This is done offline, manually using a text editor after downloading from various stream gauges, and then put into a single file."
   ]
  },
  {
   "cell_type": "code",
   "execution_count": 19,
   "metadata": {},
   "outputs": [
    {
     "name": "stdout",
     "output_type": "stream",
     "text": [
      "--2019-03-25 18:38:16--  https://ibm.box.com/shared/static/oh717dsl1d63nhomhguoqwpyp1f00psk.csv\n",
      "Resolving ibm.box.com (ibm.box.com)... 107.152.26.197\n",
      "Connecting to ibm.box.com (ibm.box.com)|107.152.26.197|:443... connected.\n",
      "HTTP request sent, awaiting response... 301 Moved Permanently\n",
      "Location: /public/static/oh717dsl1d63nhomhguoqwpyp1f00psk.csv [following]\n",
      "--2019-03-25 18:38:16--  https://ibm.box.com/public/static/oh717dsl1d63nhomhguoqwpyp1f00psk.csv\n",
      "Reusing existing connection to ibm.box.com:443.\n",
      "HTTP request sent, awaiting response... 301 Moved Permanently\n",
      "Location: https://ibm.ent.box.com/public/static/oh717dsl1d63nhomhguoqwpyp1f00psk.csv [following]\n",
      "--2019-03-25 18:38:16--  https://ibm.ent.box.com/public/static/oh717dsl1d63nhomhguoqwpyp1f00psk.csv\n",
      "Resolving ibm.ent.box.com (ibm.ent.box.com)... 107.152.25.211, 107.152.24.211\n",
      "Connecting to ibm.ent.box.com (ibm.ent.box.com)|107.152.25.211|:443... connected.\n",
      "HTTP request sent, awaiting response... 302 Found\n",
      "Location: https://public.boxcloud.com/d/1/b1!lWHsDHuQbT7rPv4ra-fcm4qYRUicjoKR1an2KX5yEr4XjEmrTgJtnPRi2r0F_ulBTQXl7cZx1MDeJiEbyuuGVKHVhAmsvB68EGDBgp0oeb9SgNAGKHWTQZdw3VpCiORcLssWXf12slZozvdD2negXlP0q2IUgFD8ypoOcbsE6PaJcUiFU7cK2yrEWXTX6rvj4_oQeSrDXfbFCD9PdMJsSJobu5s7zLKR0EsrAZv2Zx-KRwr3CnUK_letrGxJFIQGtLib9zIa7mffxvlUhIaGg3E7g0aLh_v2X89yGpp3CppC3AePvtmDaJM2GFT9sYM7slFR-GfaoaPowTYX9al5e53W3PlLGeaWib64CfNVN-pQIC8oNP0OavWeAJvNvrOmUjAwmTci0XqtHxA3o-6p7q44DZl89K07qwOXlhSOoZ9UWp7uzaAS7yYnrr_j76zinp8PMa_jaifzhL53_Ox2eyrXRoVEmt4Kif-F-Nt484U8JPPS9absLovKSbBQsq5K0BH6vSQ55EmeddfIO18fw9d-oFmxJh9TsGIop9H_heoB9V2xYIEcKMoPZ05TUmR4bOygv2ZOjeahG25ogxF7x62gP_edpkptEsfQFwbSz-Gbk_ublGhJlzaItugiJ1EJWUuM_-vi5XcJg-GcKEKxHovrESYP4YFE5KzVjGO6WZA2TbO1ES-oI7f68EB5cM-Q3OIcsWFn-bRZ52hg8gEMKwiZ7PG5wIvwY6UOkBZQi-qvJ40bu741E84Emrpaoa09htGWmWdsdEkWIeUhFAt3eAPaHL4FlBw-vqMzt8O876BuwXF0TAm_DrSBF-_218kCaiDdLf-qNQq0b1IvsF1HrMYVMZ8n2nSX0x39WpJCzvuXqa6cHQZONuVsPb2V5hB3D1go8_GlpTFGnMNsRZ_o-SGAE6qBRp--kAPbtfmfm1JNetqw8U3ihsEfek8YyPdsmlwdFcWV8nwLvwwg-_xevWt9-fZPdxbFjJTZeRWNP6pHQKVJQwrESPxO-J3798IVSo3zKUlVKWIoTY6129yJlu8BV-JTVVbVz4VVqwpIvMdVtkBf397-UpI3v4p69Hani4tbUEPXXlv4RWBd7cPNnXSdICzHPuYw6XAzLWjGngEktY1Qph0kPjZmbidZpoHl5D3QANo5Xsek-DxwKoqkBeqkId3ZQWBG2ji40BNEQT_06u6hXHl7I3-F30lN7oqsS_o-rcZcxdKzvPY_eoa_JCzsBAg629iWLH98VIj0kuyeTtd3fbpSQCGz-BlDY-EyvSWG3uewSJbjse9gPX6Xn-t9X92TnRF2ji2LVcOf1tgj7V9CvcsKMolE7JyCZOyeTCv7LyMcriarLrh1QGYuLNtko5xVFbsFOa6LRw2H5KVtM15ha8pBYuLbM8-FWKivBPjCI69GLuMCrA../download [following]\n",
      "--2019-03-25 18:38:18--  https://public.boxcloud.com/d/1/b1!lWHsDHuQbT7rPv4ra-fcm4qYRUicjoKR1an2KX5yEr4XjEmrTgJtnPRi2r0F_ulBTQXl7cZx1MDeJiEbyuuGVKHVhAmsvB68EGDBgp0oeb9SgNAGKHWTQZdw3VpCiORcLssWXf12slZozvdD2negXlP0q2IUgFD8ypoOcbsE6PaJcUiFU7cK2yrEWXTX6rvj4_oQeSrDXfbFCD9PdMJsSJobu5s7zLKR0EsrAZv2Zx-KRwr3CnUK_letrGxJFIQGtLib9zIa7mffxvlUhIaGg3E7g0aLh_v2X89yGpp3CppC3AePvtmDaJM2GFT9sYM7slFR-GfaoaPowTYX9al5e53W3PlLGeaWib64CfNVN-pQIC8oNP0OavWeAJvNvrOmUjAwmTci0XqtHxA3o-6p7q44DZl89K07qwOXlhSOoZ9UWp7uzaAS7yYnrr_j76zinp8PMa_jaifzhL53_Ox2eyrXRoVEmt4Kif-F-Nt484U8JPPS9absLovKSbBQsq5K0BH6vSQ55EmeddfIO18fw9d-oFmxJh9TsGIop9H_heoB9V2xYIEcKMoPZ05TUmR4bOygv2ZOjeahG25ogxF7x62gP_edpkptEsfQFwbSz-Gbk_ublGhJlzaItugiJ1EJWUuM_-vi5XcJg-GcKEKxHovrESYP4YFE5KzVjGO6WZA2TbO1ES-oI7f68EB5cM-Q3OIcsWFn-bRZ52hg8gEMKwiZ7PG5wIvwY6UOkBZQi-qvJ40bu741E84Emrpaoa09htGWmWdsdEkWIeUhFAt3eAPaHL4FlBw-vqMzt8O876BuwXF0TAm_DrSBF-_218kCaiDdLf-qNQq0b1IvsF1HrMYVMZ8n2nSX0x39WpJCzvuXqa6cHQZONuVsPb2V5hB3D1go8_GlpTFGnMNsRZ_o-SGAE6qBRp--kAPbtfmfm1JNetqw8U3ihsEfek8YyPdsmlwdFcWV8nwLvwwg-_xevWt9-fZPdxbFjJTZeRWNP6pHQKVJQwrESPxO-J3798IVSo3zKUlVKWIoTY6129yJlu8BV-JTVVbVz4VVqwpIvMdVtkBf397-UpI3v4p69Hani4tbUEPXXlv4RWBd7cPNnXSdICzHPuYw6XAzLWjGngEktY1Qph0kPjZmbidZpoHl5D3QANo5Xsek-DxwKoqkBeqkId3ZQWBG2ji40BNEQT_06u6hXHl7I3-F30lN7oqsS_o-rcZcxdKzvPY_eoa_JCzsBAg629iWLH98VIj0kuyeTtd3fbpSQCGz-BlDY-EyvSWG3uewSJbjse9gPX6Xn-t9X92TnRF2ji2LVcOf1tgj7V9CvcsKMolE7JyCZOyeTCv7LyMcriarLrh1QGYuLNtko5xVFbsFOa6LRw2H5KVtM15ha8pBYuLbM8-FWKivBPjCI69GLuMCrA../download\n",
      "Resolving public.boxcloud.com (public.boxcloud.com)... 107.152.27.200\n",
      "Connecting to public.boxcloud.com (public.boxcloud.com)|107.152.27.200|:443... connected.\n",
      "HTTP request sent, awaiting response... 200 OK\n",
      "Length: 291 [text/csv]\n",
      "Saving to: 'oh717dsl1d63nhomhguoqwpyp1f00psk.csv'\n",
      "\n",
      "oh717dsl1d63nhomhgu 100%[===================>]     291  --.-KB/s    in 0s      \n",
      "\n",
      "2019-03-25 18:38:18 (47.6 MB/s) - 'oh717dsl1d63nhomhguoqwpyp1f00psk.csv' saved [291/291]\n",
      "\n"
     ]
    }
   ],
   "source": [
    "!wget \"https://ibm.box.com/shared/static/oh717dsl1d63nhomhguoqwpyp1f00psk.csv\""
   ]
  },
  {
   "cell_type": "code",
   "execution_count": 20,
   "metadata": {},
   "outputs": [
    {
     "name": "stdout",
     "output_type": "stream",
     "text": [
      "HuntingBayou  flood.csv  logs  pixiedust.db  spark-events  user-libs\r\n"
     ]
    }
   ],
   "source": [
    "!mv oh717dsl1d63nhomhguoqwpyp1f00psk.csv flood.csv\n",
    "!ls"
   ]
  },
  {
   "cell_type": "code",
   "execution_count": 21,
   "metadata": {},
   "outputs": [],
   "source": [
    "maxFlood = pd.read_csv('flood.csv')"
   ]
  },
  {
   "cell_type": "code",
   "execution_count": 22,
   "metadata": {},
   "outputs": [
    {
     "data": {
      "text/html": [
       "<div>\n",
       "<style scoped>\n",
       "    .dataframe tbody tr th:only-of-type {\n",
       "        vertical-align: middle;\n",
       "    }\n",
       "\n",
       "    .dataframe tbody tr th {\n",
       "        vertical-align: top;\n",
       "    }\n",
       "\n",
       "    .dataframe thead th {\n",
       "        text-align: right;\n",
       "    }\n",
       "</style>\n",
       "<table border=\"1\" class=\"dataframe\">\n",
       "  <thead>\n",
       "    <tr style=\"text-align: right;\">\n",
       "      <th></th>\n",
       "      <th>site_name</th>\n",
       "      <th>datetime</th>\n",
       "      <th>Discharge</th>\n",
       "      <th>Gage_Height</th>\n",
       "      <th>latitude</th>\n",
       "      <th>longitude</th>\n",
       "    </tr>\n",
       "  </thead>\n",
       "  <tbody>\n",
       "    <tr>\n",
       "      <th>0</th>\n",
       "      <td>HuntingBayou</td>\n",
       "      <td>8-27 7:30</td>\n",
       "      <td>6640</td>\n",
       "      <td>37.10</td>\n",
       "      <td>29.808611</td>\n",
       "      <td>-95.313056</td>\n",
       "    </tr>\n",
       "    <tr>\n",
       "      <th>1</th>\n",
       "      <td>WhiteoakBayou</td>\n",
       "      <td>8-27 5:30</td>\n",
       "      <td>30700</td>\n",
       "      <td>39.54</td>\n",
       "      <td>29.775000</td>\n",
       "      <td>-95.396944</td>\n",
       "    </tr>\n",
       "    <tr>\n",
       "      <th>2</th>\n",
       "      <td>BraysBayou</td>\n",
       "      <td>8-27 23:00</td>\n",
       "      <td>33200</td>\n",
       "      <td>45.08</td>\n",
       "      <td>29.696944</td>\n",
       "      <td>-95.411944</td>\n",
       "    </tr>\n",
       "    <tr>\n",
       "      <th>3</th>\n",
       "      <td>WhiteoakBayouMainSt</td>\n",
       "      <td>8-27 14:00</td>\n",
       "      <td>1</td>\n",
       "      <td>38.09</td>\n",
       "      <td>29.766389</td>\n",
       "      <td>-95.358333</td>\n",
       "    </tr>\n",
       "  </tbody>\n",
       "</table>\n",
       "</div>"
      ],
      "text/plain": [
       "             site_name    datetime  Discharge  Gage_Height   latitude  \\\n",
       "0         HuntingBayou   8-27 7:30       6640        37.10  29.808611   \n",
       "1        WhiteoakBayou   8-27 5:30      30700        39.54  29.775000   \n",
       "2           BraysBayou  8-27 23:00      33200        45.08  29.696944   \n",
       "3  WhiteoakBayouMainSt  8-27 14:00          1        38.09  29.766389   \n",
       "\n",
       "   longitude  \n",
       "0 -95.313056  \n",
       "1 -95.396944  \n",
       "2 -95.411944  \n",
       "3 -95.358333  "
      ]
     },
     "execution_count": 22,
     "metadata": {},
     "output_type": "execute_result"
    }
   ],
   "source": [
    "maxFlood"
   ]
  },
  {
   "cell_type": "code",
   "execution_count": 23,
   "metadata": {
    "pixiedust": {
     "displayParams": {
      "coloropacity": "100",
      "colorrampname": "Green to Purple",
      "handlerId": "mapView",
      "keyFields": "latitude,longitude",
      "kind": "simple",
      "mapboxtoken": "pk.eyJ1IjoibWFwYm94IiwiYSI6ImNpejY4M29iazA2Z2gycXA4N2pmbDZmangifQ.-g_vE53SD2WrJ6tFX7QHmA",
      "rowCount": "843",
      "valueFields": "Discharge,Gage_Height,site_name"
     }
    },
    "scrolled": true
   },
   "outputs": [
    {
     "data": {
      "text/html": [
       "<style type=\"text/css\">.pd_warning{display:none;}</style><div class=\"pd_warning\"><em>Hey, there's something awesome here! To see it, open this notebook outside GitHub, in a viewer like Jupyter</em></div>\n",
       "        <div class=\"pd_save is-viewer-good\" style=\"padding-right:10px;text-align: center;line-height:initial !important;font-size: xx-large;font-weight: 500;color: coral;\">\n",
       "            \n",
       "        </div>\n",
       "    <div id=\"chartFigured26a6a36\" class=\"pd_save is-viewer-good\" style=\"overflow-x:auto\">\n",
       "            <script>\n",
       "  window.iframeLoaded = window.iframeLoaded || function(iframe) {\n",
       "    try {\n",
       "      iframe.contentWindow.pdMessageListeners = [];\n",
       "      iframe.contentWindow[\"addPDMessageListener\"] = function(listener){\n",
       "        iframe.contentWindow.pdMessageListeners.push(listener);\n",
       "      }\n",
       "      iframe.contentWindow.addEventListener(\"message\", function(event){\n",
       "        iframe.contentWindow.pdMessageListeners.forEach(function(listener){\n",
       "          listener(event);\n",
       "        });\n",
       "      }, false);\n",
       "      iframe.contentWindow.ready = true;\n",
       "      iframe.contentWindow[\"triggerPDEvent\"] = function(eventInfo) {\n",
       "        $(document).trigger('pd_event', eventInfo);\n",
       "      }\n",
       "    } catch (e) {\n",
       "      console.log(e)\n",
       "    }\n",
       "  }\n",
       "\n",
       "  \n",
       "</script>\n",
       "<iframe id=\"mapframed26a6a36\" style=\"width:1152.8px;height:500px\" srcdoc=\"<!DOCTYPE html>\n",
       "<html lang=&quot;en&quot;>\n",
       "<head>\n",
       "    <meta charset=&quot;UTF-8&quot;>\n",
       "    <meta name=&quot;viewport&quot; content=&quot;width=device-width, initial-scale=1&quot;>\n",
       "    <title>Pixiedust Mapbox map</title>\n",
       "    <script src=&quot;https://api.tiles.mapbox.com/mapbox-gl-js/v0.32.1/mapbox-gl.js&quot;></script>\n",
       "    <link href=&quot;https://api.tiles.mapbox.com/mapbox-gl-js/v0.32.1/mapbox-gl.css&quot; rel=&quot;stylesheet&quot; />\n",
       "    <style>\n",
       "    .mapboxgl-popup-content h3 { \n",
       "        margin: 2px 0 2px 0;\n",
       "        font-style: italic;\n",
       "    }\n",
       "    .mapboxgl-popup {\n",
       "        max-width: 200px;\n",
       "    }\n",
       "    #map canvas {\n",
       "        cursor: crosshair;\n",
       "    }\n",
       "    .legend {\n",
       "        background-color: rgba(255,255,255, 0.75);\n",
       "        border-radius: 3px;\n",
       "        position: absolute;\n",
       "        left: 14px;\n",
       "        top: 14px;\n",
       "        box-shadow: 0 1px 2px rgba(0,0,0,0.10);\n",
       "        font-size: 12px;\n",
       "        line-height: 18px;\n",
       "        padding: 10px;\n",
       "        z-index: 1;\n",
       "    }\n",
       "    .legend h4 {\n",
       "        margin: 0 0 10px;\n",
       "    }\n",
       "    .legend div span {\n",
       "        border-radius: 50%;\n",
       "        display: inline-block;\n",
       "        height: 10px;\n",
       "        margin-right: 5px;\n",
       "        width: 10px;\n",
       "    }\n",
       "    body { \n",
       "        background-color:#333; \n",
       "        margin:0px !important; \n",
       "        overflow: hidden;\n",
       "        font-family: &quot;Helvetica Neue&quot;, Arial, Helvetica, sans-serif;\n",
       "    }\n",
       "    </style>\n",
       "</head>\n",
       "<body>\n",
       "<div id=&quot;map-d26a6a36-51ab2eb8&quot; style=&quot;width:calc(1152.8px - 4px);height:calc(500px - 4px)&quot; />\n",
       "\n",
       "\n",
       "<script>\n",
       "    !function(e){if(&quot;object&quot;==typeof exports&amp;&amp;&quot;undefined&quot;!=typeof module)module.exports=e();else if(&quot;function&quot;==typeof define&amp;&amp;define.amd)define([],e);else{var n;&quot;undefined&quot;!=typeof window?n=window:&quot;undefined&quot;!=typeof global?n=global:&quot;undefined&quot;!=typeof self&amp;&amp;(n=self),n.geojsonExtent=e()}}(function(){return function e(t,n,r){function s(o,u){if(!n[o]){if(!t[o]){var a=&quot;function&quot;==typeof require&amp;&amp;require;if(!u&amp;&amp;a)return a(o,!0);if(i)return i(o,!0);var f=new Error(&quot;Cannot find module &quot;+o+&quot;&quot;);throw f.code=&quot;MODULE_NOT_FOUND&quot;,f}var l=n[o]={exports:{}};t[o][0].call(l.exports,function(e){var n=t[o][1][e];return s(n?n:e)},l,l.exports,e,t,n,r)}return n[o].exports}for(var i=&quot;function&quot;==typeof require&amp;&amp;require,o=0;o<r.length;o++)s(r[o]);return s}({1:[function(require,module){function getExtent(_){for(var ext=extent(),coords=geojsonCoords(_),i=0;i<coords.length;i++)ext.include(coords[i]);return ext}var geojsonCoords=require(&quot;geojson-coords&quot;),traverse=require(&quot;traverse&quot;),extent=require(&quot;extent&quot;),geojsonTypes=[&quot;Point&quot;,&quot;MultiPoint&quot;,&quot;LineString&quot;,&quot;MultiLineString&quot;,&quot;Polygon&quot;,&quot;MultiPolygon&quot;,&quot;Feature&quot;,&quot;FeatureCollection&quot;,&quot;GeometryCollection&quot;];module.exports=function(_){return getExtent(_).bbox()},module.exports.polygon=function(_){return getExtent(_).polygon()},module.exports.bboxify=function(_){return traverse(_).map(function(value){value&amp;&amp;-1!==typeof geojsonTypes.indexOf(value.type)&amp;&amp;(console.log(value.type,value),value.bbox=getExtent(value).bbox(),this.update(value))})}},{extent:2,&quot;geojson-coords&quot;:4,traverse:7}],2:[function(require,module){function Extent(){return this instanceof Extent?(this._bbox=[1/0,1/0,-(1/0),-(1/0)],void(this._valid=!1)):new Extent}module.exports=Extent,Extent.prototype.include=function(ll){return this._valid=!0,this._bbox[0]=Math.min(this._bbox[0],ll[0]),this._bbox[1]=Math.min(this._bbox[1],ll[1]),this._bbox[2]=Math.max(this._bbox[2],ll[0]),this._bbox[3]=Math.max(this._bbox[3],ll[1]),this},Extent.prototype.union=function(other){return this._valid=!0,this._bbox[0]=Math.min(this._bbox[0],other[0]),this._bbox[1]=Math.min(this._bbox[1],other[1]),this._bbox[2]=Math.max(this._bbox[2],other[2]),this._bbox[3]=Math.max(this._bbox[3],other[3]),this},Extent.prototype.bbox=function(){return this._valid?this._bbox:null},Extent.prototype.contains=function(ll){return this._valid?this._bbox[0]<=ll[0]&amp;&amp;this._bbox[1]<=ll[1]&amp;&amp;this._bbox[2]>=ll[0]&amp;&amp;this._bbox[3]>=ll[1]:null},Extent.prototype.polygon=function(){return this._valid?{type:&quot;Polygon&quot;,coordinates:[[[this._bbox[0],this._bbox[1]],[this._bbox[2],this._bbox[1]],[this._bbox[2],this._bbox[3]],[this._bbox[0],this._bbox[3]],[this._bbox[0],this._bbox[1]]]]}:null}},{}],3:[function(require,module){module.exports=function(list){function _flatten(list){return Array.isArray(list)&amp;&amp;list.length&amp;&amp;&quot;number&quot;==typeof list[0]?[list]:list.reduce(function(acc,item){return Array.isArray(item)&amp;&amp;Array.isArray(item[0])?acc.concat(_flatten(item)):(acc.push(item),acc)},[])}return _flatten(list)}},{}],4:[function(require,module){var geojsonNormalize=require(&quot;geojson-normalize&quot;),geojsonFlatten=require(&quot;geojson-flatten&quot;),flatten=require(&quot;./flatten&quot;);module.exports=function(_){if(!_)return[];var normalized=geojsonFlatten(geojsonNormalize(_)),coordinates=[];return normalized.features.forEach(function(feature){feature.geometry&amp;&amp;(coordinates=coordinates.concat(flatten(feature.geometry.coordinates)))}),coordinates}},{&quot;./flatten&quot;:3,&quot;geojson-flatten&quot;:5,&quot;geojson-normalize&quot;:6}],5:[function(require,module){function flatten(gj){switch(gj&amp;&amp;gj.type||null){case&quot;FeatureCollection&quot;:return gj.features=gj.features.reduce(function(mem,feature){return mem.concat(flatten(feature))},[]),gj;case&quot;Feature&quot;:return flatten(gj.geometry).map(function(geom){return{type:&quot;Feature&quot;,properties:JSON.parse(JSON.stringify(gj.properties)),geometry:geom}});case&quot;MultiPoint&quot;:return gj.coordinates.map(function(_){return{type:&quot;Point&quot;,coordinates:_}});case&quot;MultiPolygon&quot;:return gj.coordinates.map(function(_){return{type:&quot;Polygon&quot;,coordinates:_}});case&quot;MultiLineString&quot;:return gj.coordinates.map(function(_){return{type:&quot;LineString&quot;,coordinates:_}});case&quot;GeometryCollection&quot;:return gj.geometries;case&quot;Point&quot;:case&quot;Polygon&quot;:case&quot;LineString&quot;:return[gj];default:return gj}}module.exports=flatten},{}],6:[function(require,module){function normalize(gj){if(!gj||!gj.type)return null;var type=types[gj.type];return type?&quot;geometry&quot;===type?{type:&quot;FeatureCollection&quot;,features:[{type:&quot;Feature&quot;,properties:{},geometry:gj}]}:&quot;feature&quot;===type?{type:&quot;FeatureCollection&quot;,features:[gj]}:&quot;featurecollection&quot;===type?gj:void 0:null}module.exports=normalize;var types={Point:&quot;geometry&quot;,MultiPoint:&quot;geometry&quot;,LineString:&quot;geometry&quot;,MultiLineString:&quot;geometry&quot;,Polygon:&quot;geometry&quot;,MultiPolygon:&quot;geometry&quot;,GeometryCollection:&quot;geometry&quot;,Feature:&quot;feature&quot;,FeatureCollection:&quot;featurecollection&quot;}},{}],7:[function(require,module){function Traverse(obj){this.value=obj}function walk(root,cb,immutable){var path=[],parents=[],alive=!0;return function walker(node_){function updateState(){if(&quot;object&quot;==typeof state.node&amp;&amp;null!==state.node){state.keys&amp;&amp;state.node_===state.node||(state.keys=objectKeys(state.node)),state.isLeaf=0==state.keys.length;for(var i=0;i<parents.length;i++)if(parents[i].node_===node_){state.circular=parents[i];break}}else state.isLeaf=!0,state.keys=null;state.notLeaf=!state.isLeaf,state.notRoot=!state.isRoot}var node=immutable?copy(node_):node_,modifiers={},keepGoing=!0,state={node:node,node_:node_,path:[].concat(path),parent:parents[parents.length-1],parents:parents,key:path.slice(-1)[0],isRoot:0===path.length,level:path.length,circular:null,update:function(x,stopHere){state.isRoot||(state.parent.node[state.key]=x),state.node=x,stopHere&amp;&amp;(keepGoing=!1)},&quot;delete&quot;:function(stopHere){delete state.parent.node[state.key],stopHere&amp;&amp;(keepGoing=!1)},remove:function(stopHere){isArray(state.parent.node)?state.parent.node.splice(state.key,1):delete state.parent.node[state.key],stopHere&amp;&amp;(keepGoing=!1)},keys:null,before:function(f){modifiers.before=f},after:function(f){modifiers.after=f},pre:function(f){modifiers.pre=f},post:function(f){modifiers.post=f},stop:function(){alive=!1},block:function(){keepGoing=!1}};if(!alive)return state;updateState();var ret=cb.call(state,state.node);return void 0!==ret&amp;&amp;state.update&amp;&amp;state.update(ret),modifiers.before&amp;&amp;modifiers.before.call(state,state.node),keepGoing?(&quot;object&quot;!=typeof state.node||null===state.node||state.circular||(parents.push(state),updateState(),forEach(state.keys,function(key,i){path.push(key),modifiers.pre&amp;&amp;modifiers.pre.call(state,state.node[key],key);var child=walker(state.node[key]);immutable&amp;&amp;hasOwnProperty.call(state.node,key)&amp;&amp;(state.node[key]=child.node),child.isLast=i==state.keys.length-1,child.isFirst=0==i,modifiers.post&amp;&amp;modifiers.post.call(state,child),path.pop()}),parents.pop()),modifiers.after&amp;&amp;modifiers.after.call(state,state.node),state):state}(root).node}function copy(src){if(&quot;object&quot;==typeof src&amp;&amp;null!==src){var dst;if(isArray(src))dst=[];else if(isDate(src))dst=new Date(src.getTime?src.getTime():src);else if(isRegExp(src))dst=new RegExp(src);else if(isError(src))dst={message:src.message};else if(isBoolean(src))dst=new Boolean(src);else if(isNumber(src))dst=new Number(src);else if(isString(src))dst=new String(src);else if(Object.create&amp;&amp;Object.getPrototypeOf)dst=Object.create(Object.getPrototypeOf(src));else if(src.constructor===Object)dst={};else{var proto=src.constructor&amp;&amp;src.constructor.prototype||src.__proto__||{},T=function(){};T.prototype=proto,dst=new T}return forEach(objectKeys(src),function(key){dst[key]=src[key]}),dst}return src}function toS(obj){return Object.prototype.toString.call(obj)}function isDate(obj){return&quot;[object Date]&quot;===toS(obj)}function isRegExp(obj){return&quot;[object RegExp]&quot;===toS(obj)}function isError(obj){return&quot;[object Error]&quot;===toS(obj)}function isBoolean(obj){return&quot;[object Boolean]&quot;===toS(obj)}function isNumber(obj){return&quot;[object Number]&quot;===toS(obj)}function isString(obj){return&quot;[object String]&quot;===toS(obj)}var traverse=module.exports=function(obj){return new Traverse(obj)};Traverse.prototype.get=function(ps){for(var node=this.value,i=0;i<ps.length;i++){var key=ps[i];if(!node||!hasOwnProperty.call(node,key)){node=void 0;break}node=node[key]}return node},Traverse.prototype.has=function(ps){for(var node=this.value,i=0;i<ps.length;i++){var key=ps[i];if(!node||!hasOwnProperty.call(node,key))return!1;node=node[key]}return!0},Traverse.prototype.set=function(ps,value){for(var node=this.value,i=0;i<ps.length-1;i++){var key=ps[i];hasOwnProperty.call(node,key)||(node[key]={}),node=node[key]}return node[ps[i]]=value,value},Traverse.prototype.map=function(cb){return walk(this.value,cb,!0)},Traverse.prototype.forEach=function(cb){return this.value=walk(this.value,cb,!1),this.value},Traverse.prototype.reduce=function(cb,init){var skip=1===arguments.length,acc=skip?this.value:init;return this.forEach(function(x){this.isRoot&amp;&amp;skip||(acc=cb.call(this,acc,x))}),acc},Traverse.prototype.paths=function(){var acc=[];return this.forEach(function(){acc.push(this.path)}),acc},Traverse.prototype.nodes=function(){var acc=[];return this.forEach(function(){acc.push(this.node)}),acc},Traverse.prototype.clone=function(){var parents=[],nodes=[];return function clone(src){for(var i=0;i<parents.length;i++)if(parents[i]===src)return nodes[i];if(&quot;object&quot;==typeof src&amp;&amp;null!==src){var dst=copy(src);return parents.push(src),nodes.push(dst),forEach(objectKeys(src),function(key){dst[key]=clone(src[key])}),parents.pop(),nodes.pop(),dst}return src}(this.value)};var objectKeys=Object.keys||function(obj){var res=[];for(var key in obj)res.push(key);return res},isArray=Array.isArray||function(xs){return&quot;[object Array]&quot;===Object.prototype.toString.call(xs)},forEach=function(xs,fn){if(xs.forEach)return xs.forEach(fn);for(var i=0;i<xs.length;i++)fn(xs[i],i,xs)};forEach(objectKeys(Traverse.prototype),function(key){traverse[key]=function(obj){var args=[].slice.call(arguments,1),t=new Traverse(obj);return t[key].apply(t,args)}});var hasOwnProperty=Object.hasOwnProperty||function(obj,key){return key in obj}},{}]},{},[1])(1)});    \n",
       "    var comment = &quot;&quot;;\n",
       "    mapboxgl.accessToken=&quot;pk.eyJ1IjoibWFwYm94IiwiYSI6ImNpejY4M29iazA2Z2gycXA4N2pmbDZmangifQ.-g_vE53SD2WrJ6tFX7QHmA&quot;;\n",
       "    var mapdata = null;\n",
       "    var map = new mapboxgl.Map({\n",
       "        container: &quot;map-d26a6a36-51ab2eb8&quot;,\n",
       "        style: &quot;mapbox://styles/mapbox/light-v9&quot;\n",
       "    });\n",
       "\n",
       "    setTimeout(function(){\n",
       "        if (window.addPDMessageListener){\n",
       "            window.addPDMessageListener(function(event){\n",
       "                streamingLayer = map.getSource(&quot;streamingLayer&quot;);\n",
       "                if (streamingLayer){\n",
       "                    streamingLayer.setData(event.data.data);\n",
       "                }else{\n",
       "                    map.addLayer({\n",
       "                        &quot;id&quot;: &quot;streamingLayer&quot;,\n",
       "                        &quot;maptype&quot;: &quot;mapbox&quot;,\n",
       "                        &quot;type&quot;: event.data.type,\n",
       "                        &quot;source&quot;: { type: &quot;geojson&quot;, data: event.data.data },\n",
       "                        &quot;layout&quot;: event.data.layout || {},\n",
       "                        &quot;paint&quot;: event.data.paint || {}\n",
       "                    });\n",
       "                    if (event.data.fitbounds &amp;&amp; event.data.data.features){\n",
       "                        function updateBounds(res, ar){\n",
       "                            if (ar[0].length >=2 &amp;&amp; ar[1].length >= 2 ){\n",
       "                                if (!res){\n",
       "                                    return ar;\n",
       "                                }\n",
       "                                return [ \n",
       "                                    [Math.min( ar[0][0]-0.1, res[0][0]), Math.min( ar[0][1]-0.1, res[0][1])],\n",
       "                                    [Math.max( ar[1][0]+0.1, res[1][0]), Math.max( ar[1][1]+0.1, res[1][1])]\n",
       "                                ]\n",
       "                            }\n",
       "                            return null;\n",
       "                        }\n",
       "                        var bbox = event.data.data.features.reduce(function(res, value){\n",
       "                            var coord = value.geometry.coordinates;\n",
       "                            if (coord.length >= 2 ){\n",
       "                                res = updateBounds( res, [coord[0], coord[1]]);\n",
       "                            }\n",
       "                            return res;\n",
       "                        }, null);\n",
       "                        if (bbox){\n",
       "                            map.fitBounds(bbox);\n",
       "                        }\n",
       "                    }\n",
       "                }\n",
       "            });\n",
       "        };\n",
       "    },100);\n",
       "\n",
       "    var popup = new mapboxgl.Popup({closeButton: false,closeOnClick: true});\n",
       "\n",
       "    function divineGeometryType(mapdata) {\n",
       "        comment = &quot;check type of first geometry. Later expand to check all geometries and make a good decision&quot;;\n",
       "        return mapdata.features[0].geometry.type;\n",
       "    }\n",
       "    \n",
       "    map.on(&quot;mousemove&quot;, function (e) {\n",
       "        var fs = map.queryRenderedFeatures(e.point,{layers:[&quot;pxlayer&quot;]});\n",
       "        if (!fs || !fs.length) {popup.remove();return;};\n",
       "        popuphtml = &quot;&quot;;\n",
       "        var hr = false;\n",
       "        fs.forEach(function(f){\n",
       "            if (hr){ \n",
       "                popuphtml += &quot;<hr>\\n&quot;;\n",
       "            }\n",
       "            hr=true;\n",
       "            popuphtml += &quot;<h3>&quot;+f.layer.id.toUpperCase()+&quot;</h3>\\n&quot;;\n",
       "            var keylength = Object.keys(f.properties).length;\n",
       "            for (var key in f.properties) {\n",
       "                popuphtml += &quot;<b>&quot;+key+&quot;: </b> &quot;+f.properties[key]+&quot;<br/>\\n&quot;;\n",
       "            }\n",
       "        });\n",
       "        popup.setLngLat(e.lngLat).setHTML(popuphtml).addTo(map);\n",
       "    });\n",
       "    \n",
       "    map.on(&quot;click&quot;, function (e) {\n",
       "        var fs = map.queryRenderedFeatures(e.point, { layers: [&quot;pxlayer&quot;] });\n",
       "        if (fs &amp;&amp; fs.length) {\n",
       "            var f = fs[0];\n",
       "            console.log(&quot;clicked&quot;, f);\n",
       "            var keylength = Object.keys(f.properties).length;\n",
       "            var payload = {type:&quot;select&quot;, targetDivId: &quot;&quot; };\n",
       "\n",
       "            for (var key in f.properties) {\n",
       "                payload[key] = f.properties[key];\n",
       "            }\n",
       "\n",
       "            if (window.triggerPDEvent) {\n",
       "                window.triggerPDEvent(payload);\n",
       "            }\n",
       "        }\n",
       "    });\n",
       "        \n",
       "    map.on(&quot;load&quot;, function() {\n",
       "        \n",
       "        mapdata={&quot;type&quot;: &quot;FeatureCollection&quot;, &quot;features&quot;: [{&quot;type&quot;: &quot;Feature&quot;, &quot;geometry&quot;: {&quot;type&quot;: &quot;Point&quot;, &quot;coordinates&quot;: [-95.41194444, 29.69694444]}, &quot;properties&quot;: {&quot;Discharge&quot;: 33200, &quot;site_name&quot;: &quot;BraysBayou&quot;, &quot;Gage_Height&quot;: 45.08}}, {&quot;type&quot;: &quot;Feature&quot;, &quot;geometry&quot;: {&quot;type&quot;: &quot;Point&quot;, &quot;coordinates&quot;: [-95.313056, 29.808611]}, &quot;properties&quot;: {&quot;Discharge&quot;: 6640, &quot;site_name&quot;: &quot;HuntingBayou&quot;, &quot;Gage_Height&quot;: 37.1}}, {&quot;type&quot;: &quot;Feature&quot;, &quot;geometry&quot;: {&quot;type&quot;: &quot;Point&quot;, &quot;coordinates&quot;: [-95.39694399999999, 29.775]}, &quot;properties&quot;: {&quot;Discharge&quot;: 30700, &quot;site_name&quot;: &quot;WhiteoakBayou&quot;, &quot;Gage_Height&quot;: 39.54}}, {&quot;type&quot;: &quot;Feature&quot;, &quot;geometry&quot;: {&quot;type&quot;: &quot;Point&quot;, &quot;coordinates&quot;: [-95.35833333, 29.76638889]}, &quot;properties&quot;: {&quot;Discharge&quot;: 1, &quot;site_name&quot;: &quot;WhiteoakBayouMainSt&quot;, &quot;Gage_Height&quot;: 38.09}}]};\n",
       "        geomtype = divineGeometryType(mapdata);\n",
       "        \n",
       "            var ds = {\n",
       "                &quot;type&quot;:&quot;geojson&quot;,\n",
       "                &quot;data&quot;:mapdata\n",
       "            };\n",
       "            var clusterme = false;\n",
       "            if (geomtype.substr(-5,5) == &quot;Point&quot;) {\n",
       "                \n",
       "            }\n",
       "            map.addSource(&quot;pxdatasource&quot;, ds);\n",
       "\n",
       "            var maplayertype = &quot;circle&quot;;\n",
       "            if (geomtype.substr(-7,7) == &quot;Polygon&quot;) \n",
       "                maplayertype = &quot;fill&quot;;\n",
       "            else if (geomtype.substr(-10,10) == &quot;LineString&quot;)\n",
       "                maplayertype = &quot;line&quot;;\n",
       "            map.addLayer({\n",
       "                &quot;id&quot;:&quot;pxlayer&quot;,\n",
       "                &quot;type&quot;:maplayertype, \n",
       "                &quot;source&quot;: &quot;pxdatasource&quot;, \n",
       "                &quot;paint&quot;: {&quot;circle-color&quot;: &quot;#ff0000&quot;, &quot;circle-radius&quot;: 12, &quot;circle-opacity&quot;: 1.0}\n",
       "            });\n",
       "            \n",
       "            if (clusterme &amp;&amp; geomtype.substr(-5,5) == &quot;Point&quot;) {\n",
       "                map.addLayer({\n",
       "                    &quot;id&quot;: &quot;cluster-count-labels&quot;, \n",
       "                    &quot;type&quot;: &quot;symbol&quot;, \n",
       "                    &quot;source&quot;: &quot;pxdatasource&quot;, \n",
       "                    &quot;paint&quot;: {\n",
       "                        &quot;text-color&quot;: &quot;#FFF&quot;\n",
       "                    },\n",
       "                    &quot;layout&quot;: {\n",
       "                        &quot;text-field&quot;: &quot;{point_count}&quot;, \n",
       "                        &quot;text-font&quot;: [\n",
       "                            &quot;DIN Offc Pro Medium&quot;, \n",
       "                            &quot;Arial Unicode MS Bold&quot;\n",
       "                        ],\n",
       "                        &quot;text-size&quot;: 12\n",
       "                    }\n",
       "                });\n",
       "            }\n",
       "        \n",
       "        \n",
       "\n",
       "        comment = &quot;Add user layers&quot;;\n",
       "        var layers = [];\n",
       "        \n",
       "        layers.sort(function(a,b) {\n",
       "            return a[1] - b[1];\n",
       "        });\n",
       "        for (layersi=layers.length-1; layersi>=0; layersi--) {\n",
       "            map.addLayer(layers[layersi][0]);\n",
       "            comment = &quot;User layer legend&quot;;\n",
       "            \n",
       "        }\n",
       "        \n",
       "        map.fitBounds([[-95.41194444, 29.69694444], [-95.313056, 29.808611]]);\n",
       "        \n",
       "        \n",
       "    });\n",
       "</script>\n",
       "</body>\n",
       "</html>\" onload=\"iframeLoaded(this)\"></iframe>\n",
       "<script>\n",
       "  var iframe = document.getElementById('mapframed26a6a36');\n",
       "  iframe.setAttribute('srcdoc', atob('PCFET0NUWVBFIGh0bWw+CjxodG1sIGxhbmc9ImVuIj4KPGhlYWQ+CiAgICA8bWV0YSBjaGFyc2V0PSJVVEYtOCI+CiAgICA8bWV0YSBuYW1lPSJ2aWV3cG9ydCIgY29udGVudD0id2lkdGg9ZGV2aWNlLXdpZHRoLCBpbml0aWFsLXNjYWxlPTEiPgogICAgPHRpdGxlPlBpeGllZHVzdCBNYXBib3ggbWFwPC90aXRsZT4KICAgIDxzY3JpcHQgc3JjPSJodHRwczovL2FwaS50aWxlcy5tYXBib3guY29tL21hcGJveC1nbC1qcy92MC4zMi4xL21hcGJveC1nbC5qcyI+PC9zY3JpcHQ+CiAgICA8bGluayBocmVmPSJodHRwczovL2FwaS50aWxlcy5tYXBib3guY29tL21hcGJveC1nbC1qcy92MC4zMi4xL21hcGJveC1nbC5jc3MiIHJlbD0ic3R5bGVzaGVldCIgLz4KICAgIDxzdHlsZT4KICAgIC5tYXBib3hnbC1wb3B1cC1jb250ZW50IGgzIHsgCiAgICAgICAgbWFyZ2luOiAycHggMCAycHggMDsKICAgICAgICBmb250LXN0eWxlOiBpdGFsaWM7CiAgICB9CiAgICAubWFwYm94Z2wtcG9wdXAgewogICAgICAgIG1heC13aWR0aDogMjAwcHg7CiAgICB9CiAgICAjbWFwIGNhbnZhcyB7CiAgICAgICAgY3Vyc29yOiBjcm9zc2hhaXI7CiAgICB9CiAgICAubGVnZW5kIHsKICAgICAgICBiYWNrZ3JvdW5kLWNvbG9yOiByZ2JhKDI1NSwyNTUsMjU1LCAwLjc1KTsKICAgICAgICBib3JkZXItcmFkaXVzOiAzcHg7CiAgICAgICAgcG9zaXRpb246IGFic29sdXRlOwogICAgICAgIGxlZnQ6IDE0cHg7CiAgICAgICAgdG9wOiAxNHB4OwogICAgICAgIGJveC1zaGFkb3c6IDAgMXB4IDJweCByZ2JhKDAsMCwwLDAuMTApOwogICAgICAgIGZvbnQtc2l6ZTogMTJweDsKICAgICAgICBsaW5lLWhlaWdodDogMThweDsKICAgICAgICBwYWRkaW5nOiAxMHB4OwogICAgICAgIHotaW5kZXg6IDE7CiAgICB9CiAgICAubGVnZW5kIGg0IHsKICAgICAgICBtYXJnaW46IDAgMCAxMHB4OwogICAgfQogICAgLmxlZ2VuZCBkaXYgc3BhbiB7CiAgICAgICAgYm9yZGVyLXJhZGl1czogNTAlOwogICAgICAgIGRpc3BsYXk6IGlubGluZS1ibG9jazsKICAgICAgICBoZWlnaHQ6IDEwcHg7CiAgICAgICAgbWFyZ2luLXJpZ2h0OiA1cHg7CiAgICAgICAgd2lkdGg6IDEwcHg7CiAgICB9CiAgICBib2R5IHsgCiAgICAgICAgYmFja2dyb3VuZC1jb2xvcjojMzMzOyAKICAgICAgICBtYXJnaW46MHB4ICFpbXBvcnRhbnQ7IAogICAgICAgIG92ZXJmbG93OiBoaWRkZW47CiAgICAgICAgZm9udC1mYW1pbHk6ICJIZWx2ZXRpY2EgTmV1ZSIsIEFyaWFsLCBIZWx2ZXRpY2EsIHNhbnMtc2VyaWY7CiAgICB9CiAgICA8L3N0eWxlPgo8L2hlYWQ+Cjxib2R5Pgo8ZGl2IGlkPSJtYXAtZDI2YTZhMzYtNTFhYjJlYjgiIHN0eWxlPSJ3aWR0aDpjYWxjKDExNTIuOHB4IC0gNHB4KTtoZWlnaHQ6Y2FsYyg1MDBweCAtIDRweCkiIC8+CgoKPHNjcmlwdD4KICAgICFmdW5jdGlvbihlKXtpZigib2JqZWN0Ij09dHlwZW9mIGV4cG9ydHMmJiJ1bmRlZmluZWQiIT10eXBlb2YgbW9kdWxlKW1vZHVsZS5leHBvcnRzPWUoKTtlbHNlIGlmKCJmdW5jdGlvbiI9PXR5cGVvZiBkZWZpbmUmJmRlZmluZS5hbWQpZGVmaW5lKFtdLGUpO2Vsc2V7dmFyIG47InVuZGVmaW5lZCIhPXR5cGVvZiB3aW5kb3c/bj13aW5kb3c6InVuZGVmaW5lZCIhPXR5cGVvZiBnbG9iYWw/bj1nbG9iYWw6InVuZGVmaW5lZCIhPXR5cGVvZiBzZWxmJiYobj1zZWxmKSxuLmdlb2pzb25FeHRlbnQ9ZSgpfX0oZnVuY3Rpb24oKXtyZXR1cm4gZnVuY3Rpb24gZSh0LG4scil7ZnVuY3Rpb24gcyhvLHUpe2lmKCFuW29dKXtpZighdFtvXSl7dmFyIGE9ImZ1bmN0aW9uIj09dHlwZW9mIHJlcXVpcmUmJnJlcXVpcmU7aWYoIXUmJmEpcmV0dXJuIGEobywhMCk7aWYoaSlyZXR1cm4gaShvLCEwKTt2YXIgZj1uZXcgRXJyb3IoIkNhbm5vdCBmaW5kIG1vZHVsZSAiK28rIiIpO3Rocm93IGYuY29kZT0iTU9EVUxFX05PVF9GT1VORCIsZn12YXIgbD1uW29dPXtleHBvcnRzOnt9fTt0W29dWzBdLmNhbGwobC5leHBvcnRzLGZ1bmN0aW9uKGUpe3ZhciBuPXRbb11bMV1bZV07cmV0dXJuIHMobj9uOmUpfSxsLGwuZXhwb3J0cyxlLHQsbixyKX1yZXR1cm4gbltvXS5leHBvcnRzfWZvcih2YXIgaT0iZnVuY3Rpb24iPT10eXBlb2YgcmVxdWlyZSYmcmVxdWlyZSxvPTA7bzxyLmxlbmd0aDtvKyspcyhyW29dKTtyZXR1cm4gc30oezE6W2Z1bmN0aW9uKHJlcXVpcmUsbW9kdWxlKXtmdW5jdGlvbiBnZXRFeHRlbnQoXyl7Zm9yKHZhciBleHQ9ZXh0ZW50KCksY29vcmRzPWdlb2pzb25Db29yZHMoXyksaT0wO2k8Y29vcmRzLmxlbmd0aDtpKyspZXh0LmluY2x1ZGUoY29vcmRzW2ldKTtyZXR1cm4gZXh0fXZhciBnZW9qc29uQ29vcmRzPXJlcXVpcmUoImdlb2pzb24tY29vcmRzIiksdHJhdmVyc2U9cmVxdWlyZSgidHJhdmVyc2UiKSxleHRlbnQ9cmVxdWlyZSgiZXh0ZW50IiksZ2VvanNvblR5cGVzPVsiUG9pbnQiLCJNdWx0aVBvaW50IiwiTGluZVN0cmluZyIsIk11bHRpTGluZVN0cmluZyIsIlBvbHlnb24iLCJNdWx0aVBvbHlnb24iLCJGZWF0dXJlIiwiRmVhdHVyZUNvbGxlY3Rpb24iLCJHZW9tZXRyeUNvbGxlY3Rpb24iXTttb2R1bGUuZXhwb3J0cz1mdW5jdGlvbihfKXtyZXR1cm4gZ2V0RXh0ZW50KF8pLmJib3goKX0sbW9kdWxlLmV4cG9ydHMucG9seWdvbj1mdW5jdGlvbihfKXtyZXR1cm4gZ2V0RXh0ZW50KF8pLnBvbHlnb24oKX0sbW9kdWxlLmV4cG9ydHMuYmJveGlmeT1mdW5jdGlvbihfKXtyZXR1cm4gdHJhdmVyc2UoXykubWFwKGZ1bmN0aW9uKHZhbHVlKXt2YWx1ZSYmLTEhPT10eXBlb2YgZ2VvanNvblR5cGVzLmluZGV4T2YodmFsdWUudHlwZSkmJihjb25zb2xlLmxvZyh2YWx1ZS50eXBlLHZhbHVlKSx2YWx1ZS5iYm94PWdldEV4dGVudCh2YWx1ZSkuYmJveCgpLHRoaXMudXBkYXRlKHZhbHVlKSl9KX19LHtleHRlbnQ6MiwiZ2VvanNvbi1jb29yZHMiOjQsdHJhdmVyc2U6N31dLDI6W2Z1bmN0aW9uKHJlcXVpcmUsbW9kdWxlKXtmdW5jdGlvbiBFeHRlbnQoKXtyZXR1cm4gdGhpcyBpbnN0YW5jZW9mIEV4dGVudD8odGhpcy5fYmJveD1bMS8wLDEvMCwtKDEvMCksLSgxLzApXSx2b2lkKHRoaXMuX3ZhbGlkPSExKSk6bmV3IEV4dGVudH1tb2R1bGUuZXhwb3J0cz1FeHRlbnQsRXh0ZW50LnByb3RvdHlwZS5pbmNsdWRlPWZ1bmN0aW9uKGxsKXtyZXR1cm4gdGhpcy5fdmFsaWQ9ITAsdGhpcy5fYmJveFswXT1NYXRoLm1pbih0aGlzLl9iYm94WzBdLGxsWzBdKSx0aGlzLl9iYm94WzFdPU1hdGgubWluKHRoaXMuX2Jib3hbMV0sbGxbMV0pLHRoaXMuX2Jib3hbMl09TWF0aC5tYXgodGhpcy5fYmJveFsyXSxsbFswXSksdGhpcy5fYmJveFszXT1NYXRoLm1heCh0aGlzLl9iYm94WzNdLGxsWzFdKSx0aGlzfSxFeHRlbnQucHJvdG90eXBlLnVuaW9uPWZ1bmN0aW9uKG90aGVyKXtyZXR1cm4gdGhpcy5fdmFsaWQ9ITAsdGhpcy5fYmJveFswXT1NYXRoLm1pbih0aGlzLl9iYm94WzBdLG90aGVyWzBdKSx0aGlzLl9iYm94WzFdPU1hdGgubWluKHRoaXMuX2Jib3hbMV0sb3RoZXJbMV0pLHRoaXMuX2Jib3hbMl09TWF0aC5tYXgodGhpcy5fYmJveFsyXSxvdGhlclsyXSksdGhpcy5fYmJveFszXT1NYXRoLm1heCh0aGlzLl9iYm94WzNdLG90aGVyWzNdKSx0aGlzfSxFeHRlbnQucHJvdG90eXBlLmJib3g9ZnVuY3Rpb24oKXtyZXR1cm4gdGhpcy5fdmFsaWQ/dGhpcy5fYmJveDpudWxsfSxFeHRlbnQucHJvdG90eXBlLmNvbnRhaW5zPWZ1bmN0aW9uKGxsKXtyZXR1cm4gdGhpcy5fdmFsaWQ/dGhpcy5fYmJveFswXTw9bGxbMF0mJnRoaXMuX2Jib3hbMV08PWxsWzFdJiZ0aGlzLl9iYm94WzJdPj1sbFswXSYmdGhpcy5fYmJveFszXT49bGxbMV06bnVsbH0sRXh0ZW50LnByb3RvdHlwZS5wb2x5Z29uPWZ1bmN0aW9uKCl7cmV0dXJuIHRoaXMuX3ZhbGlkP3t0eXBlOiJQb2x5Z29uIixjb29yZGluYXRlczpbW1t0aGlzLl9iYm94WzBdLHRoaXMuX2Jib3hbMV1dLFt0aGlzLl9iYm94WzJdLHRoaXMuX2Jib3hbMV1dLFt0aGlzLl9iYm94WzJdLHRoaXMuX2Jib3hbM11dLFt0aGlzLl9iYm94WzBdLHRoaXMuX2Jib3hbM11dLFt0aGlzLl9iYm94WzBdLHRoaXMuX2Jib3hbMV1dXV19Om51bGx9fSx7fV0sMzpbZnVuY3Rpb24ocmVxdWlyZSxtb2R1bGUpe21vZHVsZS5leHBvcnRzPWZ1bmN0aW9uKGxpc3Qpe2Z1bmN0aW9uIF9mbGF0dGVuKGxpc3Qpe3JldHVybiBBcnJheS5pc0FycmF5KGxpc3QpJiZsaXN0Lmxlbmd0aCYmIm51bWJlciI9PXR5cGVvZiBsaXN0WzBdP1tsaXN0XTpsaXN0LnJlZHVjZShmdW5jdGlvbihhY2MsaXRlbSl7cmV0dXJuIEFycmF5LmlzQXJyYXkoaXRlbSkmJkFycmF5LmlzQXJyYXkoaXRlbVswXSk/YWNjLmNvbmNhdChfZmxhdHRlbihpdGVtKSk6KGFjYy5wdXNoKGl0ZW0pLGFjYyl9LFtdKX1yZXR1cm4gX2ZsYXR0ZW4obGlzdCl9fSx7fV0sNDpbZnVuY3Rpb24ocmVxdWlyZSxtb2R1bGUpe3ZhciBnZW9qc29uTm9ybWFsaXplPXJlcXVpcmUoImdlb2pzb24tbm9ybWFsaXplIiksZ2VvanNvbkZsYXR0ZW49cmVxdWlyZSgiZ2VvanNvbi1mbGF0dGVuIiksZmxhdHRlbj1yZXF1aXJlKCIuL2ZsYXR0ZW4iKTttb2R1bGUuZXhwb3J0cz1mdW5jdGlvbihfKXtpZighXylyZXR1cm5bXTt2YXIgbm9ybWFsaXplZD1nZW9qc29uRmxhdHRlbihnZW9qc29uTm9ybWFsaXplKF8pKSxjb29yZGluYXRlcz1bXTtyZXR1cm4gbm9ybWFsaXplZC5mZWF0dXJlcy5mb3JFYWNoKGZ1bmN0aW9uKGZlYXR1cmUpe2ZlYXR1cmUuZ2VvbWV0cnkmJihjb29yZGluYXRlcz1jb29yZGluYXRlcy5jb25jYXQoZmxhdHRlbihmZWF0dXJlLmdlb21ldHJ5LmNvb3JkaW5hdGVzKSkpfSksY29vcmRpbmF0ZXN9fSx7Ii4vZmxhdHRlbiI6MywiZ2VvanNvbi1mbGF0dGVuIjo1LCJnZW9qc29uLW5vcm1hbGl6ZSI6Nn1dLDU6W2Z1bmN0aW9uKHJlcXVpcmUsbW9kdWxlKXtmdW5jdGlvbiBmbGF0dGVuKGdqKXtzd2l0Y2goZ2omJmdqLnR5cGV8fG51bGwpe2Nhc2UiRmVhdHVyZUNvbGxlY3Rpb24iOnJldHVybiBnai5mZWF0dXJlcz1nai5mZWF0dXJlcy5yZWR1Y2UoZnVuY3Rpb24obWVtLGZlYXR1cmUpe3JldHVybiBtZW0uY29uY2F0KGZsYXR0ZW4oZmVhdHVyZSkpfSxbXSksZ2o7Y2FzZSJGZWF0dXJlIjpyZXR1cm4gZmxhdHRlbihnai5nZW9tZXRyeSkubWFwKGZ1bmN0aW9uKGdlb20pe3JldHVybnt0eXBlOiJGZWF0dXJlIixwcm9wZXJ0aWVzOkpTT04ucGFyc2UoSlNPTi5zdHJpbmdpZnkoZ2oucHJvcGVydGllcykpLGdlb21ldHJ5Omdlb219fSk7Y2FzZSJNdWx0aVBvaW50IjpyZXR1cm4gZ2ouY29vcmRpbmF0ZXMubWFwKGZ1bmN0aW9uKF8pe3JldHVybnt0eXBlOiJQb2ludCIsY29vcmRpbmF0ZXM6X319KTtjYXNlIk11bHRpUG9seWdvbiI6cmV0dXJuIGdqLmNvb3JkaW5hdGVzLm1hcChmdW5jdGlvbihfKXtyZXR1cm57dHlwZToiUG9seWdvbiIsY29vcmRpbmF0ZXM6X319KTtjYXNlIk11bHRpTGluZVN0cmluZyI6cmV0dXJuIGdqLmNvb3JkaW5hdGVzLm1hcChmdW5jdGlvbihfKXtyZXR1cm57dHlwZToiTGluZVN0cmluZyIsY29vcmRpbmF0ZXM6X319KTtjYXNlIkdlb21ldHJ5Q29sbGVjdGlvbiI6cmV0dXJuIGdqLmdlb21ldHJpZXM7Y2FzZSJQb2ludCI6Y2FzZSJQb2x5Z29uIjpjYXNlIkxpbmVTdHJpbmciOnJldHVybltnal07ZGVmYXVsdDpyZXR1cm4gZ2p9fW1vZHVsZS5leHBvcnRzPWZsYXR0ZW59LHt9XSw2OltmdW5jdGlvbihyZXF1aXJlLG1vZHVsZSl7ZnVuY3Rpb24gbm9ybWFsaXplKGdqKXtpZighZ2p8fCFnai50eXBlKXJldHVybiBudWxsO3ZhciB0eXBlPXR5cGVzW2dqLnR5cGVdO3JldHVybiB0eXBlPyJnZW9tZXRyeSI9PT10eXBlP3t0eXBlOiJGZWF0dXJlQ29sbGVjdGlvbiIsZmVhdHVyZXM6W3t0eXBlOiJGZWF0dXJlIixwcm9wZXJ0aWVzOnt9LGdlb21ldHJ5OmdqfV19OiJmZWF0dXJlIj09PXR5cGU/e3R5cGU6IkZlYXR1cmVDb2xsZWN0aW9uIixmZWF0dXJlczpbZ2pdfToiZmVhdHVyZWNvbGxlY3Rpb24iPT09dHlwZT9najp2b2lkIDA6bnVsbH1tb2R1bGUuZXhwb3J0cz1ub3JtYWxpemU7dmFyIHR5cGVzPXtQb2ludDoiZ2VvbWV0cnkiLE11bHRpUG9pbnQ6Imdlb21ldHJ5IixMaW5lU3RyaW5nOiJnZW9tZXRyeSIsTXVsdGlMaW5lU3RyaW5nOiJnZW9tZXRyeSIsUG9seWdvbjoiZ2VvbWV0cnkiLE11bHRpUG9seWdvbjoiZ2VvbWV0cnkiLEdlb21ldHJ5Q29sbGVjdGlvbjoiZ2VvbWV0cnkiLEZlYXR1cmU6ImZlYXR1cmUiLEZlYXR1cmVDb2xsZWN0aW9uOiJmZWF0dXJlY29sbGVjdGlvbiJ9fSx7fV0sNzpbZnVuY3Rpb24ocmVxdWlyZSxtb2R1bGUpe2Z1bmN0aW9uIFRyYXZlcnNlKG9iail7dGhpcy52YWx1ZT1vYmp9ZnVuY3Rpb24gd2Fsayhyb290LGNiLGltbXV0YWJsZSl7dmFyIHBhdGg9W10scGFyZW50cz1bXSxhbGl2ZT0hMDtyZXR1cm4gZnVuY3Rpb24gd2Fsa2VyKG5vZGVfKXtmdW5jdGlvbiB1cGRhdGVTdGF0ZSgpe2lmKCJvYmplY3QiPT10eXBlb2Ygc3RhdGUubm9kZSYmbnVsbCE9PXN0YXRlLm5vZGUpe3N0YXRlLmtleXMmJnN0YXRlLm5vZGVfPT09c3RhdGUubm9kZXx8KHN0YXRlLmtleXM9b2JqZWN0S2V5cyhzdGF0ZS5ub2RlKSksc3RhdGUuaXNMZWFmPTA9PXN0YXRlLmtleXMubGVuZ3RoO2Zvcih2YXIgaT0wO2k8cGFyZW50cy5sZW5ndGg7aSsrKWlmKHBhcmVudHNbaV0ubm9kZV89PT1ub2RlXyl7c3RhdGUuY2lyY3VsYXI9cGFyZW50c1tpXTticmVha319ZWxzZSBzdGF0ZS5pc0xlYWY9ITAsc3RhdGUua2V5cz1udWxsO3N0YXRlLm5vdExlYWY9IXN0YXRlLmlzTGVhZixzdGF0ZS5ub3RSb290PSFzdGF0ZS5pc1Jvb3R9dmFyIG5vZGU9aW1tdXRhYmxlP2NvcHkobm9kZV8pOm5vZGVfLG1vZGlmaWVycz17fSxrZWVwR29pbmc9ITAsc3RhdGU9e25vZGU6bm9kZSxub2RlXzpub2RlXyxwYXRoOltdLmNvbmNhdChwYXRoKSxwYXJlbnQ6cGFyZW50c1twYXJlbnRzLmxlbmd0aC0xXSxwYXJlbnRzOnBhcmVudHMsa2V5OnBhdGguc2xpY2UoLTEpWzBdLGlzUm9vdDowPT09cGF0aC5sZW5ndGgsbGV2ZWw6cGF0aC5sZW5ndGgsY2lyY3VsYXI6bnVsbCx1cGRhdGU6ZnVuY3Rpb24oeCxzdG9wSGVyZSl7c3RhdGUuaXNSb290fHwoc3RhdGUucGFyZW50Lm5vZGVbc3RhdGUua2V5XT14KSxzdGF0ZS5ub2RlPXgsc3RvcEhlcmUmJihrZWVwR29pbmc9ITEpfSwiZGVsZXRlIjpmdW5jdGlvbihzdG9wSGVyZSl7ZGVsZXRlIHN0YXRlLnBhcmVudC5ub2RlW3N0YXRlLmtleV0sc3RvcEhlcmUmJihrZWVwR29pbmc9ITEpfSxyZW1vdmU6ZnVuY3Rpb24oc3RvcEhlcmUpe2lzQXJyYXkoc3RhdGUucGFyZW50Lm5vZGUpP3N0YXRlLnBhcmVudC5ub2RlLnNwbGljZShzdGF0ZS5rZXksMSk6ZGVsZXRlIHN0YXRlLnBhcmVudC5ub2RlW3N0YXRlLmtleV0sc3RvcEhlcmUmJihrZWVwR29pbmc9ITEpfSxrZXlzOm51bGwsYmVmb3JlOmZ1bmN0aW9uKGYpe21vZGlmaWVycy5iZWZvcmU9Zn0sYWZ0ZXI6ZnVuY3Rpb24oZil7bW9kaWZpZXJzLmFmdGVyPWZ9LHByZTpmdW5jdGlvbihmKXttb2RpZmllcnMucHJlPWZ9LHBvc3Q6ZnVuY3Rpb24oZil7bW9kaWZpZXJzLnBvc3Q9Zn0sc3RvcDpmdW5jdGlvbigpe2FsaXZlPSExfSxibG9jazpmdW5jdGlvbigpe2tlZXBHb2luZz0hMX19O2lmKCFhbGl2ZSlyZXR1cm4gc3RhdGU7dXBkYXRlU3RhdGUoKTt2YXIgcmV0PWNiLmNhbGwoc3RhdGUsc3RhdGUubm9kZSk7cmV0dXJuIHZvaWQgMCE9PXJldCYmc3RhdGUudXBkYXRlJiZzdGF0ZS51cGRhdGUocmV0KSxtb2RpZmllcnMuYmVmb3JlJiZtb2RpZmllcnMuYmVmb3JlLmNhbGwoc3RhdGUsc3RhdGUubm9kZSksa2VlcEdvaW5nPygib2JqZWN0IiE9dHlwZW9mIHN0YXRlLm5vZGV8fG51bGw9PT1zdGF0ZS5ub2RlfHxzdGF0ZS5jaXJjdWxhcnx8KHBhcmVudHMucHVzaChzdGF0ZSksdXBkYXRlU3RhdGUoKSxmb3JFYWNoKHN0YXRlLmtleXMsZnVuY3Rpb24oa2V5LGkpe3BhdGgucHVzaChrZXkpLG1vZGlmaWVycy5wcmUmJm1vZGlmaWVycy5wcmUuY2FsbChzdGF0ZSxzdGF0ZS5ub2RlW2tleV0sa2V5KTt2YXIgY2hpbGQ9d2Fsa2VyKHN0YXRlLm5vZGVba2V5XSk7aW1tdXRhYmxlJiZoYXNPd25Qcm9wZXJ0eS5jYWxsKHN0YXRlLm5vZGUsa2V5KSYmKHN0YXRlLm5vZGVba2V5XT1jaGlsZC5ub2RlKSxjaGlsZC5pc0xhc3Q9aT09c3RhdGUua2V5cy5sZW5ndGgtMSxjaGlsZC5pc0ZpcnN0PTA9PWksbW9kaWZpZXJzLnBvc3QmJm1vZGlmaWVycy5wb3N0LmNhbGwoc3RhdGUsY2hpbGQpLHBhdGgucG9wKCl9KSxwYXJlbnRzLnBvcCgpKSxtb2RpZmllcnMuYWZ0ZXImJm1vZGlmaWVycy5hZnRlci5jYWxsKHN0YXRlLHN0YXRlLm5vZGUpLHN0YXRlKTpzdGF0ZX0ocm9vdCkubm9kZX1mdW5jdGlvbiBjb3B5KHNyYyl7aWYoIm9iamVjdCI9PXR5cGVvZiBzcmMmJm51bGwhPT1zcmMpe3ZhciBkc3Q7aWYoaXNBcnJheShzcmMpKWRzdD1bXTtlbHNlIGlmKGlzRGF0ZShzcmMpKWRzdD1uZXcgRGF0ZShzcmMuZ2V0VGltZT9zcmMuZ2V0VGltZSgpOnNyYyk7ZWxzZSBpZihpc1JlZ0V4cChzcmMpKWRzdD1uZXcgUmVnRXhwKHNyYyk7ZWxzZSBpZihpc0Vycm9yKHNyYykpZHN0PXttZXNzYWdlOnNyYy5tZXNzYWdlfTtlbHNlIGlmKGlzQm9vbGVhbihzcmMpKWRzdD1uZXcgQm9vbGVhbihzcmMpO2Vsc2UgaWYoaXNOdW1iZXIoc3JjKSlkc3Q9bmV3IE51bWJlcihzcmMpO2Vsc2UgaWYoaXNTdHJpbmcoc3JjKSlkc3Q9bmV3IFN0cmluZyhzcmMpO2Vsc2UgaWYoT2JqZWN0LmNyZWF0ZSYmT2JqZWN0LmdldFByb3RvdHlwZU9mKWRzdD1PYmplY3QuY3JlYXRlKE9iamVjdC5nZXRQcm90b3R5cGVPZihzcmMpKTtlbHNlIGlmKHNyYy5jb25zdHJ1Y3Rvcj09PU9iamVjdClkc3Q9e307ZWxzZXt2YXIgcHJvdG89c3JjLmNvbnN0cnVjdG9yJiZzcmMuY29uc3RydWN0b3IucHJvdG90eXBlfHxzcmMuX19wcm90b19ffHx7fSxUPWZ1bmN0aW9uKCl7fTtULnByb3RvdHlwZT1wcm90byxkc3Q9bmV3IFR9cmV0dXJuIGZvckVhY2gob2JqZWN0S2V5cyhzcmMpLGZ1bmN0aW9uKGtleSl7ZHN0W2tleV09c3JjW2tleV19KSxkc3R9cmV0dXJuIHNyY31mdW5jdGlvbiB0b1Mob2JqKXtyZXR1cm4gT2JqZWN0LnByb3RvdHlwZS50b1N0cmluZy5jYWxsKG9iail9ZnVuY3Rpb24gaXNEYXRlKG9iail7cmV0dXJuIltvYmplY3QgRGF0ZV0iPT09dG9TKG9iail9ZnVuY3Rpb24gaXNSZWdFeHAob2JqKXtyZXR1cm4iW29iamVjdCBSZWdFeHBdIj09PXRvUyhvYmopfWZ1bmN0aW9uIGlzRXJyb3Iob2JqKXtyZXR1cm4iW29iamVjdCBFcnJvcl0iPT09dG9TKG9iail9ZnVuY3Rpb24gaXNCb29sZWFuKG9iail7cmV0dXJuIltvYmplY3QgQm9vbGVhbl0iPT09dG9TKG9iail9ZnVuY3Rpb24gaXNOdW1iZXIob2JqKXtyZXR1cm4iW29iamVjdCBOdW1iZXJdIj09PXRvUyhvYmopfWZ1bmN0aW9uIGlzU3RyaW5nKG9iail7cmV0dXJuIltvYmplY3QgU3RyaW5nXSI9PT10b1Mob2JqKX12YXIgdHJhdmVyc2U9bW9kdWxlLmV4cG9ydHM9ZnVuY3Rpb24ob2JqKXtyZXR1cm4gbmV3IFRyYXZlcnNlKG9iail9O1RyYXZlcnNlLnByb3RvdHlwZS5nZXQ9ZnVuY3Rpb24ocHMpe2Zvcih2YXIgbm9kZT10aGlzLnZhbHVlLGk9MDtpPHBzLmxlbmd0aDtpKyspe3ZhciBrZXk9cHNbaV07aWYoIW5vZGV8fCFoYXNPd25Qcm9wZXJ0eS5jYWxsKG5vZGUsa2V5KSl7bm9kZT12b2lkIDA7YnJlYWt9bm9kZT1ub2RlW2tleV19cmV0dXJuIG5vZGV9LFRyYXZlcnNlLnByb3RvdHlwZS5oYXM9ZnVuY3Rpb24ocHMpe2Zvcih2YXIgbm9kZT10aGlzLnZhbHVlLGk9MDtpPHBzLmxlbmd0aDtpKyspe3ZhciBrZXk9cHNbaV07aWYoIW5vZGV8fCFoYXNPd25Qcm9wZXJ0eS5jYWxsKG5vZGUsa2V5KSlyZXR1cm4hMTtub2RlPW5vZGVba2V5XX1yZXR1cm4hMH0sVHJhdmVyc2UucHJvdG90eXBlLnNldD1mdW5jdGlvbihwcyx2YWx1ZSl7Zm9yKHZhciBub2RlPXRoaXMudmFsdWUsaT0wO2k8cHMubGVuZ3RoLTE7aSsrKXt2YXIga2V5PXBzW2ldO2hhc093blByb3BlcnR5LmNhbGwobm9kZSxrZXkpfHwobm9kZVtrZXldPXt9KSxub2RlPW5vZGVba2V5XX1yZXR1cm4gbm9kZVtwc1tpXV09dmFsdWUsdmFsdWV9LFRyYXZlcnNlLnByb3RvdHlwZS5tYXA9ZnVuY3Rpb24oY2Ipe3JldHVybiB3YWxrKHRoaXMudmFsdWUsY2IsITApfSxUcmF2ZXJzZS5wcm90b3R5cGUuZm9yRWFjaD1mdW5jdGlvbihjYil7cmV0dXJuIHRoaXMudmFsdWU9d2Fsayh0aGlzLnZhbHVlLGNiLCExKSx0aGlzLnZhbHVlfSxUcmF2ZXJzZS5wcm90b3R5cGUucmVkdWNlPWZ1bmN0aW9uKGNiLGluaXQpe3ZhciBza2lwPTE9PT1hcmd1bWVudHMubGVuZ3RoLGFjYz1za2lwP3RoaXMudmFsdWU6aW5pdDtyZXR1cm4gdGhpcy5mb3JFYWNoKGZ1bmN0aW9uKHgpe3RoaXMuaXNSb290JiZza2lwfHwoYWNjPWNiLmNhbGwodGhpcyxhY2MseCkpfSksYWNjfSxUcmF2ZXJzZS5wcm90b3R5cGUucGF0aHM9ZnVuY3Rpb24oKXt2YXIgYWNjPVtdO3JldHVybiB0aGlzLmZvckVhY2goZnVuY3Rpb24oKXthY2MucHVzaCh0aGlzLnBhdGgpfSksYWNjfSxUcmF2ZXJzZS5wcm90b3R5cGUubm9kZXM9ZnVuY3Rpb24oKXt2YXIgYWNjPVtdO3JldHVybiB0aGlzLmZvckVhY2goZnVuY3Rpb24oKXthY2MucHVzaCh0aGlzLm5vZGUpfSksYWNjfSxUcmF2ZXJzZS5wcm90b3R5cGUuY2xvbmU9ZnVuY3Rpb24oKXt2YXIgcGFyZW50cz1bXSxub2Rlcz1bXTtyZXR1cm4gZnVuY3Rpb24gY2xvbmUoc3JjKXtmb3IodmFyIGk9MDtpPHBhcmVudHMubGVuZ3RoO2krKylpZihwYXJlbnRzW2ldPT09c3JjKXJldHVybiBub2Rlc1tpXTtpZigib2JqZWN0Ij09dHlwZW9mIHNyYyYmbnVsbCE9PXNyYyl7dmFyIGRzdD1jb3B5KHNyYyk7cmV0dXJuIHBhcmVudHMucHVzaChzcmMpLG5vZGVzLnB1c2goZHN0KSxmb3JFYWNoKG9iamVjdEtleXMoc3JjKSxmdW5jdGlvbihrZXkpe2RzdFtrZXldPWNsb25lKHNyY1trZXldKX0pLHBhcmVudHMucG9wKCksbm9kZXMucG9wKCksZHN0fXJldHVybiBzcmN9KHRoaXMudmFsdWUpfTt2YXIgb2JqZWN0S2V5cz1PYmplY3Qua2V5c3x8ZnVuY3Rpb24ob2JqKXt2YXIgcmVzPVtdO2Zvcih2YXIga2V5IGluIG9iailyZXMucHVzaChrZXkpO3JldHVybiByZXN9LGlzQXJyYXk9QXJyYXkuaXNBcnJheXx8ZnVuY3Rpb24oeHMpe3JldHVybiJbb2JqZWN0IEFycmF5XSI9PT1PYmplY3QucHJvdG90eXBlLnRvU3RyaW5nLmNhbGwoeHMpfSxmb3JFYWNoPWZ1bmN0aW9uKHhzLGZuKXtpZih4cy5mb3JFYWNoKXJldHVybiB4cy5mb3JFYWNoKGZuKTtmb3IodmFyIGk9MDtpPHhzLmxlbmd0aDtpKyspZm4oeHNbaV0saSx4cyl9O2ZvckVhY2gob2JqZWN0S2V5cyhUcmF2ZXJzZS5wcm90b3R5cGUpLGZ1bmN0aW9uKGtleSl7dHJhdmVyc2Vba2V5XT1mdW5jdGlvbihvYmope3ZhciBhcmdzPVtdLnNsaWNlLmNhbGwoYXJndW1lbnRzLDEpLHQ9bmV3IFRyYXZlcnNlKG9iaik7cmV0dXJuIHRba2V5XS5hcHBseSh0LGFyZ3MpfX0pO3ZhciBoYXNPd25Qcm9wZXJ0eT1PYmplY3QuaGFzT3duUHJvcGVydHl8fGZ1bmN0aW9uKG9iaixrZXkpe3JldHVybiBrZXkgaW4gb2JqfX0se31dfSx7fSxbMV0pKDEpfSk7ICAgIAogICAgdmFyIGNvbW1lbnQgPSAiIjsKICAgIG1hcGJveGdsLmFjY2Vzc1Rva2VuPSJway5leUoxSWpvaWJXRndZbTk0SWl3aVlTSTZJbU5wZWpZNE0yOWlhekEyWjJneWNYQTROMnBtYkRabWFuZ2lmUS4tZ192RTUzU0QyV3JKNnRGWDdRSG1BIjsKICAgIHZhciBtYXBkYXRhID0gbnVsbDsKICAgIHZhciBtYXAgPSBuZXcgbWFwYm94Z2wuTWFwKHsKICAgICAgICBjb250YWluZXI6ICJtYXAtZDI2YTZhMzYtNTFhYjJlYjgiLAogICAgICAgIHN0eWxlOiAibWFwYm94Oi8vc3R5bGVzL21hcGJveC9saWdodC12OSIKICAgIH0pOwoKICAgIHNldFRpbWVvdXQoZnVuY3Rpb24oKXsKICAgICAgICBpZiAod2luZG93LmFkZFBETWVzc2FnZUxpc3RlbmVyKXsKICAgICAgICAgICAgd2luZG93LmFkZFBETWVzc2FnZUxpc3RlbmVyKGZ1bmN0aW9uKGV2ZW50KXsKICAgICAgICAgICAgICAgIHN0cmVhbWluZ0xheWVyID0gbWFwLmdldFNvdXJjZSgic3RyZWFtaW5nTGF5ZXIiKTsKICAgICAgICAgICAgICAgIGlmIChzdHJlYW1pbmdMYXllcil7CiAgICAgICAgICAgICAgICAgICAgc3RyZWFtaW5nTGF5ZXIuc2V0RGF0YShldmVudC5kYXRhLmRhdGEpOwogICAgICAgICAgICAgICAgfWVsc2V7CiAgICAgICAgICAgICAgICAgICAgbWFwLmFkZExheWVyKHsKICAgICAgICAgICAgICAgICAgICAgICAgImlkIjogInN0cmVhbWluZ0xheWVyIiwKICAgICAgICAgICAgICAgICAgICAgICAgIm1hcHR5cGUiOiAibWFwYm94IiwKICAgICAgICAgICAgICAgICAgICAgICAgInR5cGUiOiBldmVudC5kYXRhLnR5cGUsCiAgICAgICAgICAgICAgICAgICAgICAgICJzb3VyY2UiOiB7IHR5cGU6ICJnZW9qc29uIiwgZGF0YTogZXZlbnQuZGF0YS5kYXRhIH0sCiAgICAgICAgICAgICAgICAgICAgICAgICJsYXlvdXQiOiBldmVudC5kYXRhLmxheW91dCB8fCB7fSwKICAgICAgICAgICAgICAgICAgICAgICAgInBhaW50IjogZXZlbnQuZGF0YS5wYWludCB8fCB7fQogICAgICAgICAgICAgICAgICAgIH0pOwogICAgICAgICAgICAgICAgICAgIGlmIChldmVudC5kYXRhLmZpdGJvdW5kcyAmJiBldmVudC5kYXRhLmRhdGEuZmVhdHVyZXMpewogICAgICAgICAgICAgICAgICAgICAgICBmdW5jdGlvbiB1cGRhdGVCb3VuZHMocmVzLCBhcil7CiAgICAgICAgICAgICAgICAgICAgICAgICAgICBpZiAoYXJbMF0ubGVuZ3RoID49MiAmJiBhclsxXS5sZW5ndGggPj0gMiApewogICAgICAgICAgICAgICAgICAgICAgICAgICAgICAgIGlmICghcmVzKXsKICAgICAgICAgICAgICAgICAgICAgICAgICAgICAgICAgICAgcmV0dXJuIGFyOwogICAgICAgICAgICAgICAgICAgICAgICAgICAgICAgIH0KICAgICAgICAgICAgICAgICAgICAgICAgICAgICAgICByZXR1cm4gWyAKICAgICAgICAgICAgICAgICAgICAgICAgICAgICAgICAgICAgW01hdGgubWluKCBhclswXVswXS0wLjEsIHJlc1swXVswXSksIE1hdGgubWluKCBhclswXVsxXS0wLjEsIHJlc1swXVsxXSldLAogICAgICAgICAgICAgICAgICAgICAgICAgICAgICAgICAgICBbTWF0aC5tYXgoIGFyWzFdWzBdKzAuMSwgcmVzWzFdWzBdKSwgTWF0aC5tYXgoIGFyWzFdWzFdKzAuMSwgcmVzWzFdWzFdKV0KICAgICAgICAgICAgICAgICAgICAgICAgICAgICAgICBdCiAgICAgICAgICAgICAgICAgICAgICAgICAgICB9CiAgICAgICAgICAgICAgICAgICAgICAgICAgICByZXR1cm4gbnVsbDsKICAgICAgICAgICAgICAgICAgICAgICAgfQogICAgICAgICAgICAgICAgICAgICAgICB2YXIgYmJveCA9IGV2ZW50LmRhdGEuZGF0YS5mZWF0dXJlcy5yZWR1Y2UoZnVuY3Rpb24ocmVzLCB2YWx1ZSl7CiAgICAgICAgICAgICAgICAgICAgICAgICAgICB2YXIgY29vcmQgPSB2YWx1ZS5nZW9tZXRyeS5jb29yZGluYXRlczsKICAgICAgICAgICAgICAgICAgICAgICAgICAgIGlmIChjb29yZC5sZW5ndGggPj0gMiApewogICAgICAgICAgICAgICAgICAgICAgICAgICAgICAgIHJlcyA9IHVwZGF0ZUJvdW5kcyggcmVzLCBbY29vcmRbMF0sIGNvb3JkWzFdXSk7CiAgICAgICAgICAgICAgICAgICAgICAgICAgICB9CiAgICAgICAgICAgICAgICAgICAgICAgICAgICByZXR1cm4gcmVzOwogICAgICAgICAgICAgICAgICAgICAgICB9LCBudWxsKTsKICAgICAgICAgICAgICAgICAgICAgICAgaWYgKGJib3gpewogICAgICAgICAgICAgICAgICAgICAgICAgICAgbWFwLmZpdEJvdW5kcyhiYm94KTsKICAgICAgICAgICAgICAgICAgICAgICAgfQogICAgICAgICAgICAgICAgICAgIH0KICAgICAgICAgICAgICAgIH0KICAgICAgICAgICAgfSk7CiAgICAgICAgfTsKICAgIH0sMTAwKTsKCiAgICB2YXIgcG9wdXAgPSBuZXcgbWFwYm94Z2wuUG9wdXAoe2Nsb3NlQnV0dG9uOiBmYWxzZSxjbG9zZU9uQ2xpY2s6IHRydWV9KTsKCiAgICBmdW5jdGlvbiBkaXZpbmVHZW9tZXRyeVR5cGUobWFwZGF0YSkgewogICAgICAgIGNvbW1lbnQgPSAiY2hlY2sgdHlwZSBvZiBmaXJzdCBnZW9tZXRyeS4gTGF0ZXIgZXhwYW5kIHRvIGNoZWNrIGFsbCBnZW9tZXRyaWVzIGFuZCBtYWtlIGEgZ29vZCBkZWNpc2lvbiI7CiAgICAgICAgcmV0dXJuIG1hcGRhdGEuZmVhdHVyZXNbMF0uZ2VvbWV0cnkudHlwZTsKICAgIH0KICAgIAogICAgbWFwLm9uKCJtb3VzZW1vdmUiLCBmdW5jdGlvbiAoZSkgewogICAgICAgIHZhciBmcyA9IG1hcC5xdWVyeVJlbmRlcmVkRmVhdHVyZXMoZS5wb2ludCx7bGF5ZXJzOlsicHhsYXllciJdfSk7CiAgICAgICAgaWYgKCFmcyB8fCAhZnMubGVuZ3RoKSB7cG9wdXAucmVtb3ZlKCk7cmV0dXJuO307CiAgICAgICAgcG9wdXBodG1sID0gIiI7CiAgICAgICAgdmFyIGhyID0gZmFsc2U7CiAgICAgICAgZnMuZm9yRWFjaChmdW5jdGlvbihmKXsKICAgICAgICAgICAgaWYgKGhyKXsgCiAgICAgICAgICAgICAgICBwb3B1cGh0bWwgKz0gIjxocj5cbiI7CiAgICAgICAgICAgIH0KICAgICAgICAgICAgaHI9dHJ1ZTsKICAgICAgICAgICAgcG9wdXBodG1sICs9ICI8aDM+IitmLmxheWVyLmlkLnRvVXBwZXJDYXNlKCkrIjwvaDM+XG4iOwogICAgICAgICAgICB2YXIga2V5bGVuZ3RoID0gT2JqZWN0LmtleXMoZi5wcm9wZXJ0aWVzKS5sZW5ndGg7CiAgICAgICAgICAgIGZvciAodmFyIGtleSBpbiBmLnByb3BlcnRpZXMpIHsKICAgICAgICAgICAgICAgIHBvcHVwaHRtbCArPSAiPGI+IitrZXkrIjogPC9iPiAiK2YucHJvcGVydGllc1trZXldKyI8YnIvPlxuIjsKICAgICAgICAgICAgfQogICAgICAgIH0pOwogICAgICAgIHBvcHVwLnNldExuZ0xhdChlLmxuZ0xhdCkuc2V0SFRNTChwb3B1cGh0bWwpLmFkZFRvKG1hcCk7CiAgICB9KTsKICAgIAogICAgbWFwLm9uKCJjbGljayIsIGZ1bmN0aW9uIChlKSB7CiAgICAgICAgdmFyIGZzID0gbWFwLnF1ZXJ5UmVuZGVyZWRGZWF0dXJlcyhlLnBvaW50LCB7IGxheWVyczogWyJweGxheWVyIl0gfSk7CiAgICAgICAgaWYgKGZzICYmIGZzLmxlbmd0aCkgewogICAgICAgICAgICB2YXIgZiA9IGZzWzBdOwogICAgICAgICAgICBjb25zb2xlLmxvZygiY2xpY2tlZCIsIGYpOwogICAgICAgICAgICB2YXIga2V5bGVuZ3RoID0gT2JqZWN0LmtleXMoZi5wcm9wZXJ0aWVzKS5sZW5ndGg7CiAgICAgICAgICAgIHZhciBwYXlsb2FkID0ge3R5cGU6InNlbGVjdCIsIHRhcmdldERpdklkOiAiIiB9OwoKICAgICAgICAgICAgZm9yICh2YXIga2V5IGluIGYucHJvcGVydGllcykgewogICAgICAgICAgICAgICAgcGF5bG9hZFtrZXldID0gZi5wcm9wZXJ0aWVzW2tleV07CiAgICAgICAgICAgIH0KCiAgICAgICAgICAgIGlmICh3aW5kb3cudHJpZ2dlclBERXZlbnQpIHsKICAgICAgICAgICAgICAgIHdpbmRvdy50cmlnZ2VyUERFdmVudChwYXlsb2FkKTsKICAgICAgICAgICAgfQogICAgICAgIH0KICAgIH0pOwogICAgICAgIAogICAgbWFwLm9uKCJsb2FkIiwgZnVuY3Rpb24oKSB7CiAgICAgICAgCiAgICAgICAgbWFwZGF0YT17InR5cGUiOiAiRmVhdHVyZUNvbGxlY3Rpb24iLCAiZmVhdHVyZXMiOiBbeyJ0eXBlIjogIkZlYXR1cmUiLCAiZ2VvbWV0cnkiOiB7InR5cGUiOiAiUG9pbnQiLCAiY29vcmRpbmF0ZXMiOiBbLTk1LjQxMTk0NDQ0LCAyOS42OTY5NDQ0NF19LCAicHJvcGVydGllcyI6IHsiRGlzY2hhcmdlIjogMzMyMDAsICJzaXRlX25hbWUiOiAiQnJheXNCYXlvdSIsICJHYWdlX0hlaWdodCI6IDQ1LjA4fX0sIHsidHlwZSI6ICJGZWF0dXJlIiwgImdlb21ldHJ5IjogeyJ0eXBlIjogIlBvaW50IiwgImNvb3JkaW5hdGVzIjogWy05NS4zMTMwNTYsIDI5LjgwODYxMV19LCAicHJvcGVydGllcyI6IHsiRGlzY2hhcmdlIjogNjY0MCwgInNpdGVfbmFtZSI6ICJIdW50aW5nQmF5b3UiLCAiR2FnZV9IZWlnaHQiOiAzNy4xfX0sIHsidHlwZSI6ICJGZWF0dXJlIiwgImdlb21ldHJ5IjogeyJ0eXBlIjogIlBvaW50IiwgImNvb3JkaW5hdGVzIjogWy05NS4zOTY5NDM5OTk5OTk5OSwgMjkuNzc1XX0sICJwcm9wZXJ0aWVzIjogeyJEaXNjaGFyZ2UiOiAzMDcwMCwgInNpdGVfbmFtZSI6ICJXaGl0ZW9ha0JheW91IiwgIkdhZ2VfSGVpZ2h0IjogMzkuNTR9fSwgeyJ0eXBlIjogIkZlYXR1cmUiLCAiZ2VvbWV0cnkiOiB7InR5cGUiOiAiUG9pbnQiLCAiY29vcmRpbmF0ZXMiOiBbLTk1LjM1ODMzMzMzLCAyOS43NjYzODg4OV19LCAicHJvcGVydGllcyI6IHsiRGlzY2hhcmdlIjogMSwgInNpdGVfbmFtZSI6ICJXaGl0ZW9ha0JheW91TWFpblN0IiwgIkdhZ2VfSGVpZ2h0IjogMzguMDl9fV19OwogICAgICAgIGdlb210eXBlID0gZGl2aW5lR2VvbWV0cnlUeXBlKG1hcGRhdGEpOwogICAgICAgIAogICAgICAgICAgICB2YXIgZHMgPSB7CiAgICAgICAgICAgICAgICAidHlwZSI6Imdlb2pzb24iLAogICAgICAgICAgICAgICAgImRhdGEiOm1hcGRhdGEKICAgICAgICAgICAgfTsKICAgICAgICAgICAgdmFyIGNsdXN0ZXJtZSA9IGZhbHNlOwogICAgICAgICAgICBpZiAoZ2VvbXR5cGUuc3Vic3RyKC01LDUpID09ICJQb2ludCIpIHsKICAgICAgICAgICAgICAgIAogICAgICAgICAgICB9CiAgICAgICAgICAgIG1hcC5hZGRTb3VyY2UoInB4ZGF0YXNvdXJjZSIsIGRzKTsKCiAgICAgICAgICAgIHZhciBtYXBsYXllcnR5cGUgPSAiY2lyY2xlIjsKICAgICAgICAgICAgaWYgKGdlb210eXBlLnN1YnN0cigtNyw3KSA9PSAiUG9seWdvbiIpIAogICAgICAgICAgICAgICAgbWFwbGF5ZXJ0eXBlID0gImZpbGwiOwogICAgICAgICAgICBlbHNlIGlmIChnZW9tdHlwZS5zdWJzdHIoLTEwLDEwKSA9PSAiTGluZVN0cmluZyIpCiAgICAgICAgICAgICAgICBtYXBsYXllcnR5cGUgPSAibGluZSI7CiAgICAgICAgICAgIG1hcC5hZGRMYXllcih7CiAgICAgICAgICAgICAgICAiaWQiOiJweGxheWVyIiwKICAgICAgICAgICAgICAgICJ0eXBlIjptYXBsYXllcnR5cGUsIAogICAgICAgICAgICAgICAgInNvdXJjZSI6ICJweGRhdGFzb3VyY2UiLCAKICAgICAgICAgICAgICAgICJwYWludCI6IHsiY2lyY2xlLWNvbG9yIjogIiNmZjAwMDAiLCAiY2lyY2xlLXJhZGl1cyI6IDEyLCAiY2lyY2xlLW9wYWNpdHkiOiAxLjB9CiAgICAgICAgICAgIH0pOwogICAgICAgICAgICAKICAgICAgICAgICAgaWYgKGNsdXN0ZXJtZSAmJiBnZW9tdHlwZS5zdWJzdHIoLTUsNSkgPT0gIlBvaW50IikgewogICAgICAgICAgICAgICAgbWFwLmFkZExheWVyKHsKICAgICAgICAgICAgICAgICAgICAiaWQiOiAiY2x1c3Rlci1jb3VudC1sYWJlbHMiLCAKICAgICAgICAgICAgICAgICAgICAidHlwZSI6ICJzeW1ib2wiLCAKICAgICAgICAgICAgICAgICAgICAic291cmNlIjogInB4ZGF0YXNvdXJjZSIsIAogICAgICAgICAgICAgICAgICAgICJwYWludCI6IHsKICAgICAgICAgICAgICAgICAgICAgICAgInRleHQtY29sb3IiOiAiI0ZGRiIKICAgICAgICAgICAgICAgICAgICB9LAogICAgICAgICAgICAgICAgICAgICJsYXlvdXQiOiB7CiAgICAgICAgICAgICAgICAgICAgICAgICJ0ZXh0LWZpZWxkIjogIntwb2ludF9jb3VudH0iLCAKICAgICAgICAgICAgICAgICAgICAgICAgInRleHQtZm9udCI6IFsKICAgICAgICAgICAgICAgICAgICAgICAgICAgICJESU4gT2ZmYyBQcm8gTWVkaXVtIiwgCiAgICAgICAgICAgICAgICAgICAgICAgICAgICAiQXJpYWwgVW5pY29kZSBNUyBCb2xkIgogICAgICAgICAgICAgICAgICAgICAgICBdLAogICAgICAgICAgICAgICAgICAgICAgICAidGV4dC1zaXplIjogMTIKICAgICAgICAgICAgICAgICAgICB9CiAgICAgICAgICAgICAgICB9KTsKICAgICAgICAgICAgfQogICAgICAgIAogICAgICAgIAoKICAgICAgICBjb21tZW50ID0gIkFkZCB1c2VyIGxheWVycyI7CiAgICAgICAgdmFyIGxheWVycyA9IFtdOwogICAgICAgIAogICAgICAgIGxheWVycy5zb3J0KGZ1bmN0aW9uKGEsYikgewogICAgICAgICAgICByZXR1cm4gYVsxXSAtIGJbMV07CiAgICAgICAgfSk7CiAgICAgICAgZm9yIChsYXllcnNpPWxheWVycy5sZW5ndGgtMTsgbGF5ZXJzaT49MDsgbGF5ZXJzaS0tKSB7CiAgICAgICAgICAgIG1hcC5hZGRMYXllcihsYXllcnNbbGF5ZXJzaV1bMF0pOwogICAgICAgICAgICBjb21tZW50ID0gIlVzZXIgbGF5ZXIgbGVnZW5kIjsKICAgICAgICAgICAgCiAgICAgICAgfQogICAgICAgIAogICAgICAgIG1hcC5maXRCb3VuZHMoW1stOTUuNDExOTQ0NDQsIDI5LjY5Njk0NDQ0XSwgWy05NS4zMTMwNTYsIDI5LjgwODYxMV1dKTsKICAgICAgICAKICAgICAgICAKICAgIH0pOwo8L3NjcmlwdD4KPC9ib2R5Pgo8L2h0bWw+'));\n",
       "</script>\n",
       "\n",
       "        </div>"
      ],
      "text/plain": [
       "<IPython.core.display.HTML object>"
      ]
     },
     "metadata": {},
     "output_type": "display_data"
    }
   ],
   "source": [
    "display(maxFlood)"
   ]
  },
  {
   "cell_type": "markdown",
   "metadata": {},
   "source": [
    "<a id=\"create\"></a>\n",
    "## 3.0 Create Pixie App\n",
    "\n",
    "### Building the PixieApp Dashboard\n",
    "\n",
    "#### What you'll need:\n",
    "- Mapbox token: A Mapbox token is rquired for the notebook. To get your own visit [Mapbox](https://www.mapbox.com/)\n",
    "- Mapbox layers Documentation: [circle](https://www.mapbox.com/mapbox-gl-js/style-spec/#layers-circle), [fill](https://www.mapbox.com/mapbox-gl-js/style-spec/#layers-fill), [symbols](https://www.mapbox.com/mapbox-gl-js/style-spec/#layers-symbol)\n",
    "- Mapbox Maki Icons: [https://www.mapbox.com/maki-icons](https://www.mapbox.com/maki-icons)\n",
    "- Browse the data from [Huricane Harvey data archives](https://www.dropbox.com/sh/5757a3ujflzdwxo/AAAFD97LMXCRe0YW1HMJDvQ-a?dl=0) to get the GeoJSON url\n",
    "- Some understanding of [Jinja2 template](http://jinja.pocoo.org/docs/dev/templates)\n",
    "- A Quick read of [PixieApp documentation](https://pixiedust.github.io/pixiedust/pixieapps.html)\n",
    "\n",
    "### FAQ about the code below:\n",
    "- How do I get the pixiedust options in `self.mapJSONOptions`?\n",
    "> - Call `display()` on a new cell  \n",
    "> - Graphically select the options for your chart  \n",
    "> - Select \"View\"/\"Cell Toolbar\"/\"Edit Metadata\" menu  \n",
    "> - Click on the “Edit Metadata” button and copy the pixiedust metadata  \n",
    "- What's the `self.setLayers` call for?\n",
    "> This is a method from the MapboxBase class used to specify the custom layer definitions array.  \n",
    "> The fields are:  \n",
    ">  - name: Layer name  \n",
    ">  - url: geojson url to download the data from\n",
    ">  - type: (optional) style type e.g Symbol. If not defined, then default value will be infered from geojson geometry\n",
    ">  - paint: (optional) paint style, see appropriate documentation e.g. [circle](https://www.mapbox.com/mapbox-gl-js/style-spec/#layers-circle)  \n",
    ">  - layout: (optional) layout style, see appropriate documentation e.g. [fill](https://www.mapbox.com/mapbox-gl-js/style-spec/#layers-fill)\n",
    "- How do I find new layer data to add?\n",
    "> The data layers use geojson format. If you have a `.csv` file, you can use a [csv to geojson converter](https://csv.togeojson.com/) to format correctly.\n",
    "- What does the `mainScreen` method do?\n",
    "> This is a PixieApp View associated with the default route. See [PixieApp documentation](https://pixiedust.github.io/pixiedust/pixieapps.html) for more information.\n",
    "- What's the {{...}} notation in the mainScreen markup for?\n",
    "> This is a Jinja2 template notation to call server side Python code. See [Jinja2 template](http://jinja.pocoo.org/docs/dev/templates) for more info"
   ]
  },
  {
   "cell_type": "code",
   "execution_count": 24,
   "metadata": {},
   "outputs": [
    {
     "name": "stdout",
     "output_type": "stream",
     "text": [
      "--2019-03-25 18:39:11--  https://ibm.box.com/shared/static/wo7piia0faxp1vu8cfkmrb5e5olon9l0.geojson\n",
      "Resolving ibm.box.com (ibm.box.com)... 107.152.26.197\n",
      "Connecting to ibm.box.com (ibm.box.com)|107.152.26.197|:443... connected.\n",
      "HTTP request sent, awaiting response... 301 Moved Permanently\n",
      "Location: /public/static/wo7piia0faxp1vu8cfkmrb5e5olon9l0.geojson [following]\n",
      "--2019-03-25 18:39:11--  https://ibm.box.com/public/static/wo7piia0faxp1vu8cfkmrb5e5olon9l0.geojson\n",
      "Reusing existing connection to ibm.box.com:443.\n",
      "HTTP request sent, awaiting response... 301 Moved Permanently\n",
      "Location: https://ibm.ent.box.com/public/static/wo7piia0faxp1vu8cfkmrb5e5olon9l0.geojson [following]\n",
      "--2019-03-25 18:39:12--  https://ibm.ent.box.com/public/static/wo7piia0faxp1vu8cfkmrb5e5olon9l0.geojson\n",
      "Resolving ibm.ent.box.com (ibm.ent.box.com)... 107.152.24.211, 107.152.25.211\n",
      "Connecting to ibm.ent.box.com (ibm.ent.box.com)|107.152.24.211|:443... connected.\n",
      "HTTP request sent, awaiting response... 302 Found\n",
      "Location: https://public.boxcloud.com/d/1/b1!iLocz03kBZqUepJvPx3u3VGZcrEj325wuSgRzzVU0fxVu8NVQ1_KnXRgiu8RENKlUeC-8Js9ipLKC1rHXggaoyth4LhUBpmEloa-JxdiklOlNVJ7vLUxm0ifbhaS7KxpWnV2GbT0OREwh5uVGgGrv1uF5u_RDLt8FYuLeovtaQnhcNeMVp95moGDDbu0zMDVUMjXh8lePZLp2rSftMGxZvgxWD8OQqS3qpI61WZH0hJieFDeFyfybWTtmEWLtLsqH7TO-EM7FrM7X9drC-RBz3-o-ZmRmhg05oumqe-DcGL7K68jTCLUXBYFBOdI0HVta9irBNiszgh4V5zaKJxzCPuCORnMVs0iCQK_0U0a3xL_bJd9RivjFzNqFEz-mn9GoCK3AtxdkmOzjg5-y_tTdsmeQc85h53d8xvMr0sHtPsbxdvYHYvWynCK0gnwRKOIiZwkVDGmQgx3uLs8wJwGjasnrGwCn-79Hci6FE20VLzG_poJs6v1t0VnAMGvRQlCnfqtTFKRRDFLg3kwJgzP3jz1ZcO02rh04EtJGtBL1cTfwshkJBBsMgqXZ9kqynXp9jVCnop73yNG8HLDiBakyVGATk3KdrYgyv_XIKVIZoc8v52Fj67uzQtYI7TrCxEil9DOtPbcZLNEIVzEwM4LmUWMOX7ETShipP2dMxXOwyxY4G49WcX2sNeghE_5oMTqQT2P9UQ_GYzEFNbC7Kwg59C-N8n4r8KZKed25Yj25Uy_DS2Upl69d91f_6_TZxCzveDmG3h0cjWOw7MJLtJkGhMvCrkVe3OH6bgSRHrqBFN3qG2wkt1idNlZmBGs1FjMHcH5k0cLwFJheLNkmGp9-F-lwGuaK12Nl3zIW0u9zfjhKd-2d02lx7SLLB-vGgTR4RJdzNNZ_0c8Wdu0gUSnZ_NbDFPA5Ka4esv6U9JtiQe24ZGmlZWAf8bxWEDoE1U_rBoPU5uZEImzAy_7OLn7EZmlsDXUFJog3vZjvzanQaFVdv8b5IhexV2T05wQ1kqJSVk6O8cjA_Rn-NdkQQsI0yQ136ezooWSsAZDTbzkEFlxEUzZDI9HITSGfPY9by3EB0QTJ5S5QEOaDS3jSMVhDIJzSnYWR0zA8CYluJLu6SMC-uDSpKdjwTi77uau5cTPmwBpb41TEfzHFyS7x58aU9B598D-aSn2pbdluHj0g90z7Wda2scBftuvCuufVnrmJ_aZ5r0T1B0ps6mLz6ZgaHY7n1fsfg0AeGeHQ5szj_CI1BhrEc2lDg00i6x9j2hoIfvQv7EGxPj5QeeYojX7yiJIBVcXXxShRR0pyIeo2m0ur44b1Un3Or8cPzAgVZ0DRkBCnf6-6mLI1_KuoLP3gyOGwOOl-FUEm5YK_920sI_5KLNQPsBvGrKlIRCVGN99Q-5cR3X52CMkbuzX-uJjqn2edEGI2_XFdx7sfT6aOE4./download [following]\n",
      "--2019-03-25 18:39:12--  https://public.boxcloud.com/d/1/b1!iLocz03kBZqUepJvPx3u3VGZcrEj325wuSgRzzVU0fxVu8NVQ1_KnXRgiu8RENKlUeC-8Js9ipLKC1rHXggaoyth4LhUBpmEloa-JxdiklOlNVJ7vLUxm0ifbhaS7KxpWnV2GbT0OREwh5uVGgGrv1uF5u_RDLt8FYuLeovtaQnhcNeMVp95moGDDbu0zMDVUMjXh8lePZLp2rSftMGxZvgxWD8OQqS3qpI61WZH0hJieFDeFyfybWTtmEWLtLsqH7TO-EM7FrM7X9drC-RBz3-o-ZmRmhg05oumqe-DcGL7K68jTCLUXBYFBOdI0HVta9irBNiszgh4V5zaKJxzCPuCORnMVs0iCQK_0U0a3xL_bJd9RivjFzNqFEz-mn9GoCK3AtxdkmOzjg5-y_tTdsmeQc85h53d8xvMr0sHtPsbxdvYHYvWynCK0gnwRKOIiZwkVDGmQgx3uLs8wJwGjasnrGwCn-79Hci6FE20VLzG_poJs6v1t0VnAMGvRQlCnfqtTFKRRDFLg3kwJgzP3jz1ZcO02rh04EtJGtBL1cTfwshkJBBsMgqXZ9kqynXp9jVCnop73yNG8HLDiBakyVGATk3KdrYgyv_XIKVIZoc8v52Fj67uzQtYI7TrCxEil9DOtPbcZLNEIVzEwM4LmUWMOX7ETShipP2dMxXOwyxY4G49WcX2sNeghE_5oMTqQT2P9UQ_GYzEFNbC7Kwg59C-N8n4r8KZKed25Yj25Uy_DS2Upl69d91f_6_TZxCzveDmG3h0cjWOw7MJLtJkGhMvCrkVe3OH6bgSRHrqBFN3qG2wkt1idNlZmBGs1FjMHcH5k0cLwFJheLNkmGp9-F-lwGuaK12Nl3zIW0u9zfjhKd-2d02lx7SLLB-vGgTR4RJdzNNZ_0c8Wdu0gUSnZ_NbDFPA5Ka4esv6U9JtiQe24ZGmlZWAf8bxWEDoE1U_rBoPU5uZEImzAy_7OLn7EZmlsDXUFJog3vZjvzanQaFVdv8b5IhexV2T05wQ1kqJSVk6O8cjA_Rn-NdkQQsI0yQ136ezooWSsAZDTbzkEFlxEUzZDI9HITSGfPY9by3EB0QTJ5S5QEOaDS3jSMVhDIJzSnYWR0zA8CYluJLu6SMC-uDSpKdjwTi77uau5cTPmwBpb41TEfzHFyS7x58aU9B598D-aSn2pbdluHj0g90z7Wda2scBftuvCuufVnrmJ_aZ5r0T1B0ps6mLz6ZgaHY7n1fsfg0AeGeHQ5szj_CI1BhrEc2lDg00i6x9j2hoIfvQv7EGxPj5QeeYojX7yiJIBVcXXxShRR0pyIeo2m0ur44b1Un3Or8cPzAgVZ0DRkBCnf6-6mLI1_KuoLP3gyOGwOOl-FUEm5YK_920sI_5KLNQPsBvGrKlIRCVGN99Q-5cR3X52CMkbuzX-uJjqn2edEGI2_XFdx7sfT6aOE4./download\n",
      "Resolving public.boxcloud.com (public.boxcloud.com)... 107.152.24.200, 107.152.25.200\n",
      "Connecting to public.boxcloud.com (public.boxcloud.com)|107.152.24.200|:443... connected.\n",
      "HTTP request sent, awaiting response... 200 OK\n",
      "Length: 944176 (922K) [application/octet-stream]\n",
      "Saving to: 'wo7piia0faxp1vu8cfkmrb5e5olon9l0.geojson'\n",
      "\n",
      "wo7piia0faxp1vu8cfk 100%[===================>] 922.05K  3.61MB/s    in 0.2s    \n",
      "\n",
      "2019-03-25 18:39:14 (3.61 MB/s) - 'wo7piia0faxp1vu8cfkmrb5e5olon9l0.geojson' saved [944176/944176]\n",
      "\n",
      "HuntingBayou  houstonFlood.geojson  pixiedust.db  user-libs\n",
      "flood.csv     logs\t\t    spark-events\n"
     ]
    }
   ],
   "source": [
    "!wget https://ibm.box.com/shared/static/wo7piia0faxp1vu8cfkmrb5e5olon9l0.geojson\n",
    "!mv wo7piia0faxp1vu8cfkmrb5e5olon9l0.geojson houstonFlood.geojson\n",
    "!ls"
   ]
  },
  {
   "cell_type": "code",
   "execution_count": 26,
   "metadata": {
    "pixiedust": {
     "displayParams": {}
    }
   },
   "outputs": [
    {
     "data": {
      "text/html": [
       "<style type=\"text/css\">.pd_warning{display:none;}</style><div class=\"pd_warning\"><em>Hey, there's something awesome here! To see it, open this notebook outside GitHub, in a viewer like Jupyter</em></div>"
      ],
      "text/plain": [
       "<IPython.core.display.HTML object>"
      ]
     },
     "metadata": {},
     "output_type": "display_data"
    }
   ],
   "source": [
    "from pixiedust.display.app import *\n",
    "from pixiedust.apps.mapboxBase import MapboxBase\n",
    "\n",
    "@PixieApp\n",
    "class HoustonDashboard(MapboxBase):\n",
    "    def setup(self):\n",
    "        self.mapJSONOptions = {\n",
    "      \"colorrampname\": \"Green to Purple\",\n",
    "      \"coloropacity\": \"100\",\n",
    "      \"handlerId\": \"mapView\",\n",
    "      \"kind\": \"simple\",\n",
    "      \"mapboxtoken\": \"pk.eyJ1IjoibWFwYm94IiwiYSI6ImNpejY4M29iazA2Z2gycXA4N2pmbDZmangifQ.-g_vE53SD2WrJ6tFX7QHmA\",\n",
    "      \"keyFields\": \"latitude,longitude\",\n",
    "      \"valueFields\": \"Gage_Height(feet),Discharge(cfs),date,time\"\n",
    "    }\n",
    "        \n",
    "\n",
    "        self.setLayers([\n",
    "        {\n",
    "            \"name\": \"Houston Flood\",\n",
    "            \"url\": \"https://ibm.box.com/shared/static/wo7piia0faxp1vu8cfkmrb5e5olon9l0.geojson\",\n",
    "            \"type\": \"LineString\"\n",
    "        },\n",
    "        {\n",
    "            \"name\": \"STSA homes\",\n",
    "            \"url\": \"https://ibm.box.com/shared/static/g4go447ovrwmuwvn6f79leeiqftoys0u.geojson\",\n",
    "            \"circle-color\": \"rgb(0, 255, 0)\"\n",
    "        }\n",
    "        ])\n",
    "    def formatOptions(self,options):\n",
    "        return ';'.join([\"{}={}\".format(key,value) for (key, value) in iteritems(options)])\n",
    "\n",
    "    @route()\n",
    "    def mainScreen(self):\n",
    "        return \"\"\"\n",
    "<div class=\"well\">\n",
    "    <center><span style=\"font-size:x-large\">Analyzing Houston Flood data with PixieDust</span></center>\n",
    "</div>\n",
    "<div class=\"row\">\n",
    "    <div class=\"form-group col-sm-2\" style=\"padding-right:10px;\">\n",
    "        <div><strong>Layers</strong></div>\n",
    "        {% for layer in this.layers %}\n",
    "        <div class=\"rendererOpt checkbox checkbox-primary\">\n",
    "            <input type=\"checkbox\" pd_refresh=\"map{{prefix}}\" pd_script=\"self.toggleLayer({{loop.index0}})\">\n",
    "            <label>{{layer[\"name\"]}}</label>\n",
    "        </div>\n",
    "        {%endfor%}\n",
    "    </div>\n",
    "    <div class=\"form-group col-sm-10\">\n",
    "        <div id=\"map{{prefix}}\" pd_entity pd_options=\"{{this.formatOptions(this.mapJSONOptions)}}\"/>\n",
    "    </div>\n",
    "</div>\n",
    "\"\"\"\n",
    "\n",
    "HoustonDashboard().run(maxFlood,runInDialog=\"false\")\n"
   ]
  },
  {
   "cell_type": "markdown",
   "metadata": {},
   "source": [
    "<a id=\"folium\"></a>\n",
    "## 4.0 Use Folium for mapping\n",
    "\n",
    "Folium is a powerful Python library that helps you create several types of Leaflet maps. The fact that the Folium results are interactive makes this library very useful for dashboard building.\n",
    "\n",
    "From the official Folium documentation page:\n",
    "\n",
    "> Folium builds on the data wrangling strengths of the Python ecosystem and the mapping strengths of the Leaflet.js library. Manipulate your data in Python, then visualize it in on a Leaflet map via Folium.\n",
    "\n",
    "> Folium makes it easy to visualize data that's been manipulated in Python on an interactive Leaflet map. It enables both the binding of data to a map for choropleth visualizations as well as passing Vincent/Vega visualizations as markers on the map.\n",
    "\n",
    "> The library has a number of built-in tilesets from OpenStreetMap, Mapbox, and Stamen, and supports custom tilesets with Mapbox or Cloudmade API keys. Folium supports both GeoJSON and TopoJSON overlays, as well as the binding of data to those overlays to create choropleth maps with color-brewer color schemes."
   ]
  },
  {
   "cell_type": "code",
   "execution_count": 27,
   "metadata": {},
   "outputs": [
    {
     "name": "stdout",
     "output_type": "stream",
     "text": [
      "Collecting folium==0.5.0\n",
      "\u001b[?25l  Downloading https://files.pythonhosted.org/packages/07/37/456fb3699ed23caa0011f8b90d9cad94445eddc656b601e6268090de35f5/folium-0.5.0.tar.gz (79kB)\n",
      "\u001b[K    100% |################################| 81kB 3.6MB/s eta 0:00:01\n",
      "\u001b[?25hCollecting branca (from folium==0.5.0)\n",
      "  Downloading https://files.pythonhosted.org/packages/63/36/1c93318e9653f4e414a2e0c3b98fc898b4970e939afeedeee6075dd3b703/branca-0.3.1-py3-none-any.whl\n",
      "Collecting jinja2 (from folium==0.5.0)\n",
      "\u001b[?25l  Downloading https://files.pythonhosted.org/packages/7f/ff/ae64bacdfc95f27a016a7bed8e8686763ba4d277a78ca76f32659220a731/Jinja2-2.10-py2.py3-none-any.whl (126kB)\n",
      "\u001b[K    100% |################################| 133kB 4.2MB/s eta 0:00:01\n",
      "\u001b[?25hCollecting requests (from folium==0.5.0)\n",
      "  Using cached https://files.pythonhosted.org/packages/7d/e3/20f3d364d6c8e5d2353c72a67778eb189176f08e873c9900e10c0287b84b/requests-2.21.0-py2.py3-none-any.whl\n",
      "Collecting six (from folium==0.5.0)\n",
      "  Using cached https://files.pythonhosted.org/packages/73/fb/00a976f728d0d1fecfe898238ce23f502a721c0ac0ecfedb80e0d88c64e9/six-1.12.0-py2.py3-none-any.whl\n",
      "Collecting MarkupSafe>=0.23 (from jinja2->folium==0.5.0)\n",
      "  Downloading https://files.pythonhosted.org/packages/6e/57/d40124076756c19ff2269678de7ae25a14ebbb3f6314eb5ce9477f191350/MarkupSafe-1.1.1-cp35-cp35m-manylinux1_x86_64.whl\n",
      "Collecting urllib3<1.25,>=1.21.1 (from requests->folium==0.5.0)\n",
      "  Using cached https://files.pythonhosted.org/packages/62/00/ee1d7de624db8ba7090d1226aebefab96a2c71cd5cfa7629d6ad3f61b79e/urllib3-1.24.1-py2.py3-none-any.whl\n",
      "Collecting idna<2.9,>=2.5 (from requests->folium==0.5.0)\n",
      "  Using cached https://files.pythonhosted.org/packages/14/2c/cd551d81dbe15200be1cf41cd03869a46fe7226e7450af7a6545bfc474c9/idna-2.8-py2.py3-none-any.whl\n",
      "Collecting certifi>=2017.4.17 (from requests->folium==0.5.0)\n",
      "  Using cached https://files.pythonhosted.org/packages/60/75/f692a584e85b7eaba0e03827b3d51f45f571c2e793dd731e598828d380aa/certifi-2019.3.9-py2.py3-none-any.whl\n",
      "Collecting chardet<3.1.0,>=3.0.2 (from requests->folium==0.5.0)\n",
      "  Using cached https://files.pythonhosted.org/packages/bc/a9/01ffebfb562e4274b6487b4bb1ddec7ca55ec7510b22e4c51f14098443b8/chardet-3.0.4-py2.py3-none-any.whl\n",
      "Building wheels for collected packages: folium\n",
      "  Running setup.py bdist_wheel for folium ... \u001b[?25ldone\n",
      "\u001b[?25h  Stored in directory: /home/spark/shared/.cache/pip/wheels/f8/98/ff/954791afc47740d554f0d9e5885fa09dd60c2265d42578e665\n",
      "Successfully built folium\n",
      "\u001b[31mpyspark 2.3.0 requires py4j==0.10.6, which is not installed.\u001b[0m\n",
      "\u001b[31mtensorflow 1.3.0 requires tensorflow-tensorboard<0.2.0,>=0.1.0, which is not installed.\u001b[0m\n",
      "Installing collected packages: MarkupSafe, jinja2, six, branca, urllib3, idna, certifi, chardet, requests, folium\n",
      "Successfully installed MarkupSafe-1.1.1 branca-0.3.1 certifi-2019.3.9 chardet-3.0.4 folium-0.5.0 idna-2.8 jinja2-2.10 requests-2.21.0 six-1.12.0 urllib3-1.24.1\n",
      "\u001b[33mTarget directory /home/spark/shared/user-libs/python3/idna-2.8.dist-info already exists. Specify --upgrade to force replacement.\u001b[0m\n",
      "\u001b[33mTarget directory /home/spark/shared/user-libs/python3/requests already exists. Specify --upgrade to force replacement.\u001b[0m\n",
      "\u001b[33mTarget directory /home/spark/shared/user-libs/python3/certifi-2019.3.9.dist-info already exists. Specify --upgrade to force replacement.\u001b[0m\n",
      "\u001b[33mTarget directory /home/spark/shared/user-libs/python3/__pycache__ already exists. Specify --upgrade to force replacement.\u001b[0m\n",
      "\u001b[33mTarget directory /home/spark/shared/user-libs/python3/chardet already exists. Specify --upgrade to force replacement.\u001b[0m\n",
      "\u001b[33mTarget directory /home/spark/shared/user-libs/python3/chardet-3.0.4.dist-info already exists. Specify --upgrade to force replacement.\u001b[0m\n",
      "\u001b[33mTarget directory /home/spark/shared/user-libs/python3/six.py already exists. Specify --upgrade to force replacement.\u001b[0m\n",
      "\u001b[33mTarget directory /home/spark/shared/user-libs/python3/six-1.12.0.dist-info already exists. Specify --upgrade to force replacement.\u001b[0m\n",
      "\u001b[33mTarget directory /home/spark/shared/user-libs/python3/idna already exists. Specify --upgrade to force replacement.\u001b[0m\n",
      "\u001b[33mTarget directory /home/spark/shared/user-libs/python3/certifi already exists. Specify --upgrade to force replacement.\u001b[0m\n",
      "\u001b[33mTarget directory /home/spark/shared/user-libs/python3/urllib3 already exists. Specify --upgrade to force replacement.\u001b[0m\n",
      "\u001b[33mTarget directory /home/spark/shared/user-libs/python3/urllib3-1.24.1.dist-info already exists. Specify --upgrade to force replacement.\u001b[0m\n",
      "\u001b[33mTarget directory /home/spark/shared/user-libs/python3/requests-2.21.0.dist-info already exists. Specify --upgrade to force replacement.\u001b[0m\n",
      "\u001b[33mTarget directory /home/spark/shared/user-libs/python3/bin already exists. Specify --upgrade to force replacement.\u001b[0m\n"
     ]
    }
   ],
   "source": [
    "!pip install folium==0.5.0\n"
   ]
  },
  {
   "cell_type": "markdown",
   "metadata": {},
   "source": [
    "### 4.1 Create map with Folium\n",
    "\n",
    "Generating the world map is straigtforward in **Folium**. You simply create a **Folium** *Map* object and then you display it.  \n",
    "What is attactive about **Folium** maps is that they are interactive, so you can zoom into any region of interest despite the initial zoom level. \n",
    "\n",
    "You can customize this default definition of the world map by specifying the centre of your map and the intial zoom level. \n",
    "\n",
    "All locations on a map are defined by their respective *Latitude* and *Longitude* values.  \n",
    "So you can create a map and pass in a center of *Latitude* and *Longitude* values of **[0, 0]**. \n",
    "\n",
    "For a defined center, you can also define the intial zoom level into that location when the map is rendered.  \n",
    "**The higher the zoom level the more the map is zoomed into the center**."
   ]
  },
  {
   "cell_type": "code",
   "execution_count": 28,
   "metadata": {
    "scrolled": true
   },
   "outputs": [
    {
     "data": {
      "text/html": [
       "<div style=\"width:100%;\"><div style=\"position:relative;width:100%;height:0;padding-bottom:60%;\"><iframe src=\"data:text/html;charset=utf-8;base64,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\" style=\"position:absolute;width:100%;height:100%;left:0;top:0;border:none !important;\" allowfullscreen webkitallowfullscreen mozallowfullscreen></iframe></div></div>"
      ],
      "text/plain": [
       "<folium.folium.Map at 0x2ba2e747c860>"
      ]
     },
     "execution_count": 28,
     "metadata": {},
     "output_type": "execute_result"
    }
   ],
   "source": [
    "import folium\n",
    "\n",
    "# define the world map centered around Canada with a higher zoom level\n",
    "houston_map = folium.Map(location=[29.808611, -95.313056], zoom_start=8)\n",
    "\n",
    "# display world map\n",
    "houston_map"
   ]
  },
  {
   "cell_type": "markdown",
   "metadata": {},
   "source": [
    "### 4.2 Change Folium tiles\n",
    "\n",
    "One feature of Folium is that you can create different map styles.  \n",
    "Test some changes to the map instantiation above by using:\n",
    "\n",
    "`world_map = folium.Map(location=[29.808611, -95.313056], zoom_start=8, tiles='Stamen Terrain')`  \n",
    "*OR*  \n",
    "`world_map = folium.Map(location=[29.808611, -95.313056], zoom_start=8, tiles='Stamen Toner')`   \n",
    "*OR*  \n",
    "`world_map = folium.Map(location=[29.808611, -95.313056], zoom_start=8, tiles='Mapbox Bright')`  \n"
   ]
  },
  {
   "cell_type": "markdown",
   "metadata": {},
   "source": [
    "### 4.3 Add feature group\n",
    "We can superimpose data from the 2017 Houston flood from stream gauges onto our Folium map"
   ]
  },
  {
   "cell_type": "code",
   "execution_count": 29,
   "metadata": {},
   "outputs": [
    {
     "data": {
      "text/html": [
       "<div style=\"width:100%;\"><div style=\"position:relative;width:100%;height:0;padding-bottom:60%;\"><iframe src=\"data:text/html;charset=utf-8;base64,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\" style=\"position:absolute;width:100%;height:100%;left:0;top:0;border:none !important;\" allowfullscreen webkitallowfullscreen mozallowfullscreen></iframe></div></div>"
      ],
      "text/plain": [
       "<folium.folium.Map at 0x2ba2e747c860>"
      ]
     },
     "execution_count": 29,
     "metadata": {},
     "output_type": "execute_result"
    }
   ],
   "source": [
    "# instantiate a feature group for the incidents in the dataframe\n",
    "gauges = folium.map.FeatureGroup()\n",
    "\n",
    "# loop through the 100 crimes and add each to the incidents feature group\n",
    "for lat, lng, in zip(maxFlood.latitude, maxFlood.longitude):\n",
    "    gauges.add_child(\n",
    "        folium.features.CircleMarker(\n",
    "            [lat, lng],\n",
    "            radius=5, # define how big you want the circle markers to be\n",
    "            color='yellow',\n",
    "            fill=True,\n",
    "            fill_color='blue',\n",
    "            fill_opacity=0.6\n",
    "        )\n",
    "    )\n",
    "\n",
    "# add incidents to map\n",
    "houston_map.add_child(gauges)"
   ]
  },
  {
   "cell_type": "markdown",
   "metadata": {},
   "source": [
    "### 4.4 Add text and lat/long\n",
    "You can also add some pop-up text that would get displayed when you hover over a marker. Let's make each marker display the stream gauge information.\n",
    "Also, use `folium.LatLngPopup()` so that you can get latitude and logitude info when you click on the map"
   ]
  },
  {
   "cell_type": "code",
   "execution_count": 30,
   "metadata": {},
   "outputs": [
    {
     "data": {
      "text/html": [
       "<div style=\"width:100%;\"><div style=\"position:relative;width:100%;height:0;padding-bottom:60%;\"><iframe src=\"data:text/html;charset=utf-8;base64,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\" style=\"position:absolute;width:100%;height:100%;left:0;top:0;border:none !important;\" allowfullscreen webkitallowfullscreen mozallowfullscreen></iframe></div></div>"
      ],
      "text/plain": [
       "<folium.folium.Map at 0x2ba2e747c860>"
      ]
     },
     "execution_count": 30,
     "metadata": {},
     "output_type": "execute_result"
    }
   ],
   "source": [
    "# instantiate a feature group for the stream gauges in the dataframe\n",
    "gauges = folium.map.FeatureGroup()\n",
    "\n",
    "# loop through the stream gauges and add each to the gauges feature group\n",
    "for lat, lng, in zip(maxFlood.latitude, maxFlood.longitude):\n",
    "    gauges.add_child(\n",
    "        folium.features.CircleMarker(\n",
    "            [lat, lng],\n",
    "            radius=5, # define how big you want the circle markers to be\n",
    "            color='yellow',\n",
    "            fill=True,\n",
    "            fill_color='blue',\n",
    "            fill_opacity=0.6\n",
    "        )\n",
    "    )\n",
    "\n",
    "# add site_name pop-up text to each marker on the map\n",
    "latitudes = list(maxFlood.latitude)\n",
    "longitudes = list( maxFlood.longitude)\n",
    "label = list(maxFlood.site_name)\n",
    "\n",
    "for lat, lng, label in zip(latitudes, longitudes, label):\n",
    "    folium.Marker([lat, lng], popup=label).add_to(houston_map)    \n",
    "    \n",
    "# add gauges to map\n",
    "houston_map.add_child(gauges)\n",
    "\n",
    "# add clickable lat and long info\n",
    "houston_map.add_child(folium.LatLngPopup())"
   ]
  },
  {
   "cell_type": "markdown",
   "metadata": {},
   "source": [
    "### 4.5 Add ability to drop markers on-the-fly\n",
    "Use the `folium.ClickForMarker()` method to allow you to click on a spot and drop a marker for `My House`.\n",
    "\n",
    "#### Exercise: See if you can find your `Assigned House` and drop a marker at that latitude and longitude location\n"
   ]
  },
  {
   "cell_type": "code",
   "execution_count": 32,
   "metadata": {},
   "outputs": [
    {
     "data": {
      "text/html": [
       "<div style=\"width:100%;\"><div style=\"position:relative;width:100%;height:0;padding-bottom:60%;\"><iframe src=\"data:text/html;charset=utf-8;base64,PCFET0NUWVBFIGh0bWw+CjxoZWFkPiAgICAKICAgIDxtZXRhIGh0dHAtZXF1aXY9ImNvbnRlbnQtdHlwZSIgY29udGVudD0idGV4dC9odG1sOyBjaGFyc2V0PVVURi04IiAvPgogICAgPHNjcmlwdD5MX1BSRUZFUl9DQU5WQVMgPSBmYWxzZTsgTF9OT19UT1VDSCA9IGZhbHNlOyBMX0RJU0FCTEVfM0QgPSBmYWxzZTs8L3NjcmlwdD4KICAgIDxzY3JpcHQgc3JjPSJodHRwczovL2Nkbi5qc2RlbGl2ci5uZXQvbnBtL2xlYWZsZXRAMS4yLjAvZGlzdC9sZWFmbGV0LmpzIj48L3NjcmlwdD4KICAgIDxzY3JpcHQgc3JjPSJodHRwczovL2FqYXguZ29vZ2xlYXBpcy5jb20vYWpheC9saWJzL2pxdWVyeS8xLjExLjEvanF1ZXJ5Lm1pbi5qcyI+PC9zY3JpcHQ+CiAgICA8c2NyaXB0IHNyYz0iaHR0cHM6Ly9tYXhjZG4uYm9vdHN0cmFwY2RuLmNvbS9ib290c3RyYXAvMy4yLjAvanMvYm9vdHN0cmFwLm1pbi5qcyI+PC9zY3JpcHQ+CiAgICA8c2NyaXB0IHNyYz0iaHR0cHM6Ly9jZG5qcy5jbG91ZGZsYXJlLmNvbS9hamF4L2xpYnMvTGVhZmxldC5hd2Vzb21lLW1hcmtlcnMvMi4wLjIvbGVhZmxldC5hd2Vzb21lLW1hcmtlcnMuanMiPjwvc2NyaXB0PgogICAgPGxpbmsgcmVsPSJzdHlsZXNoZWV0IiBocmVmPSJodHRwczovL2Nkbi5qc2RlbGl2ci5uZXQvbnBtL2xlYWZsZXRAMS4yLjAvZGlzdC9sZWFmbGV0LmNzcyIvPgogICAgPGxpbmsgcmVsPSJzdHlsZXNoZWV0IiBocmVmPSJodHRwczovL21heGNkbi5ib290c3RyYXBjZG4uY29tL2Jvb3RzdHJhcC8zLjIuMC9jc3MvYm9vdHN0cmFwLm1pbi5jc3MiLz4KICAgIDxsaW5rIHJlbD0ic3R5bGVzaGVldCIgaHJlZj0iaHR0cHM6Ly9tYXhjZG4uYm9vdHN0cmFwY2RuLmNvbS9ib290c3RyYXAvMy4yLjAvY3NzL2Jvb3RzdHJhcC10aGVtZS5taW4uY3NzIi8+CiAgICA8bGluayByZWw9InN0eWxlc2hlZXQiIGhyZWY9Imh0dHBzOi8vbWF4Y2RuLmJvb3RzdHJhcGNkbi5jb20vZm9udC1hd2Vzb21lLzQuNi4zL2Nzcy9mb250LWF3ZXNvbWUubWluLmNzcyIvPgogICAgPGxpbmsgcmVsPSJzdHlsZXNoZWV0IiBocmVmPSJodHRwczovL2NkbmpzLmNsb3VkZmxhcmUuY29tL2FqYXgvbGlicy9MZWFmbGV0LmF3ZXNvbWUtbWFya2Vycy8yLjAuMi9sZWFmbGV0LmF3ZXNvbWUtbWFya2Vycy5jc3MiLz4KICAgIDxsaW5rIHJlbD0ic3R5bGVzaGVldCIgaHJlZj0iaHR0cHM6Ly9yYXdnaXQuY29tL3B5dGhvbi12aXN1YWxpemF0aW9uL2ZvbGl1bS9tYXN0ZXIvZm9saXVtL3RlbXBsYXRlcy9sZWFmbGV0LmF3ZXNvbWUucm90YXRlLmNzcyIvPgogICAgPHN0eWxlPmh0bWwsIGJvZHkge3dpZHRoOiAxMDAlO2hlaWdodDogMTAwJTttYXJnaW46IDA7cGFkZGluZzogMDt9PC9zdHlsZT4KICAgIDxzdHlsZT4jbWFwIHtwb3NpdGlvbjphYnNvbHV0ZTt0b3A6MDtib3R0b206MDtyaWdodDowO2xlZnQ6MDt9PC9zdHlsZT4KICAgIAogICAgICAgICAgICA8c3R5bGU+ICNtYXBfOGRiYjEzY2M5YjAwNGYyNWI5YjFjODg5Y2ZhYjBkNGYgewogICAgICAgICAgICAgICAgcG9zaXRpb24gOiByZWxhdGl2ZTsKICAgICAgICAgICAgICAgIHdpZHRoIDogMTAwLjAlOwogICAgICAgICAgICAgICAgaGVpZ2h0OiAxMDAuMCU7CiAgICAgICAgICAgICAgICBsZWZ0OiAwLjAlOwogICAgICAgICAgICAgICAgdG9wOiAwLjAlOwogICAgICAgICAgICAgICAgfQogICAgICAgICAgICA8L3N0eWxlPgogICAgICAgIAo8L2hlYWQ+Cjxib2R5PiAgICAKICAgIAogICAgICAgICAgICA8ZGl2IGNsYXNzPSJmb2xpdW0tbWFwIiBpZD0ibWFwXzhkYmIxM2NjOWIwMDRmMjViOWIxYzg4OWNmYWIwZDRmIiA+PC9kaXY+CiAgICAgICAgCjwvYm9keT4KPHNjcmlwdD4gICAgCiAgICAKCiAgICAgICAgICAgIAogICAgICAgICAgICAgICAgdmFyIGJvdW5kcyA9IG51bGw7CiAgICAgICAgICAgIAoKICAgICAgICAgICAgdmFyIG1hcF84ZGJiMTNjYzliMDA0ZjI1YjliMWM4ODljZmFiMGQ0ZiA9IEwubWFwKAogICAgICAgICAgICAgICAgICAgICAgICAgICAgICAgICAgJ21hcF84ZGJiMTNjYzliMDA0ZjI1YjliMWM4ODljZmFiMGQ0ZicsCiAgICAgICAgICAgICAgICAgICAgICAgICAgICAgICAgICB7Y2VudGVyOiBbMjkuODA4NjExLC05NS4zMTMwNTZdLAogICAgICAgICAgICAgICAgICAgICAgICAgICAgICAgICAgem9vbTogOCwKICAgICAgICAgICAgICAgICAgICAgICAgICAgICAgICAgIG1heEJvdW5kczogYm91bmRzLAogICAgICAgICAgICAgICAgICAgICAgICAgICAgICAgICAgbGF5ZXJzOiBbXSwKICAgICAgICAgICAgICAgICAgICAgICAgICAgICAgICAgIHdvcmxkQ29weUp1bXA6IGZhbHNlLAogICAgICAgICAgICAgICAgICAgICAgICAgICAgICAgICAgY3JzOiBMLkNSUy5FUFNHMzg1NwogICAgICAgICAgICAgICAgICAgICAgICAgICAgICAgICB9KTsKICAgICAgICAgICAgCiAgICAgICAgCiAgICAKICAgICAgICAgICAgdmFyIHRpbGVfbGF5ZXJfYzMzMjA3MDljMzdjNDFlZDllZmFjOGY2ZmI2NDEyODEgPSBMLnRpbGVMYXllcigKICAgICAgICAgICAgICAgICdodHRwczovL3tzfS50aWxlLm9wZW5zdHJlZXRtYXAub3JnL3t6fS97eH0ve3l9LnBuZycsCiAgICAgICAgICAgICAgICB7CiAgImF0dHJpYnV0aW9uIjogbnVsbCwKICAiZGV0ZWN0UmV0aW5hIjogZmFsc2UsCiAgIm1heFpvb20iOiAxOCwKICAibWluWm9vbSI6IDEsCiAgIm5vV3JhcCI6IGZhbHNlLAogICJzdWJkb21haW5zIjogImFiYyIKfQogICAgICAgICAgICAgICAgKS5hZGRUbyhtYXBfOGRiYjEzY2M5YjAwNGYyNWI5YjFjODg5Y2ZhYjBkNGYpOwogICAgICAgIAogICAgCiAgICAgICAgICAgIHZhciBmZWF0dXJlX2dyb3VwXzU4MDdlNGZjMWEwNjQwNDRiNDEyODFhODI0YTg3M2ZkID0gTC5mZWF0dXJlR3JvdXAoCiAgICAgICAgICAgICAgICApLmFkZFRvKG1hcF84ZGJiMTNjYzliMDA0ZjI1YjliMWM4ODljZmFiMGQ0Zik7CiAgICAgICAgCiAgICAKICAgICAgICAgICAgdmFyIGNpcmNsZV9tYXJrZXJfMjBiYmM4NGU4ODViNGM4MmJlMTYwMjUxYzg2OTQ5ZjIgPSBMLmNpcmNsZU1hcmtlcigKICAgICAgICAgICAgICAgIFsyOS44MDg2MTEsLTk1LjMxMzA1Nl0sCiAgICAgICAgICAgICAgICB7CiAgImJ1YmJsaW5nTW91c2VFdmVudHMiOiB0cnVlLAogICJjb2xvciI6ICJ5ZWxsb3ciLAogICJkYXNoQXJyYXkiOiBudWxsLAogICJkYXNoT2Zmc2V0IjogbnVsbCwKICAiZmlsbCI6IHRydWUsCiAgImZpbGxDb2xvciI6ICJibHVlIiwKICAiZmlsbE9wYWNpdHkiOiAwLjYsCiAgImZpbGxSdWxlIjogImV2ZW5vZGQiLAogICJsaW5lQ2FwIjogInJvdW5kIiwKICAibGluZUpvaW4iOiAicm91bmQiLAogICJvcGFjaXR5IjogMS4wLAogICJyYWRpdXMiOiA1LAogICJzdHJva2UiOiB0cnVlLAogICJ3ZWlnaHQiOiAzCn0KICAgICAgICAgICAgICAgICkuYWRkVG8oZmVhdHVyZV9ncm91cF81ODA3ZTRmYzFhMDY0MDQ0YjQxMjgxYTgyNGE4NzNmZCk7CiAgICAgICAgICAgIAogICAgCiAgICAgICAgICAgIHZhciBjaXJjbGVfbWFya2VyXzBiNjVmMDY4NWVlYjQwOThiZjA0OTIxOGY4OGJhZGFkID0gTC5jaXJjbGVNYXJrZXIoCiAgICAgICAgICAgICAgICBbMjkuNzc1LC05NS4zOTY5NDM5OTk5OTk5OV0sCiAgICAgICAgICAgICAgICB7CiAgImJ1YmJsaW5nTW91c2VFdmVudHMiOiB0cnVlLAogICJjb2xvciI6ICJ5ZWxsb3ciLAogICJkYXNoQXJyYXkiOiBudWxsLAogICJkYXNoT2Zmc2V0IjogbnVsbCwKICAiZmlsbCI6IHRydWUsCiAgImZpbGxDb2xvciI6ICJibHVlIiwKICAiZmlsbE9wYWNpdHkiOiAwLjYsCiAgImZpbGxSdWxlIjogImV2ZW5vZGQiLAogICJsaW5lQ2FwIjogInJvdW5kIiwKICAibGluZUpvaW4iOiAicm91bmQiLAogICJvcGFjaXR5IjogMS4wLAogICJyYWRpdXMiOiA1LAogICJzdHJva2UiOiB0cnVlLAogICJ3ZWlnaHQiOiAzCn0KICAgICAgICAgICAgICAgICkuYWRkVG8oZmVhdHVyZV9ncm91cF81ODA3ZTRmYzFhMDY0MDQ0YjQxMjgxYTgyNGE4NzNmZCk7CiAgICAgICAgICAgIAogICAgCiAgICAgICAgICAgIHZhciBjaXJjbGVfbWFya2VyXzJmZmYzYWQwNzZmZjRlZDhhNWU3Nzk1ZTI2NjA2NjkwID0gTC5jaXJjbGVNYXJrZXIoCiAgICAgICAgICAgICAgICBbMjkuNjk2OTQ0NDQsLTk1LjQxMTk0NDQ0XSwKICAgICAgICAgICAgICAgIHsKICAiYnViYmxpbmdNb3VzZUV2ZW50cyI6IHRydWUsCiAgImNvbG9yIjogInllbGxvdyIsCiAgImRhc2hBcnJheSI6IG51bGwsCiAgImRhc2hPZmZzZXQiOiBudWxsLAogICJmaWxsIjogdHJ1ZSwKICAiZmlsbENvbG9yIjogImJsdWUiLAogICJmaWxsT3BhY2l0eSI6IDAuNiwKICAiZmlsbFJ1bGUiOiAiZXZlbm9kZCIsCiAgImxpbmVDYXAiOiAicm91bmQiLAogICJsaW5lSm9pbiI6ICJyb3VuZCIsCiAgIm9wYWNpdHkiOiAxLjAsCiAgInJhZGl1cyI6IDUsCiAgInN0cm9rZSI6IHRydWUsCiAgIndlaWdodCI6IDMKfQogICAgICAgICAgICAgICAgKS5hZGRUbyhmZWF0dXJlX2dyb3VwXzU4MDdlNGZjMWEwNjQwNDRiNDEyODFhODI0YTg3M2ZkKTsKICAgICAgICAgICAgCiAgICAKICAgICAgICAgICAgdmFyIGNpcmNsZV9tYXJrZXJfMDkwYTFjOWE1OGYzNDE1ZjllZTAwZDAxMzZiZTBkNDEgPSBMLmNpcmNsZU1hcmtlcigKICAgICAgICAgICAgICAgIFsyOS43NjYzODg4OSwtOTUuMzU4MzMzMzNdLAogICAgICAgICAgICAgICAgewogICJidWJibGluZ01vdXNlRXZlbnRzIjogdHJ1ZSwKICAiY29sb3IiOiAieWVsbG93IiwKICAiZGFzaEFycmF5IjogbnVsbCwKICAiZGFzaE9mZnNldCI6IG51bGwsCiAgImZpbGwiOiB0cnVlLAogICJmaWxsQ29sb3IiOiAiYmx1ZSIsCiAgImZpbGxPcGFjaXR5IjogMC42LAogICJmaWxsUnVsZSI6ICJldmVub2RkIiwKICAibGluZUNhcCI6ICJyb3VuZCIsCiAgImxpbmVKb2luIjogInJvdW5kIiwKICAib3BhY2l0eSI6IDEuMCwKICAicmFkaXVzIjogNSwKICAic3Ryb2tlIjogdHJ1ZSwKICAid2VpZ2h0IjogMwp9CiAgICAgICAgICAgICAgICApLmFkZFRvKGZlYXR1cmVfZ3JvdXBfNTgwN2U0ZmMxYTA2NDA0NGI0MTI4MWE4MjRhODczZmQpOwogICAgICAgICAgICAKICAgIAoKICAgICAgICAgICAgdmFyIG1hcmtlcl9kYzViMTdhNTE2OTI0MGNjODExNDRiZTQwY2U3MmEzYyA9IEwubWFya2VyKAogICAgICAgICAgICAgICAgWzI5LjgwODYxMSwtOTUuMzEzMDU2XSwKICAgICAgICAgICAgICAgIHsKICAgICAgICAgICAgICAgICAgICBpY29uOiBuZXcgTC5JY29uLkRlZmF1bHQoKQogICAgICAgICAgICAgICAgICAgIH0KICAgICAgICAgICAgICAgICkKICAgICAgICAgICAgICAgIC5hZGRUbyhtYXBfOGRiYjEzY2M5YjAwNGYyNWI5YjFjODg5Y2ZhYjBkNGYpOwogICAgICAgICAgICAKICAgIAogICAgICAgICAgICB2YXIgcG9wdXBfMTk1NDE1ZDk5M2RhNGY3NmIwMDdiMWI5YzNjNzc1NTkgPSBMLnBvcHVwKHttYXhXaWR0aDogJzMwMCd9KTsKCiAgICAgICAgICAgIAogICAgICAgICAgICAgICAgdmFyIGh0bWxfYTAxMDBmNzI0YjA0NDRmZGE3NGM3MmI2YTRhNDhjYjkgPSAkKCc8ZGl2IGlkPSJodG1sX2EwMTAwZjcyNGIwNDQ0ZmRhNzRjNzJiNmE0YTQ4Y2I5IiBzdHlsZT0id2lkdGg6IDEwMC4wJTsgaGVpZ2h0OiAxMDAuMCU7Ij5IdW50aW5nQmF5b3U8L2Rpdj4nKVswXTsKICAgICAgICAgICAgICAgIHBvcHVwXzE5NTQxNWQ5OTNkYTRmNzZiMDA3YjFiOWMzYzc3NTU5LnNldENvbnRlbnQoaHRtbF9hMDEwMGY3MjRiMDQ0NGZkYTc0YzcyYjZhNGE0OGNiOSk7CiAgICAgICAgICAgIAoKICAgICAgICAgICAgbWFya2VyX2RjNWIxN2E1MTY5MjQwY2M4MTE0NGJlNDBjZTcyYTNjLmJpbmRQb3B1cChwb3B1cF8xOTU0MTVkOTkzZGE0Zjc2YjAwN2IxYjljM2M3NzU1OSk7CgogICAgICAgICAgICAKICAgICAgICAKICAgIAoKICAgICAgICAgICAgdmFyIG1hcmtlcl8xMGFjZjQ0N2M1Zjk0YTQ0YTEwMGNhMWNiZjI2ZTY0NyA9IEwubWFya2VyKAogICAgICAgICAgICAgICAgWzI5Ljc3NSwtOTUuMzk2OTQzOTk5OTk5OTldLAogICAgICAgICAgICAgICAgewogICAgICAgICAgICAgICAgICAgIGljb246IG5ldyBMLkljb24uRGVmYXVsdCgpCiAgICAgICAgICAgICAgICAgICAgfQogICAgICAgICAgICAgICAgKQogICAgICAgICAgICAgICAgLmFkZFRvKG1hcF84ZGJiMTNjYzliMDA0ZjI1YjliMWM4ODljZmFiMGQ0Zik7CiAgICAgICAgICAgIAogICAgCiAgICAgICAgICAgIHZhciBwb3B1cF8zZjg0MGMwYjAzOGE0MTk5YjRjYmI5ZWVhNDU4ZDhiYiA9IEwucG9wdXAoe21heFdpZHRoOiAnMzAwJ30pOwoKICAgICAgICAgICAgCiAgICAgICAgICAgICAgICB2YXIgaHRtbF8yMmVlMjE5ZDJkYWY0M2FmYTQwMjY0MjYyOTMxZmVkOCA9ICQoJzxkaXYgaWQ9Imh0bWxfMjJlZTIxOWQyZGFmNDNhZmE0MDI2NDI2MjkzMWZlZDgiIHN0eWxlPSJ3aWR0aDogMTAwLjAlOyBoZWlnaHQ6IDEwMC4wJTsiPldoaXRlb2FrQmF5b3U8L2Rpdj4nKVswXTsKICAgICAgICAgICAgICAgIHBvcHVwXzNmODQwYzBiMDM4YTQxOTliNGNiYjllZWE0NThkOGJiLnNldENvbnRlbnQoaHRtbF8yMmVlMjE5ZDJkYWY0M2FmYTQwMjY0MjYyOTMxZmVkOCk7CiAgICAgICAgICAgIAoKICAgICAgICAgICAgbWFya2VyXzEwYWNmNDQ3YzVmOTRhNDRhMTAwY2ExY2JmMjZlNjQ3LmJpbmRQb3B1cChwb3B1cF8zZjg0MGMwYjAzOGE0MTk5YjRjYmI5ZWVhNDU4ZDhiYik7CgogICAgICAgICAgICAKICAgICAgICAKICAgIAoKICAgICAgICAgICAgdmFyIG1hcmtlcl8yZDNmMzllOGE1ZTc0YjdiOTlmM2U2OTFkMTA3NTUwYyA9IEwubWFya2VyKAogICAgICAgICAgICAgICAgWzI5LjY5Njk0NDQ0LC05NS40MTE5NDQ0NF0sCiAgICAgICAgICAgICAgICB7CiAgICAgICAgICAgICAgICAgICAgaWNvbjogbmV3IEwuSWNvbi5EZWZhdWx0KCkKICAgICAgICAgICAgICAgICAgICB9CiAgICAgICAgICAgICAgICApCiAgICAgICAgICAgICAgICAuYWRkVG8obWFwXzhkYmIxM2NjOWIwMDRmMjViOWIxYzg4OWNmYWIwZDRmKTsKICAgICAgICAgICAgCiAgICAKICAgICAgICAgICAgdmFyIHBvcHVwXzZmY2I0MTZmMDkxYjRjYzZhODkyMDIzMmFlNmE2NmE1ID0gTC5wb3B1cCh7bWF4V2lkdGg6ICczMDAnfSk7CgogICAgICAgICAgICAKICAgICAgICAgICAgICAgIHZhciBodG1sXzZlY2Y0MWU2NWNlNjQ5ODg4Yzc0NjkwODdjMzY3NTgzID0gJCgnPGRpdiBpZD0iaHRtbF82ZWNmNDFlNjVjZTY0OTg4OGM3NDY5MDg3YzM2NzU4MyIgc3R5bGU9IndpZHRoOiAxMDAuMCU7IGhlaWdodDogMTAwLjAlOyI+QnJheXNCYXlvdTwvZGl2PicpWzBdOwogICAgICAgICAgICAgICAgcG9wdXBfNmZjYjQxNmYwOTFiNGNjNmE4OTIwMjMyYWU2YTY2YTUuc2V0Q29udGVudChodG1sXzZlY2Y0MWU2NWNlNjQ5ODg4Yzc0NjkwODdjMzY3NTgzKTsKICAgICAgICAgICAgCgogICAgICAgICAgICBtYXJrZXJfMmQzZjM5ZThhNWU3NGI3Yjk5ZjNlNjkxZDEwNzU1MGMuYmluZFBvcHVwKHBvcHVwXzZmY2I0MTZmMDkxYjRjYzZhODkyMDIzMmFlNmE2NmE1KTsKCiAgICAgICAgICAgIAogICAgICAgIAogICAgCgogICAgICAgICAgICB2YXIgbWFya2VyXzk1Mjk2ZTRhYzk3YTQzNGY5M2Y4ZTdlNTFlOWY3Yzc2ID0gTC5tYXJrZXIoCiAgICAgICAgICAgICAgICBbMjkuNzY2Mzg4ODksLTk1LjM1ODMzMzMzXSwKICAgICAgICAgICAgICAgIHsKICAgICAgICAgICAgICAgICAgICBpY29uOiBuZXcgTC5JY29uLkRlZmF1bHQoKQogICAgICAgICAgICAgICAgICAgIH0KICAgICAgICAgICAgICAgICkKICAgICAgICAgICAgICAgIC5hZGRUbyhtYXBfOGRiYjEzY2M5YjAwNGYyNWI5YjFjODg5Y2ZhYjBkNGYpOwogICAgICAgICAgICAKICAgIAogICAgICAgICAgICB2YXIgcG9wdXBfNzdiMmY1MTBkMjBiNGU0Y2I5MzNiOTVlMjE1ZGRjNDggPSBMLnBvcHVwKHttYXhXaWR0aDogJzMwMCd9KTsKCiAgICAgICAgICAgIAogICAgICAgICAgICAgICAgdmFyIGh0bWxfMzVkZjBmOTAyYWEzNGZiZDk3NjhjYTkzYWE3OTI3Y2YgPSAkKCc8ZGl2IGlkPSJodG1sXzM1ZGYwZjkwMmFhMzRmYmQ5NzY4Y2E5M2FhNzkyN2NmIiBzdHlsZT0id2lkdGg6IDEwMC4wJTsgaGVpZ2h0OiAxMDAuMCU7Ij5XaGl0ZW9ha0JheW91TWFpblN0PC9kaXY+JylbMF07CiAgICAgICAgICAgICAgICBwb3B1cF83N2IyZjUxMGQyMGI0ZTRjYjkzM2I5NWUyMTVkZGM0OC5zZXRDb250ZW50KGh0bWxfMzVkZjBmOTAyYWEzNGZiZDk3NjhjYTkzYWE3OTI3Y2YpOwogICAgICAgICAgICAKCiAgICAgICAgICAgIG1hcmtlcl85NTI5NmU0YWM5N2E0MzRmOTNmOGU3ZTUxZTlmN2M3Ni5iaW5kUG9wdXAocG9wdXBfNzdiMmY1MTBkMjBiNGU0Y2I5MzNiOTVlMjE1ZGRjNDgpOwoKICAgICAgICAgICAgCiAgICAgICAgCiAgICAKICAgICAgICAgICAgdmFyIGZlYXR1cmVfZ3JvdXBfNjM4M2E4N2U3YTM5NDZiOGEzNWVmZTY1MmYxNzdjZGMgPSBMLmZlYXR1cmVHcm91cCgKICAgICAgICAgICAgICAgICkuYWRkVG8obWFwXzhkYmIxM2NjOWIwMDRmMjViOWIxYzg4OWNmYWIwZDRmKTsKICAgICAgICAKICAgIAogICAgICAgICAgICB2YXIgY2lyY2xlX21hcmtlcl9mM2MwYWJkZTRkNTI0NWRjOGM0NmU3M2RmMGU3NGVlMCA9IEwuY2lyY2xlTWFya2VyKAogICAgICAgICAgICAgICAgWzI5LjgwODYxMSwtOTUuMzEzMDU2XSwKICAgICAgICAgICAgICAgIHsKICAiYnViYmxpbmdNb3VzZUV2ZW50cyI6IHRydWUsCiAgImNvbG9yIjogInllbGxvdyIsCiAgImRhc2hBcnJheSI6IG51bGwsCiAgImRhc2hPZmZzZXQiOiBudWxsLAogICJmaWxsIjogdHJ1ZSwKICAiZmlsbENvbG9yIjogImJsdWUiLAogICJmaWxsT3BhY2l0eSI6IDAuNiwKICAiZmlsbFJ1bGUiOiAiZXZlbm9kZCIsCiAgImxpbmVDYXAiOiAicm91bmQiLAogICJsaW5lSm9pbiI6ICJyb3VuZCIsCiAgIm9wYWNpdHkiOiAxLjAsCiAgInJhZGl1cyI6IDUsCiAgInN0cm9rZSI6IHRydWUsCiAgIndlaWdodCI6IDMKfQogICAgICAgICAgICAgICAgKS5hZGRUbyhmZWF0dXJlX2dyb3VwXzYzODNhODdlN2EzOTQ2YjhhMzVlZmU2NTJmMTc3Y2RjKTsKICAgICAgICAgICAgCiAgICAKICAgICAgICAgICAgdmFyIGNpcmNsZV9tYXJrZXJfYjhiOTc5ZTllY2I5NGE2YmI5MWQ4MDg4MjgzN2E4YjAgPSBMLmNpcmNsZU1hcmtlcigKICAgICAgICAgICAgICAgIFsyOS43NzUsLTk1LjM5Njk0Mzk5OTk5OTk5XSwKICAgICAgICAgICAgICAgIHsKICAiYnViYmxpbmdNb3VzZUV2ZW50cyI6IHRydWUsCiAgImNvbG9yIjogInllbGxvdyIsCiAgImRhc2hBcnJheSI6IG51bGwsCiAgImRhc2hPZmZzZXQiOiBudWxsLAogICJmaWxsIjogdHJ1ZSwKICAiZmlsbENvbG9yIjogImJsdWUiLAogICJmaWxsT3BhY2l0eSI6IDAuNiwKICAiZmlsbFJ1bGUiOiAiZXZlbm9kZCIsCiAgImxpbmVDYXAiOiAicm91bmQiLAogICJsaW5lSm9pbiI6ICJyb3VuZCIsCiAgIm9wYWNpdHkiOiAxLjAsCiAgInJhZGl1cyI6IDUsCiAgInN0cm9rZSI6IHRydWUsCiAgIndlaWdodCI6IDMKfQogICAgICAgICAgICAgICAgKS5hZGRUbyhmZWF0dXJlX2dyb3VwXzYzODNhODdlN2EzOTQ2YjhhMzVlZmU2NTJmMTc3Y2RjKTsKICAgICAgICAgICAgCiAgICAKICAgICAgICAgICAgdmFyIGNpcmNsZV9tYXJrZXJfZTcxZDZmYTczMmE4NDE0ZTk5NDY0ODY4OTMyMWEyN2UgPSBMLmNpcmNsZU1hcmtlcigKICAgICAgICAgICAgICAgIFsyOS42OTY5NDQ0NCwtOTUuNDExOTQ0NDRdLAogICAgICAgICAgICAgICAgewogICJidWJibGluZ01vdXNlRXZlbnRzIjogdHJ1ZSwKICAiY29sb3IiOiAieWVsbG93IiwKICAiZGFzaEFycmF5IjogbnVsbCwKICAiZGFzaE9mZnNldCI6IG51bGwsCiAgImZpbGwiOiB0cnVlLAogICJmaWxsQ29sb3IiOiAiYmx1ZSIsCiAgImZpbGxPcGFjaXR5IjogMC42LAogICJmaWxsUnVsZSI6ICJldmVub2RkIiwKICAibGluZUNhcCI6ICJyb3VuZCIsCiAgImxpbmVKb2luIjogInJvdW5kIiwKICAib3BhY2l0eSI6IDEuMCwKICAicmFkaXVzIjogNSwKICAic3Ryb2tlIjogdHJ1ZSwKICAid2VpZ2h0IjogMwp9CiAgICAgICAgICAgICAgICApLmFkZFRvKGZlYXR1cmVfZ3JvdXBfNjM4M2E4N2U3YTM5NDZiOGEzNWVmZTY1MmYxNzdjZGMpOwogICAgICAgICAgICAKICAgIAogICAgICAgICAgICB2YXIgY2lyY2xlX21hcmtlcl9hMjYwNmZmNjgwYTY0NTJlOWE1ZjViMzUzYzE2MTU2YiA9IEwuY2lyY2xlTWFya2VyKAogICAgICAgICAgICAgICAgWzI5Ljc2NjM4ODg5LC05NS4zNTgzMzMzM10sCiAgICAgICAgICAgICAgICB7CiAgImJ1YmJsaW5nTW91c2VFdmVudHMiOiB0cnVlLAogICJjb2xvciI6ICJ5ZWxsb3ciLAogICJkYXNoQXJyYXkiOiBudWxsLAogICJkYXNoT2Zmc2V0IjogbnVsbCwKICAiZmlsbCI6IHRydWUsCiAgImZpbGxDb2xvciI6ICJibHVlIiwKICAiZmlsbE9wYWNpdHkiOiAwLjYsCiAgImZpbGxSdWxlIjogImV2ZW5vZGQiLAogICJsaW5lQ2FwIjogInJvdW5kIiwKICAibGluZUpvaW4iOiAicm91bmQiLAogICJvcGFjaXR5IjogMS4wLAogICJyYWRpdXMiOiA1LAogICJzdHJva2UiOiB0cnVlLAogICJ3ZWlnaHQiOiAzCn0KICAgICAgICAgICAgICAgICkuYWRkVG8oZmVhdHVyZV9ncm91cF82MzgzYTg3ZTdhMzk0NmI4YTM1ZWZlNjUyZjE3N2NkYyk7CiAgICAgICAgICAgIAogICAgCiAgICAgICAgICAgICAgICB2YXIgbGF0X2xuZ19wb3B1cF9kOGVjMGY5MDA1MmI0ZmU0ODRkN2JhOTQ0YjQ1ZTgxNyA9IEwucG9wdXAoKTsKICAgICAgICAgICAgICAgIGZ1bmN0aW9uIGxhdExuZ1BvcChlKSB7CiAgICAgICAgICAgICAgICAgICAgbGF0X2xuZ19wb3B1cF9kOGVjMGY5MDA1MmI0ZmU0ODRkN2JhOTQ0YjQ1ZTgxNwogICAgICAgICAgICAgICAgICAgICAgICAuc2V0TGF0TG5nKGUubGF0bG5nKQogICAgICAgICAgICAgICAgICAgICAgICAuc2V0Q29udGVudCgiTGF0aXR1ZGU6ICIgKyBlLmxhdGxuZy5sYXQudG9GaXhlZCg0KSArCiAgICAgICAgICAgICAgICAgICAgICAgICAgICAgICAgICAgICI8YnI+TG9uZ2l0dWRlOiAiICsgZS5sYXRsbmcubG5nLnRvRml4ZWQoNCkpCiAgICAgICAgICAgICAgICAgICAgICAgIC5vcGVuT24obWFwXzhkYmIxM2NjOWIwMDRmMjViOWIxYzg4OWNmYWIwZDRmKTsKICAgICAgICAgICAgICAgICAgICB9CiAgICAgICAgICAgICAgICBtYXBfOGRiYjEzY2M5YjAwNGYyNWI5YjFjODg5Y2ZhYjBkNGYub24oJ2NsaWNrJywgbGF0TG5nUG9wKTsKICAgICAgICAgICAgCiAgICAKICAgICAgICAgICAgICAgIGZ1bmN0aW9uIG5ld01hcmtlcihlKXsKICAgICAgICAgICAgICAgICAgICB2YXIgbmV3X21hcmsgPSBMLm1hcmtlcigpLnNldExhdExuZyhlLmxhdGxuZykuYWRkVG8obWFwXzhkYmIxM2NjOWIwMDRmMjViOWIxYzg4OWNmYWIwZDRmKTsKICAgICAgICAgICAgICAgICAgICBuZXdfbWFyay5kcmFnZ2luZy5lbmFibGUoKTsKICAgICAgICAgICAgICAgICAgICBuZXdfbWFyay5vbignZGJsY2xpY2snLCBmdW5jdGlvbihlKXsgbWFwXzhkYmIxM2NjOWIwMDRmMjViOWIxYzg4OWNmYWIwZDRmLnJlbW92ZUxheWVyKGUudGFyZ2V0KX0pCiAgICAgICAgICAgICAgICAgICAgdmFyIGxhdCA9IGUubGF0bG5nLmxhdC50b0ZpeGVkKDQpLAogICAgICAgICAgICAgICAgICAgICAgIGxuZyA9IGUubGF0bG5nLmxuZy50b0ZpeGVkKDQpOwogICAgICAgICAgICAgICAgICAgIG5ld19tYXJrLmJpbmRQb3B1cCgiTXkgSG91c2UiKTsKICAgICAgICAgICAgICAgICAgICB9OwogICAgICAgICAgICAgICAgbWFwXzhkYmIxM2NjOWIwMDRmMjViOWIxYzg4OWNmYWIwZDRmLm9uKCdjbGljaycsIG5ld01hcmtlcik7CiAgICAgICAgICAgIAogICAgCiAgICAgICAgICAgICAgICBmdW5jdGlvbiBuZXdNYXJrZXIoZSl7CiAgICAgICAgICAgICAgICAgICAgdmFyIG5ld19tYXJrID0gTC5tYXJrZXIoKS5zZXRMYXRMbmcoZS5sYXRsbmcpLmFkZFRvKG1hcF84ZGJiMTNjYzliMDA0ZjI1YjliMWM4ODljZmFiMGQ0Zik7CiAgICAgICAgICAgICAgICAgICAgbmV3X21hcmsuZHJhZ2dpbmcuZW5hYmxlKCk7CiAgICAgICAgICAgICAgICAgICAgbmV3X21hcmsub24oJ2RibGNsaWNrJywgZnVuY3Rpb24oZSl7IG1hcF84ZGJiMTNjYzliMDA0ZjI1YjliMWM4ODljZmFiMGQ0Zi5yZW1vdmVMYXllcihlLnRhcmdldCl9KQogICAgICAgICAgICAgICAgICAgIHZhciBsYXQgPSBlLmxhdGxuZy5sYXQudG9GaXhlZCg0KSwKICAgICAgICAgICAgICAgICAgICAgICBsbmcgPSBlLmxhdGxuZy5sbmcudG9GaXhlZCg0KTsKICAgICAgICAgICAgICAgICAgICBuZXdfbWFyay5iaW5kUG9wdXAoIk15IEhvdXNlIik7CiAgICAgICAgICAgICAgICAgICAgfTsKICAgICAgICAgICAgICAgIG1hcF84ZGJiMTNjYzliMDA0ZjI1YjliMWM4ODljZmFiMGQ0Zi5vbignY2xpY2snLCBuZXdNYXJrZXIpOwogICAgICAgICAgICAKPC9zY3JpcHQ+\" style=\"position:absolute;width:100%;height:100%;left:0;top:0;border:none !important;\" allowfullscreen webkitallowfullscreen mozallowfullscreen></iframe></div></div>"
      ],
      "text/plain": [
       "<folium.folium.Map at 0x2ba2e747c860>"
      ]
     },
     "execution_count": 32,
     "metadata": {},
     "output_type": "execute_result"
    }
   ],
   "source": [
    "houston_map.add_child(folium.ClickForMarker(popup='My House'))"
   ]
  }
 ],
 "metadata": {
  "kernelspec": {
   "display_name": "Python 3.5 with Spark",
   "language": "python3",
   "name": "python3"
  },
  "language_info": {
   "codemirror_mode": {
    "name": "ipython",
    "version": 3
   },
   "file_extension": ".py",
   "mimetype": "text/x-python",
   "name": "python",
   "nbconvert_exporter": "python",
   "pygments_lexer": "ipython3",
   "version": "3.5.4"
  }
 },
 "nbformat": 4,
 "nbformat_minor": 1
}
